{
 "cells": [
  {
   "cell_type": "code",
   "execution_count": 0,
   "metadata": {
    "application/vnd.databricks.v1+cell": {
     "cellMetadata": {
      "byteLimit": 2048000,
      "rowLimit": 10000
     },
     "inputWidgets": {},
     "nuid": "69a6b6fb-9409-412d-8b90-a9a857af708c",
     "showTitle": false,
     "tableResultSettingsMap": {},
     "title": ""
    }
   },
   "outputs": [
    {
     "output_type": "stream",
     "name": "stdout",
     "output_type": "stream",
     "text": [
      "Python interpreter will be restarted.\nRequirement already satisfied: requests in /databricks/python3/lib/python3.9/site-packages (2.27.1)\nRequirement already satisfied: beautifulsoup4 in /databricks/python3/lib/python3.9/site-packages (4.11.1)\nRequirement already satisfied: pandas in /databricks/python3/lib/python3.9/site-packages (1.4.2)\nRequirement already satisfied: lxml in /local_disk0/.ephemeral_nfs/envs/pythonEnv-5b9a1609-9986-46c3-addb-7eec4ce394f8/lib/python3.9/site-packages (5.4.0)\nRequirement already satisfied: charset-normalizer~=2.0.0 in /databricks/python3/lib/python3.9/site-packages (from requests) (2.0.4)\nRequirement already satisfied: idna<4,>=2.5 in /databricks/python3/lib/python3.9/site-packages (from requests) (3.3)\nRequirement already satisfied: certifi>=2017.4.17 in /local_disk0/.ephemeral_nfs/envs/pythonEnv-5b9a1609-9986-46c3-addb-7eec4ce394f8/lib/python3.9/site-packages (from requests) (2025.4.26)\nCollecting urllib3<1.27,>=1.21.1\n  Downloading urllib3-1.26.20-py2.py3-none-any.whl (144 kB)\nRequirement already satisfied: soupsieve>1.2 in /databricks/python3/lib/python3.9/site-packages (from beautifulsoup4) (2.3.1)\nRequirement already satisfied: python-dateutil>=2.8.1 in /databricks/python3/lib/python3.9/site-packages (from pandas) (2.8.2)\nRequirement already satisfied: numpy>=1.18.5 in /databricks/python3/lib/python3.9/site-packages (from pandas) (1.21.5)\nRequirement already satisfied: pytz>=2020.1 in /databricks/python3/lib/python3.9/site-packages (from pandas) (2021.3)\nRequirement already satisfied: six>=1.5 in /databricks/python3/lib/python3.9/site-packages (from python-dateutil>=2.8.1->pandas) (1.16.0)\nInstalling collected packages: urllib3\n  Attempting uninstall: urllib3\n    Found existing installation: urllib3 2.4.0\n    Uninstalling urllib3-2.4.0:\n      Successfully uninstalled urllib3-2.4.0\nERROR: pip's dependency resolver does not currently take into account all the packages that are installed. This behaviour is the source of the following dependency conflicts.\nselenium 4.33.0 requires urllib3[socks]~=2.4.0, but you have urllib3 1.26.20 which is incompatible.\nSuccessfully installed urllib3-1.26.20\nPython interpreter will be restarted.\nPython interpreter will be restarted.\nRequirement already satisfied: lxml in /local_disk0/.ephemeral_nfs/envs/pythonEnv-5b9a1609-9986-46c3-addb-7eec4ce394f8/lib/python3.9/site-packages (5.4.0)\nPython interpreter will be restarted.\nPython interpreter will be restarted.\nRequirement already satisfied: selenium in /local_disk0/.ephemeral_nfs/envs/pythonEnv-5b9a1609-9986-46c3-addb-7eec4ce394f8/lib/python3.9/site-packages (4.33.0)\nCollecting urllib3[socks]~=2.4.0\n  Using cached urllib3-2.4.0-py3-none-any.whl (128 kB)\nRequirement already satisfied: certifi>=2025.4.26 in /local_disk0/.ephemeral_nfs/envs/pythonEnv-5b9a1609-9986-46c3-addb-7eec4ce394f8/lib/python3.9/site-packages (from selenium) (2025.4.26)\nRequirement already satisfied: trio-websocket~=0.12.2 in /local_disk0/.ephemeral_nfs/envs/pythonEnv-5b9a1609-9986-46c3-addb-7eec4ce394f8/lib/python3.9/site-packages (from selenium) (0.12.2)\nRequirement already satisfied: trio~=0.30.0 in /local_disk0/.ephemeral_nfs/envs/pythonEnv-5b9a1609-9986-46c3-addb-7eec4ce394f8/lib/python3.9/site-packages (from selenium) (0.30.0)\nRequirement already satisfied: websocket-client~=1.8.0 in /local_disk0/.ephemeral_nfs/envs/pythonEnv-5b9a1609-9986-46c3-addb-7eec4ce394f8/lib/python3.9/site-packages (from selenium) (1.8.0)\nRequirement already satisfied: typing_extensions~=4.13.2 in /local_disk0/.ephemeral_nfs/envs/pythonEnv-5b9a1609-9986-46c3-addb-7eec4ce394f8/lib/python3.9/site-packages (from selenium) (4.13.2)\nRequirement already satisfied: attrs>=23.2.0 in /local_disk0/.ephemeral_nfs/envs/pythonEnv-5b9a1609-9986-46c3-addb-7eec4ce394f8/lib/python3.9/site-packages (from trio~=0.30.0->selenium) (25.3.0)\nRequirement already satisfied: exceptiongroup in /local_disk0/.ephemeral_nfs/envs/pythonEnv-5b9a1609-9986-46c3-addb-7eec4ce394f8/lib/python3.9/site-packages (from trio~=0.30.0->selenium) (1.3.0)\nRequirement already satisfied: idna in /databricks/python3/lib/python3.9/site-packages (from trio~=0.30.0->selenium) (3.3)\nRequirement already satisfied: sniffio>=1.3.0 in /local_disk0/.ephemeral_nfs/envs/pythonEnv-5b9a1609-9986-46c3-addb-7eec4ce394f8/lib/python3.9/site-packages (from trio~=0.30.0->selenium) (1.3.1)\nRequirement already satisfied: outcome in /local_disk0/.ephemeral_nfs/envs/pythonEnv-5b9a1609-9986-46c3-addb-7eec4ce394f8/lib/python3.9/site-packages (from trio~=0.30.0->selenium) (1.3.0.post0)\nRequirement already satisfied: sortedcontainers in /local_disk0/.ephemeral_nfs/envs/pythonEnv-5b9a1609-9986-46c3-addb-7eec4ce394f8/lib/python3.9/site-packages (from trio~=0.30.0->selenium) (2.4.0)\nRequirement already satisfied: wsproto>=0.14 in /local_disk0/.ephemeral_nfs/envs/pythonEnv-5b9a1609-9986-46c3-addb-7eec4ce394f8/lib/python3.9/site-packages (from trio-websocket~=0.12.2->selenium) (1.2.0)\nRequirement already satisfied: pysocks!=1.5.7,<2.0,>=1.5.6 in /local_disk0/.ephemeral_nfs/envs/pythonEnv-5b9a1609-9986-46c3-addb-7eec4ce394f8/lib/python3.9/site-packages (from urllib3[socks]~=2.4.0->selenium) (1.7.1)\nRequirement already satisfied: h11<1,>=0.9.0 in /local_disk0/.ephemeral_nfs/envs/pythonEnv-5b9a1609-9986-46c3-addb-7eec4ce394f8/lib/python3.9/site-packages (from wsproto>=0.14->trio-websocket~=0.12.2->selenium) (0.16.0)\nInstalling collected packages: urllib3\n  Attempting uninstall: urllib3\n    Found existing installation: urllib3 1.26.20\n    Uninstalling urllib3-1.26.20:\n      Successfully uninstalled urllib3-1.26.20\nERROR: pip's dependency resolver does not currently take into account all the packages that are installed. This behaviour is the source of the following dependency conflicts.\nrequests 2.27.1 requires urllib3<1.27,>=1.21.1, but you have urllib3 2.4.0 which is incompatible.\nbotocore 1.24.32 requires urllib3<1.27,>=1.25.4, but you have urllib3 2.4.0 which is incompatible.\nSuccessfully installed urllib3-2.4.0\nPython interpreter will be restarted.\nPython interpreter will be restarted.\nCollecting webdriver_manager\n  Downloading webdriver_manager-4.0.2-py2.py3-none-any.whl (27 kB)\nRequirement already satisfied: packaging in /databricks/python3/lib/python3.9/site-packages (from webdriver_manager) (21.3)\nRequirement already satisfied: requests in /databricks/python3/lib/python3.9/site-packages (from webdriver_manager) (2.27.1)\nCollecting python-dotenv\n  Downloading python_dotenv-1.1.0-py3-none-any.whl (20 kB)\nRequirement already satisfied: pyparsing!=3.0.5,>=2.0.2 in /databricks/python3/lib/python3.9/site-packages (from packaging->webdriver_manager) (3.0.4)\nRequirement already satisfied: charset-normalizer~=2.0.0 in /databricks/python3/lib/python3.9/site-packages (from requests->webdriver_manager) (2.0.4)\nRequirement already satisfied: idna<4,>=2.5 in /databricks/python3/lib/python3.9/site-packages (from requests->webdriver_manager) (3.3)\nRequirement already satisfied: certifi>=2017.4.17 in /local_disk0/.ephemeral_nfs/envs/pythonEnv-5b9a1609-9986-46c3-addb-7eec4ce394f8/lib/python3.9/site-packages (from requests->webdriver_manager) (2025.4.26)\nCollecting urllib3<1.27,>=1.21.1\n  Using cached urllib3-1.26.20-py2.py3-none-any.whl (144 kB)\nInstalling collected packages: urllib3, python-dotenv, webdriver-manager\n  Attempting uninstall: urllib3\n    Found existing installation: urllib3 2.4.0\n    Uninstalling urllib3-2.4.0:\n      Successfully uninstalled urllib3-2.4.0\nERROR: pip's dependency resolver does not currently take into account all the packages that are installed. This behaviour is the source of the following dependency conflicts.\nselenium 4.33.0 requires urllib3[socks]~=2.4.0, but you have urllib3 1.26.20 which is incompatible.\nSuccessfully installed python-dotenv-1.1.0 urllib3-1.26.20 webdriver-manager-4.0.2\nPython interpreter will be restarted.\n"
     ]
    }
   ],
   "source": [
    "%pip install requests beautifulsoup4 pandas lxml\n",
    "%pip install lxml\n",
    "%pip install selenium\n",
    "%pip install webdriver_manager"
   ]
  },
  {
   "cell_type": "code",
   "execution_count": 0,
   "metadata": {
    "application/vnd.databricks.v1+cell": {
     "cellMetadata": {
      "byteLimit": 2048000,
      "rowLimit": 10000
     },
     "inputWidgets": {},
     "nuid": "00e0e9cb-4ed2-432d-8b4f-5472afb116bb",
     "showTitle": false,
     "tableResultSettingsMap": {},
     "title": ""
    }
   },
   "outputs": [
    {
     "output_type": "display_data",
     "data": {
      "application/vnd.databricks.v1+bamboolib_hint": "{\"pd.DataFrames\": [], \"version\": \"0.0.1\"}",
      "text/plain": []
     },
     "metadata": {},
     "output_type": "display_data"
    }
   ],
   "source": [
    "# STEP 2: Import libraries\n",
    "import pandas as pd\n",
    "import requests\n",
    "import re\n",
    " \n",
    "# STEP 3: Download the HTML page\n",
    "url = \"https://ibex.bg/markets/dam/day-ahead-prices-and-volumes-v2-0-2/\"\n",
    "headers = {\"User-Agent\": \"Mozilla/5.0\"}  # Pretend like a browser\n",
    "response = requests.get(url, headers=headers)\n",
    "html = response.content\n",
    " \n",
    "# STEP 4: Read all tables from the page\n",
    "tables = pd.read_html(html)\n",
    " \n",
    "# STEP 5: Keep only the 3 real tables (skip tables[0])\n",
    "table_peak_offpeak = tables[1]\n",
    "table_hourly_raw = tables[2]\n",
    "table_daily_summary = tables[3]\n",
    " \n",
    "# STEP 6: Clean hourly table (alternate rows: prices and volumes)\n",
    "hour_labels = table_hourly_raw.iloc[::2, 0].values\n",
    "eur_prices = table_hourly_raw.iloc[::2, 1].values\n",
    "volumes = table_hourly_raw.iloc[1::2, 1].values\n",
    " \n",
    "table_hourly = pd.DataFrame({\n",
    "    \"Hour\": hour_labels,\n",
    "    \"Price_EUR_per_MWh\": eur_prices,\n",
    "    \"Volume_MWh\": volumes\n",
    "})\n",
    " \n",
    "# STEP 7: Clean column names for Spark compatibility\n",
    "def clean_column_names(df):\n",
    "    df.columns = [\n",
    "        re.sub(r\"[^\\w]\", \"_\", col).strip(\"_\")  # keep only letters, digits, underscore\n",
    "        for col in df.columns\n",
    "    ]\n",
    "    return df\n",
    " \n",
    "table_hourly = clean_column_names(table_hourly)\n",
    "table_daily_summary = clean_column_names(table_daily_summary)\n",
    "table_peak_offpeak = clean_column_names(table_peak_offpeak)\n",
    " \n",
    "# STEP 8: Convert to Spark DataFrames\n",
    "spark_df1 = spark.createDataFrame(table_hourly)\n",
    "spark_df2 = spark.createDataFrame(table_daily_summary)\n",
    "spark_df3 = spark.createDataFrame(table_peak_offpeak)\n",
    " \n",
    "# STEP 9: Save as Databricks tables\n",
    "spark_df1.write.mode(\"overwrite\").saveAsTable(\"ibex_hourly_prices_volumes\")\n",
    "spark_df2.write.mode(\"overwrite\").saveAsTable(\"ibex_daily_summary\")\n",
    "spark_df3.write.mode(\"overwrite\").saveAsTable(\"ibex_peak_offpeak_summary\")\n",
    " "
   ]
  },
  {
   "cell_type": "code",
   "execution_count": 0,
   "metadata": {
    "application/vnd.databricks.v1+cell": {
     "cellMetadata": {
      "byteLimit": 2048000,
      "rowLimit": 10000
     },
     "inputWidgets": {},
     "nuid": "f633ad4a-4414-4f34-8bdd-e59aebf7ab0e",
     "showTitle": false,
     "tableResultSettingsMap": {},
     "title": ""
    }
   },
   "outputs": [
    {
     "output_type": "display_data",
     "data": {
      "text/html": [
       "<style scoped>\n",
       "  .table-result-container {\n",
       "    max-height: 300px;\n",
       "    overflow: auto;\n",
       "  }\n",
       "  table, th, td {\n",
       "    border: 1px solid black;\n",
       "    border-collapse: collapse;\n",
       "  }\n",
       "  th, td {\n",
       "    padding: 5px;\n",
       "  }\n",
       "  th {\n",
       "    text-align: left;\n",
       "  }\n",
       "</style><div class='table-result-container'><table class='table-result'><thead style='background-color: white'><tr><th>Hour</th><th>Price_EUR_per_MWh</th><th>Volume_MWh</th></tr></thead><tbody><tr><td>0 - 1</td><td>EUR/MWh</td><td>MWh</td></tr><tr><td>1 - 2</td><td>EUR/MWh</td><td>MWh</td></tr><tr><td>2 - 3</td><td>EUR/MWh</td><td>MWh</td></tr><tr><td>2 - 3A</td><td>EUR/MWh</td><td>MWh</td></tr><tr><td>3 - 4</td><td>EUR/MWh</td><td>MWh</td></tr><tr><td>4 - 5</td><td>EUR/MWh</td><td>MWh</td></tr><tr><td>5 - 6</td><td>EUR/MWh</td><td>MWh</td></tr><tr><td>6 - 7</td><td>EUR/MWh</td><td>MWh</td></tr><tr><td>7 - 8</td><td>EUR/MWh</td><td>MWh</td></tr><tr><td>8 - 9</td><td>EUR/MWh</td><td>MWh</td></tr><tr><td>9 - 10</td><td>EUR/MWh</td><td>MWh</td></tr><tr><td>10 - 11</td><td>EUR/MWh</td><td>MWh</td></tr><tr><td>11 - 12</td><td>EUR/MWh</td><td>MWh</td></tr><tr><td>12 - 13</td><td>EUR/MWh</td><td>MWh</td></tr><tr><td>13 - 14</td><td>EUR/MWh</td><td>MWh</td></tr><tr><td>14 - 15</td><td>EUR/MWh</td><td>MWh</td></tr><tr><td>15 - 16</td><td>EUR/MWh</td><td>MWh</td></tr><tr><td>16 - 17</td><td>EUR/MWh</td><td>MWh</td></tr><tr><td>17 - 18</td><td>EUR/MWh</td><td>MWh</td></tr><tr><td>18 - 19</td><td>EUR/MWh</td><td>MWh</td></tr><tr><td>19 - 20</td><td>EUR/MWh</td><td>MWh</td></tr><tr><td>20 - 21</td><td>EUR/MWh</td><td>MWh</td></tr><tr><td>21 - 22</td><td>EUR/MWh</td><td>MWh</td></tr><tr><td>22 - 23</td><td>EUR/MWh</td><td>MWh</td></tr><tr><td>23 - 24</td><td>EUR/MWh</td><td>MWh</td></tr></tbody></table></div>"
      ]
     },
     "metadata": {
      "application/vnd.databricks.v1+output": {
       "addedWidgets": {},
       "aggData": [],
       "aggError": "",
       "aggOverflow": false,
       "aggSchema": [],
       "aggSeriesLimitReached": false,
       "aggType": "",
       "arguments": {},
       "columnCustomDisplayInfos": {},
       "data": [
        [
         "0 - 1",
         "EUR/MWh",
         "MWh"
        ],
        [
         "1 - 2",
         "EUR/MWh",
         "MWh"
        ],
        [
         "2 - 3",
         "EUR/MWh",
         "MWh"
        ],
        [
         "2 - 3A",
         "EUR/MWh",
         "MWh"
        ],
        [
         "3 - 4",
         "EUR/MWh",
         "MWh"
        ],
        [
         "4 - 5",
         "EUR/MWh",
         "MWh"
        ],
        [
         "5 - 6",
         "EUR/MWh",
         "MWh"
        ],
        [
         "6 - 7",
         "EUR/MWh",
         "MWh"
        ],
        [
         "7 - 8",
         "EUR/MWh",
         "MWh"
        ],
        [
         "8 - 9",
         "EUR/MWh",
         "MWh"
        ],
        [
         "9 - 10",
         "EUR/MWh",
         "MWh"
        ],
        [
         "10 - 11",
         "EUR/MWh",
         "MWh"
        ],
        [
         "11 - 12",
         "EUR/MWh",
         "MWh"
        ],
        [
         "12 - 13",
         "EUR/MWh",
         "MWh"
        ],
        [
         "13 - 14",
         "EUR/MWh",
         "MWh"
        ],
        [
         "14 - 15",
         "EUR/MWh",
         "MWh"
        ],
        [
         "15 - 16",
         "EUR/MWh",
         "MWh"
        ],
        [
         "16 - 17",
         "EUR/MWh",
         "MWh"
        ],
        [
         "17 - 18",
         "EUR/MWh",
         "MWh"
        ],
        [
         "18 - 19",
         "EUR/MWh",
         "MWh"
        ],
        [
         "19 - 20",
         "EUR/MWh",
         "MWh"
        ],
        [
         "20 - 21",
         "EUR/MWh",
         "MWh"
        ],
        [
         "21 - 22",
         "EUR/MWh",
         "MWh"
        ],
        [
         "22 - 23",
         "EUR/MWh",
         "MWh"
        ],
        [
         "23 - 24",
         "EUR/MWh",
         "MWh"
        ]
       ],
       "datasetInfos": [],
       "dbfsResultPath": null,
       "isJsonSchema": true,
       "metadata": {},
       "overflow": false,
       "plotOptions": {
        "customPlotOptions": {},
        "displayType": "table",
        "pivotAggregation": null,
        "pivotColumns": null,
        "xColumns": null,
        "yColumns": null
       },
       "removedWidgets": [],
       "schema": [
        {
         "metadata": "{}",
         "name": "Hour",
         "type": "\"string\""
        },
        {
         "metadata": "{}",
         "name": "Price_EUR_per_MWh",
         "type": "\"string\""
        },
        {
         "metadata": "{}",
         "name": "Volume_MWh",
         "type": "\"string\""
        }
       ],
       "type": "table"
      }
     },
     "output_type": "display_data"
    }
   ],
   "source": [
    "display(spark.sql(\"SELECT * FROM ibex_hourly_prices_volumes\"))"
   ]
  },
  {
   "cell_type": "code",
   "execution_count": 0,
   "metadata": {
    "application/vnd.databricks.v1+cell": {
     "cellMetadata": {
      "byteLimit": 2048000,
      "rowLimit": 10000
     },
     "inputWidgets": {},
     "nuid": "e84ebb03-274a-4290-b1c0-50049e8fff43",
     "showTitle": false,
     "tableResultSettingsMap": {},
     "title": ""
    }
   },
   "outputs": [
    {
     "output_type": "display_data",
     "data": {
      "text/html": [
       "<style scoped>\n",
       "  .table-result-container {\n",
       "    max-height: 300px;\n",
       "    overflow: auto;\n",
       "  }\n",
       "  table, th, td {\n",
       "    border: 1px solid black;\n",
       "    border-collapse: collapse;\n",
       "  }\n",
       "  th, td {\n",
       "    padding: 5px;\n",
       "  }\n",
       "  th {\n",
       "    text-align: left;\n",
       "  }\n",
       "</style><div class='table-result-container'><table class='table-result'><thead style='background-color: white'><tr><th>date</th><th>time</th><th>date_display</th><th>price_eur</th><th>price</th><th>volume</th></tr></thead><tbody><tr><td>2025-06-05</td><td>00:00:00</td><td>05.06.2025</td><td>120.77</td><td>236.21</td><td>2330.2</td></tr><tr><td>2025-06-06</td><td>00:00:00</td><td>06.06.2025</td><td>103.57</td><td>202.57</td><td>2571.2</td></tr><tr><td>2025-06-07</td><td>00:00:00</td><td>07.06.2025</td><td>103.83</td><td>203.07</td><td>2284.9</td></tr><tr><td>2025-06-08</td><td>00:00:00</td><td>08.06.2025</td><td>96.01</td><td>187.78</td><td>2217.9</td></tr><tr><td>2025-06-09</td><td>00:00:00</td><td>09.06.2025</td><td>99.12</td><td>193.86</td><td>2201.8</td></tr><tr><td>2025-06-10</td><td>00:00:00</td><td>10.06.2025</td><td>89.91</td><td>175.85</td><td>2730.2</td></tr><tr><td>2025-06-11</td><td>00:00:00</td><td>11.06.2025</td><td>81.11</td><td>158.64</td><td>2249.4</td></tr><tr><td>2025-06-05</td><td>01:00:00</td><td>05.06.2025</td><td>108.77</td><td>212.74</td><td>2560.6</td></tr><tr><td>2025-06-06</td><td>01:00:00</td><td>06.06.2025</td><td>120.2</td><td>235.09</td><td>2810.0</td></tr><tr><td>2025-06-07</td><td>01:00:00</td><td>07.06.2025</td><td>99.5</td><td>194.61</td><td>2192.5</td></tr><tr><td>2025-06-08</td><td>01:00:00</td><td>08.06.2025</td><td>88.63</td><td>173.35</td><td>2769.7</td></tr><tr><td>2025-06-09</td><td>01:00:00</td><td>09.06.2025</td><td>94.51</td><td>184.85</td><td>2313.1</td></tr><tr><td>2025-06-10</td><td>01:00:00</td><td>10.06.2025</td><td>81.81</td><td>160.01</td><td>2938.1</td></tr><tr><td>2025-06-11</td><td>01:00:00</td><td>11.06.2025</td><td>74.99</td><td>146.67</td><td>2224.0</td></tr><tr><td>2025-06-05</td><td>02:00:00</td><td>05.06.2025</td><td>100.02</td><td>195.62</td><td>2406.6</td></tr><tr><td>2025-06-06</td><td>02:00:00</td><td>06.06.2025</td><td>108.37</td><td>211.95</td><td>2604.8</td></tr><tr><td>2025-06-07</td><td>02:00:00</td><td>07.06.2025</td><td>96.12</td><td>187.99</td><td>2282.5</td></tr><tr><td>2025-06-08</td><td>02:00:00</td><td>08.06.2025</td><td>86.39</td><td>168.96</td><td>2907.4</td></tr><tr><td>2025-06-09</td><td>02:00:00</td><td>09.06.2025</td><td>87.49</td><td>171.12</td><td>2737.7</td></tr><tr><td>2025-06-10</td><td>02:00:00</td><td>10.06.2025</td><td>71.07</td><td>139.0</td><td>2676.3</td></tr><tr><td>2025-06-11</td><td>02:00:00</td><td>11.06.2025</td><td>68.99</td><td>134.93</td><td>2130.1</td></tr><tr><td>2025-06-05</td><td>03:00:00</td><td>05.06.2025</td><td>98.19</td><td>192.04</td><td>2404.0</td></tr><tr><td>2025-06-06</td><td>03:00:00</td><td>06.06.2025</td><td>102.2</td><td>199.89</td><td>2509.7</td></tr><tr><td>2025-06-07</td><td>03:00:00</td><td>07.06.2025</td><td>96.24</td><td>188.23</td><td>2201.8</td></tr><tr><td>2025-06-08</td><td>03:00:00</td><td>08.06.2025</td><td>84.11</td><td>164.5</td><td>3118.0</td></tr><tr><td>2025-06-09</td><td>03:00:00</td><td>09.06.2025</td><td>85.21</td><td>166.66</td><td>3014.7</td></tr><tr><td>2025-06-10</td><td>03:00:00</td><td>10.06.2025</td><td>61.82</td><td>120.91</td><td>2448.4</td></tr><tr><td>2025-06-11</td><td>03:00:00</td><td>11.06.2025</td><td>72.64</td><td>142.07</td><td>2178.4</td></tr><tr><td>2025-06-05</td><td>04:00:00</td><td>05.06.2025</td><td>101.21</td><td>197.95</td><td>2267.4</td></tr><tr><td>2025-06-06</td><td>04:00:00</td><td>06.06.2025</td><td>108.5</td><td>212.21</td><td>2418.1</td></tr><tr><td>2025-06-07</td><td>04:00:00</td><td>07.06.2025</td><td>91.51</td><td>178.98</td><td>2284.8</td></tr><tr><td>2025-06-08</td><td>04:00:00</td><td>08.06.2025</td><td>78.96</td><td>154.43</td><td>3052.2</td></tr><tr><td>2025-06-09</td><td>04:00:00</td><td>09.06.2025</td><td>87.33</td><td>170.8</td><td>2821.2</td></tr><tr><td>2025-06-10</td><td>04:00:00</td><td>10.06.2025</td><td>56.22</td><td>109.96</td><td>2509.4</td></tr><tr><td>2025-06-11</td><td>04:00:00</td><td>11.06.2025</td><td>73.35</td><td>143.46</td><td>2214.8</td></tr><tr><td>2025-06-05</td><td>05:00:00</td><td>05.06.2025</td><td>106.97</td><td>209.22</td><td>2385.4</td></tr><tr><td>2025-06-06</td><td>05:00:00</td><td>06.06.2025</td><td>98.25</td><td>192.16</td><td>2526.0</td></tr><tr><td>2025-06-07</td><td>05:00:00</td><td>07.06.2025</td><td>90.21</td><td>176.44</td><td>2118.5</td></tr><tr><td>2025-06-08</td><td>05:00:00</td><td>08.06.2025</td><td>65.93</td><td>128.95</td><td>2925.3</td></tr><tr><td>2025-06-09</td><td>05:00:00</td><td>09.06.2025</td><td>91.81</td><td>179.56</td><td>2582.4</td></tr><tr><td>2025-06-10</td><td>05:00:00</td><td>10.06.2025</td><td>70.35</td><td>137.59</td><td>2499.1</td></tr><tr><td>2025-06-11</td><td>05:00:00</td><td>11.06.2025</td><td>87.65</td><td>171.43</td><td>2333.3</td></tr><tr><td>2025-06-05</td><td>06:00:00</td><td>05.06.2025</td><td>111.48</td><td>218.04</td><td>2202.4</td></tr><tr><td>2025-06-06</td><td>06:00:00</td><td>06.06.2025</td><td>107.69</td><td>210.62</td><td>2336.4</td></tr><tr><td>2025-06-07</td><td>06:00:00</td><td>07.06.2025</td><td>81.23</td><td>158.87</td><td>1778.2</td></tr><tr><td>2025-06-08</td><td>06:00:00</td><td>08.06.2025</td><td>45.44</td><td>88.87</td><td>2747.4</td></tr><tr><td>2025-06-09</td><td>06:00:00</td><td>09.06.2025</td><td>93.32</td><td>182.52</td><td>2180.7</td></tr><tr><td>2025-06-10</td><td>06:00:00</td><td>10.06.2025</td><td>81.73</td><td>159.85</td><td>2487.1</td></tr><tr><td>2025-06-11</td><td>06:00:00</td><td>11.06.2025</td><td>109.64</td><td>214.44</td><td>2904.9</td></tr><tr><td>2025-06-05</td><td>07:00:00</td><td>05.06.2025</td><td>127.78</td><td>249.92</td><td>2653.1</td></tr><tr><td>2025-06-06</td><td>07:00:00</td><td>06.06.2025</td><td>98.9</td><td>193.43</td><td>2441.9</td></tr><tr><td>2025-06-07</td><td>07:00:00</td><td>07.06.2025</td><td>80.58</td><td>157.6</td><td>2393.6</td></tr><tr><td>2025-06-08</td><td>07:00:00</td><td>08.06.2025</td><td>4.01</td><td>7.84</td><td>2851.5</td></tr><tr><td>2025-06-09</td><td>07:00:00</td><td>09.06.2025</td><td>89.91</td><td>175.85</td><td>2400.3</td></tr><tr><td>2025-06-10</td><td>07:00:00</td><td>10.06.2025</td><td>85.1</td><td>166.44</td><td>3236.5</td></tr><tr><td>2025-06-11</td><td>07:00:00</td><td>11.06.2025</td><td>105.59</td><td>206.52</td><td>3343.4</td></tr><tr><td>2025-06-05</td><td>08:00:00</td><td>05.06.2025</td><td>101.93</td><td>199.36</td><td>3028.1</td></tr><tr><td>2025-06-06</td><td>08:00:00</td><td>06.06.2025</td><td>67.34</td><td>131.71</td><td>2480.6</td></tr><tr><td>2025-06-07</td><td>08:00:00</td><td>07.06.2025</td><td>73.7</td><td>144.14</td><td>3146.4</td></tr><tr><td>2025-06-08</td><td>08:00:00</td><td>08.06.2025</td><td>0.0</td><td>0.0</td><td>2724.0</td></tr><tr><td>2025-06-09</td><td>08:00:00</td><td>09.06.2025</td><td>63.08</td><td>123.37</td><td>2892.0</td></tr><tr><td>2025-06-10</td><td>08:00:00</td><td>10.06.2025</td><td>86.14</td><td>168.48</td><td>3105.8</td></tr><tr><td>2025-06-11</td><td>08:00:00</td><td>11.06.2025</td><td>82.32</td><td>161.0</td><td>3209.6</td></tr><tr><td>2025-06-05</td><td>09:00:00</td><td>05.06.2025</td><td>79.51</td><td>155.51</td><td>3170.3</td></tr><tr><td>2025-06-06</td><td>09:00:00</td><td>06.06.2025</td><td>8.44</td><td>16.51</td><td>2478.5</td></tr><tr><td>2025-06-07</td><td>09:00:00</td><td>07.06.2025</td><td>59.48</td><td>116.33</td><td>3441.6</td></tr><tr><td>2025-06-08</td><td>09:00:00</td><td>08.06.2025</td><td>-0.5</td><td>-0.98</td><td>3532.7</td></tr><tr><td>2025-06-09</td><td>09:00:00</td><td>09.06.2025</td><td>16.3</td><td>31.88</td><td>2844.8</td></tr><tr><td>2025-06-10</td><td>09:00:00</td><td>10.06.2025</td><td>65.81</td><td>128.71</td><td>2962.9</td></tr><tr><td>2025-06-11</td><td>09:00:00</td><td>11.06.2025</td><td>59.79</td><td>116.94</td><td>3485.0</td></tr><tr><td>2025-06-05</td><td>10:00:00</td><td>05.06.2025</td><td>66.34</td><td>129.75</td><td>3235.4</td></tr><tr><td>2025-06-06</td><td>10:00:00</td><td>06.06.2025</td><td>0.04</td><td>0.08</td><td>2994.9</td></tr><tr><td>2025-06-07</td><td>10:00:00</td><td>07.06.2025</td><td>13.71</td><td>26.81</td><td>2971.7</td></tr><tr><td>2025-06-08</td><td>10:00:00</td><td>08.06.2025</td><td>-2.0</td><td>-3.91</td><td>3555.5</td></tr><tr><td>2025-06-09</td><td>10:00:00</td><td>09.06.2025</td><td>9.85</td><td>19.26</td><td>2735.7</td></tr><tr><td>2025-06-10</td><td>10:00:00</td><td>10.06.2025</td><td>23.09</td><td>45.16</td><td>2761.3</td></tr><tr><td>2025-06-11</td><td>10:00:00</td><td>11.06.2025</td><td>20.0</td><td>39.12</td><td>3290.6</td></tr><tr><td>2025-06-05</td><td>11:00:00</td><td>05.06.2025</td><td>48.97</td><td>95.78</td><td>2903.0</td></tr><tr><td>2025-06-06</td><td>11:00:00</td><td>06.06.2025</td><td>1.98</td><td>3.87</td><td>3389.2</td></tr><tr><td>2025-06-07</td><td>11:00:00</td><td>07.06.2025</td><td>9.44</td><td>18.46</td><td>2767.2</td></tr><tr><td>2025-06-08</td><td>11:00:00</td><td>08.06.2025</td><td>-0.01</td><td>-0.02</td><td>3942.3</td></tr><tr><td>2025-06-09</td><td>11:00:00</td><td>09.06.2025</td><td>14.56</td><td>28.48</td><td>3314.3</td></tr><tr><td>2025-06-10</td><td>11:00:00</td><td>10.06.2025</td><td>8.75</td><td>17.11</td><td>3945.8</td></tr><tr><td>2025-06-11</td><td>11:00:00</td><td>11.06.2025</td><td>4.38</td><td>8.57</td><td>3588.9</td></tr><tr><td>2025-06-05</td><td>12:00:00</td><td>05.06.2025</td><td>20.41</td><td>39.92</td><td>2963.1</td></tr><tr><td>2025-06-06</td><td>12:00:00</td><td>06.06.2025</td><td>12.73</td><td>24.9</td><td>3183.8</td></tr><tr><td>2025-06-07</td><td>12:00:00</td><td>07.06.2025</td><td>1.19</td><td>2.33</td><td>3302.7</td></tr><tr><td>2025-06-08</td><td>12:00:00</td><td>08.06.2025</td><td>0.0</td><td>0.0</td><td>3976.1</td></tr><tr><td>2025-06-09</td><td>12:00:00</td><td>09.06.2025</td><td>12.57</td><td>24.58</td><td>3501.6</td></tr><tr><td>2025-06-10</td><td>12:00:00</td><td>10.06.2025</td><td>11.5</td><td>22.49</td><td>3996.0</td></tr><tr><td>2025-06-11</td><td>12:00:00</td><td>11.06.2025</td><td>8.36</td><td>16.35</td><td>3558.0</td></tr><tr><td>2025-06-05</td><td>13:00:00</td><td>05.06.2025</td><td>12.27</td><td>24.0</td><td>3177.2</td></tr><tr><td>2025-06-06</td><td>13:00:00</td><td>06.06.2025</td><td>28.47</td><td>55.68</td><td>2934.8</td></tr><tr><td>2025-06-07</td><td>13:00:00</td><td>07.06.2025</td><td>-0.01</td><td>-0.02</td><td>3880.3</td></tr><tr><td>2025-06-08</td><td>13:00:00</td><td>08.06.2025</td><td>0.0</td><td>0.0</td><td>3958.1</td></tr><tr><td>2025-06-09</td><td>13:00:00</td><td>09.06.2025</td><td>10.7</td><td>20.93</td><td>3731.8</td></tr><tr><td>2025-06-10</td><td>13:00:00</td><td>10.06.2025</td><td>14.05</td><td>27.48</td><td>4049.9</td></tr><tr><td>2025-06-11</td><td>13:00:00</td><td>11.06.2025</td><td>10.23</td><td>20.01</td><td>3625.4</td></tr><tr><td>2025-06-05</td><td>14:00:00</td><td>05.06.2025</td><td>8.52</td><td>16.66</td><td>3249.4</td></tr><tr><td>2025-06-06</td><td>14:00:00</td><td>06.06.2025</td><td>24.7</td><td>48.31</td><td>2973.8</td></tr><tr><td>2025-06-07</td><td>14:00:00</td><td>07.06.2025</td><td>-0.02</td><td>-0.04</td><td>3889.5</td></tr><tr><td>2025-06-08</td><td>14:00:00</td><td>08.06.2025</td><td>0.0</td><td>0.0</td><td>3986.9</td></tr><tr><td>2025-06-09</td><td>14:00:00</td><td>09.06.2025</td><td>6.91</td><td>13.51</td><td>3969.6</td></tr><tr><td>2025-06-10</td><td>14:00:00</td><td>10.06.2025</td><td>30.39</td><td>59.44</td><td>3657.4</td></tr><tr><td>2025-06-11</td><td>14:00:00</td><td>11.06.2025</td><td>15.07</td><td>29.47</td><td>3383.2</td></tr><tr><td>2025-06-05</td><td>15:00:00</td><td>05.06.2025</td><td>23.54</td><td>46.04</td><td>2435.1</td></tr><tr><td>2025-06-06</td><td>15:00:00</td><td>06.06.2025</td><td>42.08</td><td>82.3</td><td>2918.7</td></tr><tr><td>2025-06-07</td><td>15:00:00</td><td>07.06.2025</td><td>-0.02</td><td>-0.04</td><td>3841.1</td></tr><tr><td>2025-06-08</td><td>15:00:00</td><td>08.06.2025</td><td>0.59</td><td>1.15</td><td>3948.8</td></tr><tr><td>2025-06-09</td><td>15:00:00</td><td>09.06.2025</td><td>7.05</td><td>13.79</td><td>3970.7</td></tr><tr><td>2025-06-10</td><td>15:00:00</td><td>10.06.2025</td><td>62.32</td><td>121.89</td><td>2734.8</td></tr><tr><td>2025-06-11</td><td>15:00:00</td><td>11.06.2025</td><td>33.52</td><td>65.56</td><td>2815.1</td></tr><tr><td>2025-06-05</td><td>16:00:00</td><td>05.06.2025</td><td>79.07</td><td>154.65</td><td>2490.8</td></tr><tr><td>2025-06-06</td><td>16:00:00</td><td>06.06.2025</td><td>82.1</td><td>160.57</td><td>2780.9</td></tr><tr><td>2025-06-07</td><td>16:00:00</td><td>07.06.2025</td><td>5.09</td><td>9.96</td><td>3637.1</td></tr><tr><td>2025-06-08</td><td>16:00:00</td><td>08.06.2025</td><td>14.45</td><td>28.26</td><td>3624.1</td></tr><tr><td>2025-06-09</td><td>16:00:00</td><td>09.06.2025</td><td>10.0</td><td>19.56</td><td>3652.0</td></tr><tr><td>2025-06-10</td><td>16:00:00</td><td>10.06.2025</td><td>89.13</td><td>174.32</td><td>2331.2</td></tr><tr><td>2025-06-11</td><td>16:00:00</td><td>11.06.2025</td><td>79.2</td><td>154.9</td><td>2730.0</td></tr><tr><td>2025-06-05</td><td>17:00:00</td><td>05.06.2025</td><td>98.84</td><td>193.31</td><td>2558.0</td></tr><tr><td>2025-06-06</td><td>17:00:00</td><td>06.06.2025</td><td>138.02</td><td>269.94</td><td>2644.7</td></tr><tr><td>2025-06-07</td><td>17:00:00</td><td>07.06.2025</td><td>89.21</td><td>174.48</td><td>2668.2</td></tr><tr><td>2025-06-08</td><td>17:00:00</td><td>08.06.2025</td><td>91.58</td><td>179.11</td><td>2584.9</td></tr><tr><td>2025-06-09</td><td>17:00:00</td><td>09.06.2025</td><td>87.84</td><td>171.8</td><td>3015.3</td></tr><tr><td>2025-06-10</td><td>17:00:00</td><td>10.06.2025</td><td>105.72</td><td>206.77</td><td>2514.9</td></tr><tr><td>2025-06-11</td><td>17:00:00</td><td>11.06.2025</td><td>104.96</td><td>205.28</td><td>2599.6</td></tr><tr><td>2025-06-05</td><td>18:00:00</td><td>05.06.2025</td><td>138.32</td><td>270.53</td><td>2282.0</td></tr><tr><td>2025-06-06</td><td>18:00:00</td><td>06.06.2025</td><td>211.38</td><td>413.42</td><td>2785.3</td></tr><tr><td>2025-06-07</td><td>18:00:00</td><td>07.06.2025</td><td>135.63</td><td>265.27</td><td>1994.8</td></tr><tr><td>2025-06-08</td><td>18:00:00</td><td>08.06.2025</td><td>157.8</td><td>308.63</td><td>1931.3</td></tr><tr><td>2025-06-09</td><td>18:00:00</td><td>09.06.2025</td><td>122.93</td><td>240.43</td><td>2389.1</td></tr><tr><td>2025-06-10</td><td>18:00:00</td><td>10.06.2025</td><td>136.56</td><td>267.09</td><td>2651.3</td></tr><tr><td>2025-06-11</td><td>18:00:00</td><td>11.06.2025</td><td>141.78</td><td>277.3</td><td>2332.9</td></tr><tr><td>2025-06-05</td><td>19:00:00</td><td>05.06.2025</td><td>175.51</td><td>343.27</td><td>2892.3</td></tr><tr><td>2025-06-06</td><td>19:00:00</td><td>06.06.2025</td><td>146.92</td><td>287.35</td><td>2485.6</td></tr><tr><td>2025-06-07</td><td>19:00:00</td><td>07.06.2025</td><td>196.03</td><td>383.4</td><td>2745.8</td></tr><tr><td>2025-06-08</td><td>19:00:00</td><td>08.06.2025</td><td>151.36</td><td>296.03</td><td>2103.6</td></tr><tr><td>2025-06-09</td><td>19:00:00</td><td>09.06.2025</td><td>160.22</td><td>313.36</td><td>2660.1</td></tr><tr><td>2025-06-10</td><td>19:00:00</td><td>10.06.2025</td><td>201.98</td><td>395.04</td><td>2775.0</td></tr><tr><td>2025-06-11</td><td>19:00:00</td><td>11.06.2025</td><td>150.59</td><td>294.53</td><td>2668.5</td></tr><tr><td>2025-06-05</td><td>20:00:00</td><td>05.06.2025</td><td>262.51</td><td>513.42</td><td>2796.9</td></tr><tr><td>2025-06-06</td><td>20:00:00</td><td>06.06.2025</td><td>190.19</td><td>371.98</td><td>2535.0</td></tr><tr><td>2025-06-07</td><td>20:00:00</td><td>07.06.2025</td><td>225.36</td><td>440.77</td><td>2907.7</td></tr><tr><td>2025-06-08</td><td>20:00:00</td><td>08.06.2025</td><td>177.62</td><td>347.39</td><td>2086.4</td></tr><tr><td>2025-06-09</td><td>20:00:00</td><td>09.06.2025</td><td>226.02</td><td>442.06</td><td>2788.0</td></tr><tr><td>2025-06-10</td><td>20:00:00</td><td>10.06.2025</td><td>233.45</td><td>456.59</td><td>2763.3</td></tr><tr><td>2025-06-11</td><td>20:00:00</td><td>11.06.2025</td><td>219.16</td><td>428.64</td><td>2725.4</td></tr><tr><td>2025-06-05</td><td>21:00:00</td><td>05.06.2025</td><td>135.53</td><td>265.07</td><td>2407.0</td></tr><tr><td>2025-06-06</td><td>21:00:00</td><td>06.06.2025</td><td>136.97</td><td>267.89</td><td>2559.2</td></tr><tr><td>2025-06-07</td><td>21:00:00</td><td>07.06.2025</td><td>163.26</td><td>319.31</td><td>2862.9</td></tr><tr><td>2025-06-08</td><td>21:00:00</td><td>08.06.2025</td><td>159.02</td><td>311.02</td><td>2219.1</td></tr><tr><td>2025-06-09</td><td>21:00:00</td><td>09.06.2025</td><td>163.47</td><td>319.72</td><td>2858.4</td></tr><tr><td>2025-06-10</td><td>21:00:00</td><td>10.06.2025</td><td>139.09</td><td>272.04</td><td>2671.0</td></tr><tr><td>2025-06-11</td><td>21:00:00</td><td>11.06.2025</td><td>185.7</td><td>363.2</td><td>2979.1</td></tr><tr><td>2025-06-05</td><td>22:00:00</td><td>05.06.2025</td><td>118.68</td><td>232.12</td><td>2514.6</td></tr><tr><td>2025-06-06</td><td>22:00:00</td><td>06.06.2025</td><td>125.37</td><td>245.2</td><td>2542.0</td></tr><tr><td>2025-06-07</td><td>22:00:00</td><td>07.06.2025</td><td>123.32</td><td>241.19</td><td>2139.3</td></tr><tr><td>2025-06-08</td><td>22:00:00</td><td>08.06.2025</td><td>124.71</td><td>243.91</td><td>2322.1</td></tr><tr><td>2025-06-09</td><td>22:00:00</td><td>09.06.2025</td><td>124.85</td><td>244.19</td><td>2312.8</td></tr><tr><td>2025-06-10</td><td>22:00:00</td><td>10.06.2025</td><td>102.18</td><td>199.85</td><td>2470.3</td></tr><tr><td>2025-06-11</td><td>22:00:00</td><td>11.06.2025</td><td>123.18</td><td>240.92</td><td>2612.1</td></tr><tr><td>2025-06-05</td><td>23:00:00</td><td>05.06.2025</td><td>117.87</td><td>230.53</td><td>2627.1</td></tr><tr><td>2025-06-06</td><td>23:00:00</td><td>06.06.2025</td><td>109.17</td><td>213.52</td><td>2520.4</td></tr><tr><td>2025-06-07</td><td>23:00:00</td><td>07.06.2025</td><td>118.45</td><td>231.67</td><td>2235.2</td></tr><tr><td>2025-06-08</td><td>23:00:00</td><td>08.06.2025</td><td>100.94</td><td>197.42</td><td>2985.5</td></tr><tr><td>2025-06-09</td><td>23:00:00</td><td>09.06.2025</td><td>106.28</td><td>207.87</td><td>2217.3</td></tr><tr><td>2025-06-10</td><td>23:00:00</td><td>10.06.2025</td><td>97.75</td><td>191.18</td><td>2413.2</td></tr><tr><td>2025-06-11</td><td>23:00:00</td><td>11.06.2025</td><td>103.67</td><td>202.76</td><td>3198.5</td></tr></tbody></table></div>"
      ]
     },
     "metadata": {
      "application/vnd.databricks.v1+output": {
       "addedWidgets": {},
       "aggData": [],
       "aggError": "",
       "aggOverflow": false,
       "aggSchema": [],
       "aggSeriesLimitReached": false,
       "aggType": "",
       "arguments": {},
       "columnCustomDisplayInfos": {},
       "data": [
        [
         "2025-06-05",
         "00:00:00",
         "05.06.2025",
         120.77,
         236.21,
         2330.2
        ],
        [
         "2025-06-06",
         "00:00:00",
         "06.06.2025",
         103.57,
         202.57,
         2571.2
        ],
        [
         "2025-06-07",
         "00:00:00",
         "07.06.2025",
         103.83,
         203.07,
         2284.9
        ],
        [
         "2025-06-08",
         "00:00:00",
         "08.06.2025",
         96.01,
         187.78,
         2217.9
        ],
        [
         "2025-06-09",
         "00:00:00",
         "09.06.2025",
         99.12,
         193.86,
         2201.8
        ],
        [
         "2025-06-10",
         "00:00:00",
         "10.06.2025",
         89.91,
         175.85,
         2730.2
        ],
        [
         "2025-06-11",
         "00:00:00",
         "11.06.2025",
         81.11,
         158.64,
         2249.4
        ],
        [
         "2025-06-05",
         "01:00:00",
         "05.06.2025",
         108.77,
         212.74,
         2560.6
        ],
        [
         "2025-06-06",
         "01:00:00",
         "06.06.2025",
         120.2,
         235.09,
         2810.0
        ],
        [
         "2025-06-07",
         "01:00:00",
         "07.06.2025",
         99.5,
         194.61,
         2192.5
        ],
        [
         "2025-06-08",
         "01:00:00",
         "08.06.2025",
         88.63,
         173.35,
         2769.7
        ],
        [
         "2025-06-09",
         "01:00:00",
         "09.06.2025",
         94.51,
         184.85,
         2313.1
        ],
        [
         "2025-06-10",
         "01:00:00",
         "10.06.2025",
         81.81,
         160.01,
         2938.1
        ],
        [
         "2025-06-11",
         "01:00:00",
         "11.06.2025",
         74.99,
         146.67,
         2224.0
        ],
        [
         "2025-06-05",
         "02:00:00",
         "05.06.2025",
         100.02,
         195.62,
         2406.6
        ],
        [
         "2025-06-06",
         "02:00:00",
         "06.06.2025",
         108.37,
         211.95,
         2604.8
        ],
        [
         "2025-06-07",
         "02:00:00",
         "07.06.2025",
         96.12,
         187.99,
         2282.5
        ],
        [
         "2025-06-08",
         "02:00:00",
         "08.06.2025",
         86.39,
         168.96,
         2907.4
        ],
        [
         "2025-06-09",
         "02:00:00",
         "09.06.2025",
         87.49,
         171.12,
         2737.7
        ],
        [
         "2025-06-10",
         "02:00:00",
         "10.06.2025",
         71.07,
         139.0,
         2676.3
        ],
        [
         "2025-06-11",
         "02:00:00",
         "11.06.2025",
         68.99,
         134.93,
         2130.1
        ],
        [
         "2025-06-05",
         "03:00:00",
         "05.06.2025",
         98.19,
         192.04,
         2404.0
        ],
        [
         "2025-06-06",
         "03:00:00",
         "06.06.2025",
         102.2,
         199.89,
         2509.7
        ],
        [
         "2025-06-07",
         "03:00:00",
         "07.06.2025",
         96.24,
         188.23,
         2201.8
        ],
        [
         "2025-06-08",
         "03:00:00",
         "08.06.2025",
         84.11,
         164.5,
         3118.0
        ],
        [
         "2025-06-09",
         "03:00:00",
         "09.06.2025",
         85.21,
         166.66,
         3014.7
        ],
        [
         "2025-06-10",
         "03:00:00",
         "10.06.2025",
         61.82,
         120.91,
         2448.4
        ],
        [
         "2025-06-11",
         "03:00:00",
         "11.06.2025",
         72.64,
         142.07,
         2178.4
        ],
        [
         "2025-06-05",
         "04:00:00",
         "05.06.2025",
         101.21,
         197.95,
         2267.4
        ],
        [
         "2025-06-06",
         "04:00:00",
         "06.06.2025",
         108.5,
         212.21,
         2418.1
        ],
        [
         "2025-06-07",
         "04:00:00",
         "07.06.2025",
         91.51,
         178.98,
         2284.8
        ],
        [
         "2025-06-08",
         "04:00:00",
         "08.06.2025",
         78.96,
         154.43,
         3052.2
        ],
        [
         "2025-06-09",
         "04:00:00",
         "09.06.2025",
         87.33,
         170.8,
         2821.2
        ],
        [
         "2025-06-10",
         "04:00:00",
         "10.06.2025",
         56.22,
         109.96,
         2509.4
        ],
        [
         "2025-06-11",
         "04:00:00",
         "11.06.2025",
         73.35,
         143.46,
         2214.8
        ],
        [
         "2025-06-05",
         "05:00:00",
         "05.06.2025",
         106.97,
         209.22,
         2385.4
        ],
        [
         "2025-06-06",
         "05:00:00",
         "06.06.2025",
         98.25,
         192.16,
         2526.0
        ],
        [
         "2025-06-07",
         "05:00:00",
         "07.06.2025",
         90.21,
         176.44,
         2118.5
        ],
        [
         "2025-06-08",
         "05:00:00",
         "08.06.2025",
         65.93,
         128.95,
         2925.3
        ],
        [
         "2025-06-09",
         "05:00:00",
         "09.06.2025",
         91.81,
         179.56,
         2582.4
        ],
        [
         "2025-06-10",
         "05:00:00",
         "10.06.2025",
         70.35,
         137.59,
         2499.1
        ],
        [
         "2025-06-11",
         "05:00:00",
         "11.06.2025",
         87.65,
         171.43,
         2333.3
        ],
        [
         "2025-06-05",
         "06:00:00",
         "05.06.2025",
         111.48,
         218.04,
         2202.4
        ],
        [
         "2025-06-06",
         "06:00:00",
         "06.06.2025",
         107.69,
         210.62,
         2336.4
        ],
        [
         "2025-06-07",
         "06:00:00",
         "07.06.2025",
         81.23,
         158.87,
         1778.2
        ],
        [
         "2025-06-08",
         "06:00:00",
         "08.06.2025",
         45.44,
         88.87,
         2747.4
        ],
        [
         "2025-06-09",
         "06:00:00",
         "09.06.2025",
         93.32,
         182.52,
         2180.7
        ],
        [
         "2025-06-10",
         "06:00:00",
         "10.06.2025",
         81.73,
         159.85,
         2487.1
        ],
        [
         "2025-06-11",
         "06:00:00",
         "11.06.2025",
         109.64,
         214.44,
         2904.9
        ],
        [
         "2025-06-05",
         "07:00:00",
         "05.06.2025",
         127.78,
         249.92,
         2653.1
        ],
        [
         "2025-06-06",
         "07:00:00",
         "06.06.2025",
         98.9,
         193.43,
         2441.9
        ],
        [
         "2025-06-07",
         "07:00:00",
         "07.06.2025",
         80.58,
         157.6,
         2393.6
        ],
        [
         "2025-06-08",
         "07:00:00",
         "08.06.2025",
         4.01,
         7.84,
         2851.5
        ],
        [
         "2025-06-09",
         "07:00:00",
         "09.06.2025",
         89.91,
         175.85,
         2400.3
        ],
        [
         "2025-06-10",
         "07:00:00",
         "10.06.2025",
         85.1,
         166.44,
         3236.5
        ],
        [
         "2025-06-11",
         "07:00:00",
         "11.06.2025",
         105.59,
         206.52,
         3343.4
        ],
        [
         "2025-06-05",
         "08:00:00",
         "05.06.2025",
         101.93,
         199.36,
         3028.1
        ],
        [
         "2025-06-06",
         "08:00:00",
         "06.06.2025",
         67.34,
         131.71,
         2480.6
        ],
        [
         "2025-06-07",
         "08:00:00",
         "07.06.2025",
         73.7,
         144.14,
         3146.4
        ],
        [
         "2025-06-08",
         "08:00:00",
         "08.06.2025",
         0.0,
         0.0,
         2724.0
        ],
        [
         "2025-06-09",
         "08:00:00",
         "09.06.2025",
         63.08,
         123.37,
         2892.0
        ],
        [
         "2025-06-10",
         "08:00:00",
         "10.06.2025",
         86.14,
         168.48,
         3105.8
        ],
        [
         "2025-06-11",
         "08:00:00",
         "11.06.2025",
         82.32,
         161.0,
         3209.6
        ],
        [
         "2025-06-05",
         "09:00:00",
         "05.06.2025",
         79.51,
         155.51,
         3170.3
        ],
        [
         "2025-06-06",
         "09:00:00",
         "06.06.2025",
         8.44,
         16.51,
         2478.5
        ],
        [
         "2025-06-07",
         "09:00:00",
         "07.06.2025",
         59.48,
         116.33,
         3441.6
        ],
        [
         "2025-06-08",
         "09:00:00",
         "08.06.2025",
         -0.5,
         -0.98,
         3532.7
        ],
        [
         "2025-06-09",
         "09:00:00",
         "09.06.2025",
         16.3,
         31.88,
         2844.8
        ],
        [
         "2025-06-10",
         "09:00:00",
         "10.06.2025",
         65.81,
         128.71,
         2962.9
        ],
        [
         "2025-06-11",
         "09:00:00",
         "11.06.2025",
         59.79,
         116.94,
         3485.0
        ],
        [
         "2025-06-05",
         "10:00:00",
         "05.06.2025",
         66.34,
         129.75,
         3235.4
        ],
        [
         "2025-06-06",
         "10:00:00",
         "06.06.2025",
         0.04,
         0.08,
         2994.9
        ],
        [
         "2025-06-07",
         "10:00:00",
         "07.06.2025",
         13.71,
         26.81,
         2971.7
        ],
        [
         "2025-06-08",
         "10:00:00",
         "08.06.2025",
         -2.0,
         -3.91,
         3555.5
        ],
        [
         "2025-06-09",
         "10:00:00",
         "09.06.2025",
         9.85,
         19.26,
         2735.7
        ],
        [
         "2025-06-10",
         "10:00:00",
         "10.06.2025",
         23.09,
         45.16,
         2761.3
        ],
        [
         "2025-06-11",
         "10:00:00",
         "11.06.2025",
         20.0,
         39.12,
         3290.6
        ],
        [
         "2025-06-05",
         "11:00:00",
         "05.06.2025",
         48.97,
         95.78,
         2903.0
        ],
        [
         "2025-06-06",
         "11:00:00",
         "06.06.2025",
         1.98,
         3.87,
         3389.2
        ],
        [
         "2025-06-07",
         "11:00:00",
         "07.06.2025",
         9.44,
         18.46,
         2767.2
        ],
        [
         "2025-06-08",
         "11:00:00",
         "08.06.2025",
         -0.01,
         -0.02,
         3942.3
        ],
        [
         "2025-06-09",
         "11:00:00",
         "09.06.2025",
         14.56,
         28.48,
         3314.3
        ],
        [
         "2025-06-10",
         "11:00:00",
         "10.06.2025",
         8.75,
         17.11,
         3945.8
        ],
        [
         "2025-06-11",
         "11:00:00",
         "11.06.2025",
         4.38,
         8.57,
         3588.9
        ],
        [
         "2025-06-05",
         "12:00:00",
         "05.06.2025",
         20.41,
         39.92,
         2963.1
        ],
        [
         "2025-06-06",
         "12:00:00",
         "06.06.2025",
         12.73,
         24.9,
         3183.8
        ],
        [
         "2025-06-07",
         "12:00:00",
         "07.06.2025",
         1.19,
         2.33,
         3302.7
        ],
        [
         "2025-06-08",
         "12:00:00",
         "08.06.2025",
         0.0,
         0.0,
         3976.1
        ],
        [
         "2025-06-09",
         "12:00:00",
         "09.06.2025",
         12.57,
         24.58,
         3501.6
        ],
        [
         "2025-06-10",
         "12:00:00",
         "10.06.2025",
         11.5,
         22.49,
         3996.0
        ],
        [
         "2025-06-11",
         "12:00:00",
         "11.06.2025",
         8.36,
         16.35,
         3558.0
        ],
        [
         "2025-06-05",
         "13:00:00",
         "05.06.2025",
         12.27,
         24.0,
         3177.2
        ],
        [
         "2025-06-06",
         "13:00:00",
         "06.06.2025",
         28.47,
         55.68,
         2934.8
        ],
        [
         "2025-06-07",
         "13:00:00",
         "07.06.2025",
         -0.01,
         -0.02,
         3880.3
        ],
        [
         "2025-06-08",
         "13:00:00",
         "08.06.2025",
         0.0,
         0.0,
         3958.1
        ],
        [
         "2025-06-09",
         "13:00:00",
         "09.06.2025",
         10.7,
         20.93,
         3731.8
        ],
        [
         "2025-06-10",
         "13:00:00",
         "10.06.2025",
         14.05,
         27.48,
         4049.9
        ],
        [
         "2025-06-11",
         "13:00:00",
         "11.06.2025",
         10.23,
         20.01,
         3625.4
        ],
        [
         "2025-06-05",
         "14:00:00",
         "05.06.2025",
         8.52,
         16.66,
         3249.4
        ],
        [
         "2025-06-06",
         "14:00:00",
         "06.06.2025",
         24.7,
         48.31,
         2973.8
        ],
        [
         "2025-06-07",
         "14:00:00",
         "07.06.2025",
         -0.02,
         -0.04,
         3889.5
        ],
        [
         "2025-06-08",
         "14:00:00",
         "08.06.2025",
         0.0,
         0.0,
         3986.9
        ],
        [
         "2025-06-09",
         "14:00:00",
         "09.06.2025",
         6.91,
         13.51,
         3969.6
        ],
        [
         "2025-06-10",
         "14:00:00",
         "10.06.2025",
         30.39,
         59.44,
         3657.4
        ],
        [
         "2025-06-11",
         "14:00:00",
         "11.06.2025",
         15.07,
         29.47,
         3383.2
        ],
        [
         "2025-06-05",
         "15:00:00",
         "05.06.2025",
         23.54,
         46.04,
         2435.1
        ],
        [
         "2025-06-06",
         "15:00:00",
         "06.06.2025",
         42.08,
         82.3,
         2918.7
        ],
        [
         "2025-06-07",
         "15:00:00",
         "07.06.2025",
         -0.02,
         -0.04,
         3841.1
        ],
        [
         "2025-06-08",
         "15:00:00",
         "08.06.2025",
         0.59,
         1.15,
         3948.8
        ],
        [
         "2025-06-09",
         "15:00:00",
         "09.06.2025",
         7.05,
         13.79,
         3970.7
        ],
        [
         "2025-06-10",
         "15:00:00",
         "10.06.2025",
         62.32,
         121.89,
         2734.8
        ],
        [
         "2025-06-11",
         "15:00:00",
         "11.06.2025",
         33.52,
         65.56,
         2815.1
        ],
        [
         "2025-06-05",
         "16:00:00",
         "05.06.2025",
         79.07,
         154.65,
         2490.8
        ],
        [
         "2025-06-06",
         "16:00:00",
         "06.06.2025",
         82.1,
         160.57,
         2780.9
        ],
        [
         "2025-06-07",
         "16:00:00",
         "07.06.2025",
         5.09,
         9.96,
         3637.1
        ],
        [
         "2025-06-08",
         "16:00:00",
         "08.06.2025",
         14.45,
         28.26,
         3624.1
        ],
        [
         "2025-06-09",
         "16:00:00",
         "09.06.2025",
         10.0,
         19.56,
         3652.0
        ],
        [
         "2025-06-10",
         "16:00:00",
         "10.06.2025",
         89.13,
         174.32,
         2331.2
        ],
        [
         "2025-06-11",
         "16:00:00",
         "11.06.2025",
         79.2,
         154.9,
         2730.0
        ],
        [
         "2025-06-05",
         "17:00:00",
         "05.06.2025",
         98.84,
         193.31,
         2558.0
        ],
        [
         "2025-06-06",
         "17:00:00",
         "06.06.2025",
         138.02,
         269.94,
         2644.7
        ],
        [
         "2025-06-07",
         "17:00:00",
         "07.06.2025",
         89.21,
         174.48,
         2668.2
        ],
        [
         "2025-06-08",
         "17:00:00",
         "08.06.2025",
         91.58,
         179.11,
         2584.9
        ],
        [
         "2025-06-09",
         "17:00:00",
         "09.06.2025",
         87.84,
         171.8,
         3015.3
        ],
        [
         "2025-06-10",
         "17:00:00",
         "10.06.2025",
         105.72,
         206.77,
         2514.9
        ],
        [
         "2025-06-11",
         "17:00:00",
         "11.06.2025",
         104.96,
         205.28,
         2599.6
        ],
        [
         "2025-06-05",
         "18:00:00",
         "05.06.2025",
         138.32,
         270.53,
         2282.0
        ],
        [
         "2025-06-06",
         "18:00:00",
         "06.06.2025",
         211.38,
         413.42,
         2785.3
        ],
        [
         "2025-06-07",
         "18:00:00",
         "07.06.2025",
         135.63,
         265.27,
         1994.8
        ],
        [
         "2025-06-08",
         "18:00:00",
         "08.06.2025",
         157.8,
         308.63,
         1931.3
        ],
        [
         "2025-06-09",
         "18:00:00",
         "09.06.2025",
         122.93,
         240.43,
         2389.1
        ],
        [
         "2025-06-10",
         "18:00:00",
         "10.06.2025",
         136.56,
         267.09,
         2651.3
        ],
        [
         "2025-06-11",
         "18:00:00",
         "11.06.2025",
         141.78,
         277.3,
         2332.9
        ],
        [
         "2025-06-05",
         "19:00:00",
         "05.06.2025",
         175.51,
         343.27,
         2892.3
        ],
        [
         "2025-06-06",
         "19:00:00",
         "06.06.2025",
         146.92,
         287.35,
         2485.6
        ],
        [
         "2025-06-07",
         "19:00:00",
         "07.06.2025",
         196.03,
         383.4,
         2745.8
        ],
        [
         "2025-06-08",
         "19:00:00",
         "08.06.2025",
         151.36,
         296.03,
         2103.6
        ],
        [
         "2025-06-09",
         "19:00:00",
         "09.06.2025",
         160.22,
         313.36,
         2660.1
        ],
        [
         "2025-06-10",
         "19:00:00",
         "10.06.2025",
         201.98,
         395.04,
         2775.0
        ],
        [
         "2025-06-11",
         "19:00:00",
         "11.06.2025",
         150.59,
         294.53,
         2668.5
        ],
        [
         "2025-06-05",
         "20:00:00",
         "05.06.2025",
         262.51,
         513.42,
         2796.9
        ],
        [
         "2025-06-06",
         "20:00:00",
         "06.06.2025",
         190.19,
         371.98,
         2535.0
        ],
        [
         "2025-06-07",
         "20:00:00",
         "07.06.2025",
         225.36,
         440.77,
         2907.7
        ],
        [
         "2025-06-08",
         "20:00:00",
         "08.06.2025",
         177.62,
         347.39,
         2086.4
        ],
        [
         "2025-06-09",
         "20:00:00",
         "09.06.2025",
         226.02,
         442.06,
         2788.0
        ],
        [
         "2025-06-10",
         "20:00:00",
         "10.06.2025",
         233.45,
         456.59,
         2763.3
        ],
        [
         "2025-06-11",
         "20:00:00",
         "11.06.2025",
         219.16,
         428.64,
         2725.4
        ],
        [
         "2025-06-05",
         "21:00:00",
         "05.06.2025",
         135.53,
         265.07,
         2407.0
        ],
        [
         "2025-06-06",
         "21:00:00",
         "06.06.2025",
         136.97,
         267.89,
         2559.2
        ],
        [
         "2025-06-07",
         "21:00:00",
         "07.06.2025",
         163.26,
         319.31,
         2862.9
        ],
        [
         "2025-06-08",
         "21:00:00",
         "08.06.2025",
         159.02,
         311.02,
         2219.1
        ],
        [
         "2025-06-09",
         "21:00:00",
         "09.06.2025",
         163.47,
         319.72,
         2858.4
        ],
        [
         "2025-06-10",
         "21:00:00",
         "10.06.2025",
         139.09,
         272.04,
         2671.0
        ],
        [
         "2025-06-11",
         "21:00:00",
         "11.06.2025",
         185.7,
         363.2,
         2979.1
        ],
        [
         "2025-06-05",
         "22:00:00",
         "05.06.2025",
         118.68,
         232.12,
         2514.6
        ],
        [
         "2025-06-06",
         "22:00:00",
         "06.06.2025",
         125.37,
         245.2,
         2542.0
        ],
        [
         "2025-06-07",
         "22:00:00",
         "07.06.2025",
         123.32,
         241.19,
         2139.3
        ],
        [
         "2025-06-08",
         "22:00:00",
         "08.06.2025",
         124.71,
         243.91,
         2322.1
        ],
        [
         "2025-06-09",
         "22:00:00",
         "09.06.2025",
         124.85,
         244.19,
         2312.8
        ],
        [
         "2025-06-10",
         "22:00:00",
         "10.06.2025",
         102.18,
         199.85,
         2470.3
        ],
        [
         "2025-06-11",
         "22:00:00",
         "11.06.2025",
         123.18,
         240.92,
         2612.1
        ],
        [
         "2025-06-05",
         "23:00:00",
         "05.06.2025",
         117.87,
         230.53,
         2627.1
        ],
        [
         "2025-06-06",
         "23:00:00",
         "06.06.2025",
         109.17,
         213.52,
         2520.4
        ],
        [
         "2025-06-07",
         "23:00:00",
         "07.06.2025",
         118.45,
         231.67,
         2235.2
        ],
        [
         "2025-06-08",
         "23:00:00",
         "08.06.2025",
         100.94,
         197.42,
         2985.5
        ],
        [
         "2025-06-09",
         "23:00:00",
         "09.06.2025",
         106.28,
         207.87,
         2217.3
        ],
        [
         "2025-06-10",
         "23:00:00",
         "10.06.2025",
         97.75,
         191.18,
         2413.2
        ],
        [
         "2025-06-11",
         "23:00:00",
         "11.06.2025",
         103.67,
         202.76,
         3198.5
        ]
       ],
       "datasetInfos": [],
       "dbfsResultPath": null,
       "isJsonSchema": true,
       "metadata": {},
       "overflow": false,
       "plotOptions": {
        "customPlotOptions": {},
        "displayType": "table",
        "pivotAggregation": null,
        "pivotColumns": null,
        "xColumns": null,
        "yColumns": null
       },
       "removedWidgets": [],
       "schema": [
        {
         "metadata": "{}",
         "name": "date",
         "type": "\"string\""
        },
        {
         "metadata": "{}",
         "name": "time",
         "type": "\"string\""
        },
        {
         "metadata": "{}",
         "name": "date_display",
         "type": "\"string\""
        },
        {
         "metadata": "{}",
         "name": "price_eur",
         "type": "\"double\""
        },
        {
         "metadata": "{}",
         "name": "price",
         "type": "\"double\""
        },
        {
         "metadata": "{}",
         "name": "volume",
         "type": "\"double\""
        }
       ],
       "type": "table"
      }
     },
     "output_type": "display_data"
    }
   ],
   "source": [
    "display(spark.sql(\"SELECT * FROM ibex_daily_summary\"))"
   ]
  },
  {
   "cell_type": "code",
   "execution_count": 0,
   "metadata": {
    "application/vnd.databricks.v1+cell": {
     "cellMetadata": {
      "byteLimit": 2048000,
      "rowLimit": 10000
     },
     "inputWidgets": {},
     "nuid": "68e61cca-946e-4b6d-87d5-8f3f0f3801f7",
     "showTitle": false,
     "tableResultSettingsMap": {},
     "title": ""
    }
   },
   "outputs": [
    {
     "output_type": "display_data",
     "data": {
      "text/html": [
       "<style scoped>\n",
       "  .table-result-container {\n",
       "    max-height: 300px;\n",
       "    overflow: auto;\n",
       "  }\n",
       "  table, th, td {\n",
       "    border: 1px solid black;\n",
       "    border-collapse: collapse;\n",
       "  }\n",
       "  th, td {\n",
       "    padding: 5px;\n",
       "  }\n",
       "  th {\n",
       "    text-align: left;\n",
       "  }\n",
       "</style><div class='table-result-container'><table class='table-result'><thead style='background-color: white'><tr><th>Unnamed__0</th><th>Unnamed__1</th><th>Unnamed__2</th><th>Unnamed__3</th><th>Unnamed__4</th><th>Unnamed__5</th><th>Unnamed__6</th><th>Unnamed__7</th></tr></thead><tbody><tr><td>Base (01-24)</td><td>null</td><td>null</td><td>null</td><td>null</td><td>null</td><td>null</td><td>null</td></tr><tr><td>Peak (9-20)</td><td>null</td><td>null</td><td>null</td><td>null</td><td>null</td><td>null</td><td>null</td></tr><tr><td>Off-Peak (1-8 & 21-24)</td><td>null</td><td>null</td><td>null</td><td>null</td><td>null</td><td>null</td><td>null</td></tr></tbody></table></div>"
      ]
     },
     "metadata": {
      "application/vnd.databricks.v1+output": {
       "addedWidgets": {},
       "aggData": [],
       "aggError": "",
       "aggOverflow": false,
       "aggSchema": [],
       "aggSeriesLimitReached": false,
       "aggType": "",
       "arguments": {},
       "columnCustomDisplayInfos": {},
       "data": [
        [
         "Base (01-24)",
         null,
         null,
         null,
         null,
         null,
         null,
         null
        ],
        [
         "Peak (9-20)",
         null,
         null,
         null,
         null,
         null,
         null,
         null
        ],
        [
         "Off-Peak (1-8 & 21-24)",
         null,
         null,
         null,
         null,
         null,
         null,
         null
        ]
       ],
       "datasetInfos": [],
       "dbfsResultPath": null,
       "isJsonSchema": true,
       "metadata": {},
       "overflow": false,
       "plotOptions": {
        "customPlotOptions": {},
        "displayType": "table",
        "pivotAggregation": null,
        "pivotColumns": null,
        "xColumns": null,
        "yColumns": null
       },
       "removedWidgets": [],
       "schema": [
        {
         "metadata": "{}",
         "name": "Unnamed__0",
         "type": "\"string\""
        },
        {
         "metadata": "{}",
         "name": "Unnamed__1",
         "type": "\"double\""
        },
        {
         "metadata": "{}",
         "name": "Unnamed__2",
         "type": "\"double\""
        },
        {
         "metadata": "{}",
         "name": "Unnamed__3",
         "type": "\"double\""
        },
        {
         "metadata": "{}",
         "name": "Unnamed__4",
         "type": "\"double\""
        },
        {
         "metadata": "{}",
         "name": "Unnamed__5",
         "type": "\"double\""
        },
        {
         "metadata": "{}",
         "name": "Unnamed__6",
         "type": "\"double\""
        },
        {
         "metadata": "{}",
         "name": "Unnamed__7",
         "type": "\"double\""
        }
       ],
       "type": "table"
      }
     },
     "output_type": "display_data"
    }
   ],
   "source": [
    "display(spark.sql(\"SELECT * FROM ibex_peak_offpeak_summary\"))"
   ]
  },
  {
   "cell_type": "code",
   "execution_count": 0,
   "metadata": {
    "application/vnd.databricks.v1+cell": {
     "cellMetadata": {
      "byteLimit": 2048000,
      "rowLimit": 10000
     },
     "inputWidgets": {},
     "nuid": "db7c66f1-d002-403f-b339-63d50f8eaaed",
     "showTitle": false,
     "tableResultSettingsMap": {},
     "title": ""
    }
   },
   "outputs": [
    {
     "output_type": "stream",
     "name": "stdout",
     "output_type": "stream",
     "text": [
      "Python interpreter will be restarted.\nRequirement already satisfied: selenium==4.18.1 in /local_disk0/.ephemeral_nfs/envs/pythonEnv-5b9a1609-9986-46c3-addb-7eec4ce394f8/lib/python3.9/site-packages (4.18.1)\nRequirement already satisfied: trio-websocket~=0.9 in /local_disk0/.ephemeral_nfs/envs/pythonEnv-5b9a1609-9986-46c3-addb-7eec4ce394f8/lib/python3.9/site-packages (from selenium==4.18.1) (0.12.2)\nRequirement already satisfied: urllib3[socks]<3,>=1.26 in /local_disk0/.ephemeral_nfs/envs/pythonEnv-5b9a1609-9986-46c3-addb-7eec4ce394f8/lib/python3.9/site-packages (from selenium==4.18.1) (1.26.20)\nRequirement already satisfied: certifi>=2021.10.8 in /local_disk0/.ephemeral_nfs/envs/pythonEnv-5b9a1609-9986-46c3-addb-7eec4ce394f8/lib/python3.9/site-packages (from selenium==4.18.1) (2025.4.26)\nRequirement already satisfied: typing_extensions>=4.9.0 in /local_disk0/.ephemeral_nfs/envs/pythonEnv-5b9a1609-9986-46c3-addb-7eec4ce394f8/lib/python3.9/site-packages (from selenium==4.18.1) (4.12.2)\nRequirement already satisfied: trio~=0.17 in /local_disk0/.ephemeral_nfs/envs/pythonEnv-5b9a1609-9986-46c3-addb-7eec4ce394f8/lib/python3.9/site-packages (from selenium==4.18.1) (0.30.0)\nRequirement already satisfied: attrs>=23.2.0 in /local_disk0/.ephemeral_nfs/envs/pythonEnv-5b9a1609-9986-46c3-addb-7eec4ce394f8/lib/python3.9/site-packages (from trio~=0.17->selenium==4.18.1) (25.3.0)\nRequirement already satisfied: exceptiongroup in /local_disk0/.ephemeral_nfs/envs/pythonEnv-5b9a1609-9986-46c3-addb-7eec4ce394f8/lib/python3.9/site-packages (from trio~=0.17->selenium==4.18.1) (1.3.0)\nRequirement already satisfied: idna in /databricks/python3/lib/python3.9/site-packages (from trio~=0.17->selenium==4.18.1) (3.3)\nRequirement already satisfied: sniffio>=1.3.0 in /local_disk0/.ephemeral_nfs/envs/pythonEnv-5b9a1609-9986-46c3-addb-7eec4ce394f8/lib/python3.9/site-packages (from trio~=0.17->selenium==4.18.1) (1.3.1)\nRequirement already satisfied: outcome in /local_disk0/.ephemeral_nfs/envs/pythonEnv-5b9a1609-9986-46c3-addb-7eec4ce394f8/lib/python3.9/site-packages (from trio~=0.17->selenium==4.18.1) (1.3.0.post0)\nRequirement already satisfied: sortedcontainers in /local_disk0/.ephemeral_nfs/envs/pythonEnv-5b9a1609-9986-46c3-addb-7eec4ce394f8/lib/python3.9/site-packages (from trio~=0.17->selenium==4.18.1) (2.4.0)\nRequirement already satisfied: wsproto>=0.14 in /local_disk0/.ephemeral_nfs/envs/pythonEnv-5b9a1609-9986-46c3-addb-7eec4ce394f8/lib/python3.9/site-packages (from trio-websocket~=0.9->selenium==4.18.1) (1.2.0)\nRequirement already satisfied: PySocks!=1.5.7,<2.0,>=1.5.6 in /local_disk0/.ephemeral_nfs/envs/pythonEnv-5b9a1609-9986-46c3-addb-7eec4ce394f8/lib/python3.9/site-packages (from urllib3[socks]<3,>=1.26->selenium==4.18.1) (1.7.1)\nRequirement already satisfied: h11<1,>=0.9.0 in /local_disk0/.ephemeral_nfs/envs/pythonEnv-5b9a1609-9986-46c3-addb-7eec4ce394f8/lib/python3.9/site-packages (from wsproto>=0.14->trio-websocket~=0.9->selenium==4.18.1) (0.16.0)\nPython interpreter will be restarted.\n"
     ]
    }
   ],
   "source": [
    "%pip install selenium==4.18.1"
   ]
  },
  {
   "cell_type": "code",
   "execution_count": 0,
   "metadata": {
    "application/vnd.databricks.v1+cell": {
     "cellMetadata": {
      "byteLimit": 2048000,
      "rowLimit": 10000
     },
     "inputWidgets": {},
     "nuid": "b814125d-29e2-479a-920e-07cb72191d1b",
     "showTitle": false,
     "tableResultSettingsMap": {},
     "title": ""
    }
   },
   "outputs": [
    {
     "output_type": "stream",
     "name": "stdout",
     "output_type": "stream",
     "text": [
      "Hit:1 https://repos.azul.com/zulu/deb stable InRelease\nGet:2 http://security.ubuntu.com/ubuntu focal-security InRelease [128 kB]\nHit:3 http://archive.ubuntu.com/ubuntu focal InRelease\nGet:4 http://archive.ubuntu.com/ubuntu focal-updates InRelease [128 kB]\nGet:5 http://security.ubuntu.com/ubuntu focal-security/main amd64 Packages [4,431 kB]\nGet:6 http://archive.ubuntu.com/ubuntu focal-backports InRelease [128 kB]\nGet:7 http://archive.ubuntu.com/ubuntu focal-updates/restricted amd64 Packages [4,998 kB]\nGet:8 http://security.ubuntu.com/ubuntu focal-security/restricted amd64 Packages [4,801 kB]\nGet:9 http://security.ubuntu.com/ubuntu focal-security/universe amd64 Packages [1,308 kB]\nGet:10 http://archive.ubuntu.com/ubuntu focal-updates/main amd64 Packages [4,919 kB]\nGet:11 http://archive.ubuntu.com/ubuntu focal-updates/universe amd64 Packages [1,599 kB]\nFetched 22.4 MB in 3s (8,410 kB/s)\nReading package lists...\nReading package lists...\nBuilding dependency tree...\nReading state information...\n0 upgraded, 0 newly installed, 0 to remove and 54 not upgraded.\n--2025-06-11 14:28:05--  http://unzip/\nResolving unzip (unzip)... failed: Name or service not known.\nwget: unable to resolve host address ‘unzip’\n--2025-06-11 14:28:05--  https://dl.google.com/linux/direct/google-chrome-stable_current_amd64.deb\nResolving dl.google.com (dl.google.com)... 74.125.195.136, 74.125.195.93, 74.125.195.190, ...\nConnecting to dl.google.com (dl.google.com)|74.125.195.136|:443... connected.\nHTTP request sent, awaiting response... 200 OK\nLength: 117322064 (112M) [application/x-debian-package]\nSaving to: ‘google-chrome-stable_current_amd64.deb’\n\n     0K .......... .......... .......... .......... ..........  0% 1.68M 66s\n    50K .......... .......... .......... .......... ..........  0% 3.13M 51s\n   100K .......... .......... .......... .......... ..........  0% 3.00M 46s\n   150K .......... .......... .......... .......... ..........  0% 3.83M 42s\n   200K .......... .......... .......... .......... ..........  0% 5.46M 38s\n   250K .......... .......... .......... .......... ..........  0% 8.64M 34s\n   300K .......... .......... .......... .......... ..........  0% 12.1M 30s\n   350K .......... .......... .......... .......... ..........  0% 7.38M 28s\n   400K .......... .......... .......... .......... ..........  0% 15.8M 26s\n   450K .......... .......... .......... .......... ..........  0% 19.5M 24s\n   500K .......... .......... .......... .......... ..........  0% 16.1M 22s\n   550K .......... .......... .......... .......... ..........  0% 28.3M 21s\n   600K .......... .......... .......... .......... ..........  0% 19.6M 20s\n   650K .......... .......... .......... .......... ..........  0% 15.9M 19s\n   700K .......... .......... .......... .......... ..........  0% 26.3M 18s\n   750K .......... .......... .......... .......... ..........  0% 19.9M 17s\n   800K .......... .......... .......... .......... ..........  0% 26.2M 16s\n   850K .......... .......... .......... .......... ..........  0% 52.1M 15s\n   900K .......... .......... .......... .......... ..........  0% 29.4M 15s\n   950K .......... .......... .......... .......... ..........  0% 25.6M 14s\n  1000K .......... .......... .......... .......... ..........  0% 27.1M 14s\n  1050K .......... .......... .......... .......... ..........  0% 78.9M 13s\n  1100K .......... .......... .......... .......... ..........  1% 48.7M 13s\n  1150K .......... .......... .......... .......... ..........  1% 47.8M 12s\n  1200K .......... .......... .......... .......... ..........  1% 25.4M 12s\n  1250K .......... .......... .......... .......... ..........  1% 25.4M 12s\n  1300K .......... .......... .......... .......... ..........  1% 37.9M 11s\n  1350K .......... .......... .......... .......... ..........  1% 23.9M 11s\n  1400K .......... .......... .......... .......... ..........  1% 54.7M 11s\n  1450K .......... .......... .......... .......... ..........  1% 28.0M 11s\n  1500K .......... .......... .......... .......... ..........  1% 10.6M 11s\n  1550K .......... .......... .......... .......... ..........  1% 20.1M 10s\n  1600K .......... .......... .......... .......... ..........  1% 94.9M 10s\n  1650K .......... .......... .......... .......... ..........  1% 19.2M 10s\n  1700K .......... .......... .......... .......... ..........  1% 27.7M 10s\n  1750K .......... .......... .......... .......... ..........  1% 84.6M 10s\n  1800K .......... .......... .......... .......... ..........  1% 9.03M 10s\n  1850K .......... .......... .......... .......... ..........  1% 17.9M 10s\n  1900K .......... .......... .......... .......... ..........  1% 28.2M 9s\n  1950K .......... .......... .......... .......... ..........  1% 22.9M 9s\n  2000K .......... .......... .......... .......... ..........  1% 13.8M 9s\n  2050K .......... .......... .......... .......... ..........  1% 53.3M 9s\n  2100K .......... .......... .......... .......... ..........  1% 34.2M 9s\n  2150K .......... .......... .......... .......... ..........  1%  285M 9s\n  2200K .......... .......... .......... .......... ..........  1%  326M 9s\n  2250K .......... .......... .......... .......... ..........  2%  253M 8s\n  2300K .......... .......... .......... .......... ..........  2%  121M 8s\n  2350K .......... .......... .......... .......... ..........  2% 25.1M 8s\n  2400K .......... .......... .......... .......... ..........  2%  161M 8s\n  2450K .......... .......... .......... .......... ..........  2%  199M 8s\n  2500K .......... .......... .......... .......... ..........  2% 34.3M 8s\n  2550K .......... .......... .......... .......... ..........  2% 59.2M 8s\n  2600K .......... .......... .......... .......... ..........  2%  254M 7s\n  2650K .......... .......... .......... .......... ..........  2%  256M 7s\n  2700K .......... .......... .......... .......... ..........  2% 14.5M 7s\n  2750K .......... .......... .......... .......... ..........  2%  208M 7s\n  2800K .......... .......... .......... .......... ..........  2%  358M 7s\n  2850K .......... .......... .......... .......... ..........  2%  379M 7s\n  2900K .......... .......... .......... .......... ..........  2%  205M 7s\n  2950K .......... .......... .......... .......... ..........  2% 16.0M 7s\n  3000K .......... .......... .......... .......... ..........  2% 55.6M 7s\n  3050K .......... .......... .......... .......... ..........  2%  252M 7s\n  3100K .......... .......... .......... .......... ..........  2% 26.4M 7s\n  3150K .......... .......... .......... .......... ..........  2%  275M 6s\n  3200K .......... .......... .......... .......... ..........  2%  336M 6s\n  3250K .......... .......... .......... .......... ..........  2%  261M 6s\n  3300K .......... .......... .......... .......... ..........  2%  240M 6s\n  3350K .......... .......... .......... .......... ..........  2%  222M 6s\n  3400K .......... .......... .......... .......... ..........  3% 76.3M 6s\n  3450K .......... .......... .......... .......... ..........  3%  266M 6s\n  3500K .......... .......... .......... .......... ..........  3% 10.6M 6s\n  3550K .......... .......... .......... .......... ..........  3% 64.7M 6s\n  3600K .......... .......... .......... .......... ..........  3% 26.3M 6s\n  3650K .......... .......... .......... .......... ..........  3%  228M 6s\n  3700K .......... .......... .......... .......... ..........  3%  258M 6s\n  3750K .......... .......... .......... .......... ..........  3%  235M 6s\n  3800K .......... .......... .......... .......... ..........  3% 22.6M 6s\n  3850K .......... .......... .......... .......... ..........  3% 33.8M 6s\n  3900K .......... .......... .......... .......... ..........  3%  212M 6s\n  3950K .......... .......... .......... .......... ..........  3%  206M 6s\n  4000K .......... .......... .......... .......... ..........  3%  190M 5s\n  4050K .......... .......... .......... .......... ..........  3% 14.9M 5s\n  4100K .......... .......... .......... .......... ..........  3%  253M 5s\n  4150K .......... .......... .......... .......... ..........  3% 60.1M 5s\n  4200K .......... .......... .......... .......... ..........  3%  253M 5s\n  4250K .......... .......... .......... .......... ..........  3%  256M 5s\n  4300K .......... .......... .......... .......... ..........  3% 19.0M 5s\n  4350K .......... .......... .......... .......... ..........  3% 35.8M 5s\n  4400K .......... .......... .......... .......... ..........  3%  241M 5s\n  4450K .......... .......... .......... .......... ..........  3% 27.6M 5s\n  4500K .......... .......... .......... .......... ..........  3% 19.8M 5s\n  4550K .......... .......... .......... .......... ..........  4%  214M 5s\n  4600K .......... .......... .......... .......... ..........  4% 25.4M 5s\n  4650K .......... .......... .......... .......... ..........  4%  372M 5s\n  4700K .......... .......... .......... .......... ..........  4%  267M 5s\n  4750K .......... .......... .......... .......... ..........  4% 59.9M 5s\n  4800K .......... .......... .......... .......... ..........  4% 28.3M 5s\n  4850K .......... .......... .......... .......... ..........  4%  213M 5s\n  4900K .......... .......... .......... .......... ..........  4%  265M 5s\n  4950K .......... .......... .......... .......... ..........  4%  201M 5s\n  5000K .......... .......... .......... .......... ..........  4%  240M 5s\n  5050K .......... .......... .......... .......... ..........  4% 37.5M 5s\n  5100K .......... .......... .......... .......... ..........  4%  237M 5s\n  5150K .......... .......... .......... .......... ..........  4%  244M 5s\n  5200K .......... .......... .......... .......... ..........  4%  299M 5s\n  5250K .......... .......... .......... .......... ..........  4%  383M 5s\n  5300K .......... .......... .......... .......... ..........  4%  185M 5s\n  5350K .......... .......... .......... .......... ..........  4%  320M 4s\n  5400K .......... .......... .......... .......... ..........  4%  337M 4s\n  5450K .......... .......... .......... .......... ..........  4%  270M 4s\n  5500K .......... .......... .......... .......... ..........  4%  258M 4s\n  5550K .......... .......... .......... .......... ..........  4% 26.7M 4s\n  5600K .......... .......... .......... .......... ..........  4% 48.0M 4s\n  5650K .......... .......... .......... .......... ..........  4%  230M 4s\n  5700K .......... .......... .......... .......... ..........  5%  107M 4s\n  5750K .......... .......... .......... .......... ..........  5% 36.0M 4s\n  5800K .......... .......... .......... .......... ..........  5%  320M 4s\n  5850K .......... .......... .......... .......... ..........  5%  392M 4s\n  5900K .......... .......... .......... .......... ..........  5%  149M 4s\n  5950K .......... .......... .......... .......... ..........  5%  146M 4s\n  6000K .......... .......... .......... .......... ..........  5% 29.8M 4s\n  6050K .......... .......... .......... .......... ..........  5%  256M 4s\n  6100K .......... .......... .......... .......... ..........  5%  132M 4s\n  6150K .......... .......... .......... .......... ..........  5% 29.2M 4s\n  6200K .......... .......... .......... .......... ..........  5%  340M 4s\n  6250K .......... .......... .......... .......... ..........  5% 32.0M 4s\n  6300K .......... .......... .......... .......... ..........  5%  257M 4s\n  6350K .......... .......... .......... .......... ..........  5%  194M 4s\n  6400K .......... .......... .......... .......... ..........  5%  267M 4s\n  6450K .......... .......... .......... .......... ..........  5% 7.22M 4s\n  6500K .......... .......... .......... .......... ..........  5% 54.9M 4s\n  6550K .......... .......... .......... .......... ..........  5%  172M 4s\n  6600K .......... .......... .......... .......... ..........  5%  215M 4s\n  6650K .......... .......... .......... .......... ..........  5%  267M 4s\n  6700K .......... .......... .......... .......... ..........  5%  275M 4s\n  6750K .......... .......... .......... .......... ..........  5% 25.1M 4s\n  6800K .......... .......... .......... .......... ..........  5% 40.7M 4s\n  6850K .......... .......... .......... .......... ..........  6%  266M 4s\n  6900K .......... .......... .......... .......... ..........  6%  274M 4s\n  6950K .......... .......... .......... .......... ..........  6% 18.9M 4s\n  7000K .......... .......... .......... .......... ..........  6%  165M 4s\n  7050K .......... .......... .......... .......... ..........  6% 35.6M 4s\n  7100K .......... .......... .......... .......... ..........  6%  254M 4s\n  7150K .......... .......... .......... .......... ..........  6%  268M 4s\n  7200K .......... .......... .......... .......... ..........  6%  266M 4s\n  7250K .......... .......... .......... .......... ..........  6% 32.6M 4s\n  7300K .......... .......... .......... .......... ..........  6% 67.6M 4s\n  7350K .......... .......... .......... .......... ..........  6%  220M 4s\n  7400K .......... .......... .......... .......... ..........  6% 35.3M 4s\n  7450K .......... .......... .......... .......... ..........  6% 58.2M 4s\n  7500K .......... .......... .......... .......... ..........  6% 93.5M 4s\n  7550K .......... .......... .......... .......... ..........  6% 10.8M 4s\n  7600K .......... .......... .......... .......... ..........  6%  238M 4s\n  7650K .......... .......... .......... .......... ..........  6% 51.1M 4s\n  7700K .......... .......... .......... .......... ..........  6%  249M 4s\n  7750K .......... .......... .......... .......... ..........  6%  350M 4s\n  7800K .......... .......... .......... .......... ..........  6%  171M 4s\n  7850K .......... .......... .......... .......... ..........  6%  258M 4s\n  7900K .......... .......... .......... .......... ..........  6%  239M 4s\n  7950K .......... .......... .......... .......... ..........  6%  223M 4s\n  8000K .......... .......... .......... .......... ..........  7% 12.8M 4s\n  8050K .......... .......... .......... .......... ..........  7%  359M 4s\n  8100K .......... .......... .......... .......... ..........  7%  380M 3s\n  8150K .......... .......... .......... .......... ..........  7%  319M 3s\n  8200K .......... .......... .......... .......... ..........  7%  387M 3s\n  8250K .......... .......... .......... .......... ..........  7%  393M 3s\n  8300K .......... .......... .......... .......... ..........  7% 15.8M 3s\n  8350K .......... .......... .......... .......... ..........  7% 48.8M 3s\n  8400K .......... .......... .......... .......... ..........  7%  329M 3s\n  8450K .......... .......... .......... .......... ..........  7%  324M 3s\n  8500K .......... .......... .......... .......... ..........  7%  369M 3s\n  8550K .......... .......... .......... .......... ..........  7% 30.6M 3s\n  8600K .......... .......... .......... .......... ..........  7% 25.5M 3s\n  8650K .......... .......... .......... .......... ..........  7%  162M 3s\n  8700K .......... .......... .......... .......... ..........  7%  228M 3s\n  8750K .......... .......... .......... .......... ..........  7% 27.8M 3s\n  8800K .......... .......... .......... .......... ..........  7% 47.8M 3s\n  8850K .......... .......... .......... .......... ..........  7%  351M 3s\n  8900K .......... .......... .......... .......... ..........  7%  216M 3s\n  8950K .......... .......... .......... .......... ..........  7% 22.8M 3s\n  9000K .......... .......... .......... .......... ..........  7%  174M 3s\n  9050K .......... .......... .......... .......... ..........  7%  262M 3s\n  9100K .......... .......... .......... .......... ..........  7%  213M 3s\n  9150K .......... .......... .......... .......... ..........  8% 51.6M 3s\n  9200K .......... .......... .......... .......... ..........  8% 68.5M 3s\n  9250K .......... .......... .......... .......... ..........  8%  138M 3s\n  9300K .......... .......... .......... .......... ..........  8% 57.9M 3s\n  9350K .......... .......... .......... .......... ..........  8%  343M 3s\n  9400K .......... .......... .......... .......... ..........  8%  374M 3s\n  9450K .......... .......... .......... .......... ..........  8% 68.1M 3s\n  9500K .......... .......... .......... .......... ..........  8% 23.4M 3s\n  9550K .......... .......... .......... .......... ..........  8%  135M 3s\n  9600K .......... .......... .......... .......... ..........  8% 38.0M 3s\n  9650K .......... .......... .......... .......... ..........  8% 72.8M 3s\n  9700K .......... .......... .......... .......... ..........  8%  366M 3s\n  9750K .......... .......... .......... .......... ..........  8%  294M 3s\n  9800K .......... .......... .......... .......... ..........  8% 51.5M 3s\n  9850K .......... .......... .......... .......... ..........  8%  258M 3s\n  9900K .......... .......... .......... .......... ..........  8% 19.3M 3s\n  9950K .......... .......... .......... .......... ..........  8%  167M 3s\n 10000K .......... .......... .......... .......... ..........  8% 95.0M 3s\n 10050K .......... .......... .......... .......... ..........  8% 68.1M 3s\n 10100K .......... .......... .......... .......... ..........  8%  358M 3s\n 10150K .......... .......... .......... .......... ..........  8% 23.5M 3s\n 10200K .......... .......... .......... .......... ..........  8%  216M 3s\n 10250K .......... .......... .......... .......... ..........  8%  240M 3s\n 10300K .......... .......... .......... .......... ..........  9%  169M 3s\n 10350K .......... .......... .......... .......... ..........  9%  174M 3s\n 10400K .......... .......... .......... .......... ..........  9% 47.3M 3s\n 10450K .......... .......... .......... .......... ..........  9% 43.3M 3s\n 10500K .......... .......... .......... .......... ..........  9%  244M 3s\n 10550K .......... .......... .......... .......... ..........  9% 38.9M 3s\n 10600K .......... .......... .......... .......... ..........  9%  213M 3s\n 10650K .......... .......... .......... .......... ..........  9% 15.3M 3s\n 10700K .......... .......... .......... .......... ..........  9%  243M 3s\n 10750K .......... .......... .......... .......... ..........  9% 44.6M 3s\n 10800K .......... .......... .......... .......... ..........  9%  114M 3s\n 10850K .......... .......... .......... .......... ..........  9%  276M 3s\n 10900K .......... .......... .......... .......... ..........  9%  388M 3s\n 10950K .......... .......... .......... .......... ..........  9%  275M 3s\n 11000K .......... .......... .......... .......... ..........  9%  390M 3s\n 11050K .......... .......... .......... .......... ..........  9%  399M 3s\n 11100K .......... .......... .......... .......... ..........  9% 13.5M 3s\n 11150K .......... .......... .......... .......... ..........  9%  128M 3s\n 11200K .......... .......... .......... .......... ..........  9% 37.8M 3s\n 11250K .......... .......... .......... .......... ..........  9%  283M 3s\n 11300K .......... .......... .......... .......... ..........  9%  380M 3s\n 11350K .......... .......... .......... .......... ..........  9%  345M 3s\n 11400K .......... .......... .......... .......... ..........  9% 24.0M 3s\n 11450K .......... .......... .......... .......... .......... 10%  195M 3s\n 11500K .......... .......... .......... .......... .......... 10%  200M 3s\n 11550K .......... .......... .......... .......... .......... 10% 91.1M 3s\n 11600K .......... .......... .......... .......... .......... 10% 54.5M 3s\n 11650K .......... .......... .......... .......... .......... 10%  246M 3s\n 11700K .......... .......... .......... .......... .......... 10% 52.3M 3s\n 11750K .......... .......... .......... .......... .......... 10%  287M 3s\n 11800K .......... .......... .......... .......... .......... 10%  300M 3s\n 11850K .......... .......... .......... .......... .......... 10%  276M 3s\n 11900K .......... .......... .......... .......... .......... 10% 35.8M 3s\n 11950K .......... .......... .......... .......... .......... 10%  255M 3s\n 12000K .......... .......... .......... .......... .......... 10%  314M 3s\n 12050K .......... .......... .......... .......... .......... 10%  264M 3s\n 12100K .......... .......... .......... .......... .......... 10%  272M 3s\n 12150K .......... .......... .......... .......... .......... 10%  240M 3s\n 12200K .......... .......... .......... .......... .......... 10%  269M 3s\n 12250K .......... .......... .......... .......... .......... 10% 76.9M 3s\n 12300K .......... .......... .......... .......... .......... 10%  150M 3s\n 12350K .......... .......... .......... .......... .......... 10%  172M 3s\n 12400K .......... .......... .......... .......... .......... 10%  271M 3s\n 12450K .......... .......... .......... .......... .......... 10%  282M 3s\n 12500K .......... .......... .......... .......... .......... 10%  249M 3s\n 12550K .......... .......... .......... .......... .......... 10%  192M 3s\n 12600K .......... .......... .......... .......... .......... 11%  245M 3s\n 12650K .......... .......... .......... .......... .......... 11%  239M 3s\n 12700K .......... .......... .......... .......... .......... 11%  382M 3s\n 12750K .......... .......... .......... .......... .......... 11%  321M 3s\n 12800K .......... .......... .......... .......... .......... 11%  373M 3s\n 12850K .......... .......... .......... .......... .......... 11%  393M 3s\n 12900K .......... .......... .......... .......... .......... 11%  293M 3s\n 12950K .......... .......... .......... .......... .......... 11%  283M 3s\n 13000K .......... .......... .......... .......... .......... 11%  260M 3s\n 13050K .......... .......... .......... .......... .......... 11% 32.3M 3s\n 13100K .......... .......... .......... .......... .......... 11%  194M 3s\n 13150K .......... .......... .......... .......... .......... 11%  231M 3s\n 13200K .......... .......... .......... .......... .......... 11%  171M 3s\n 13250K .......... .......... .......... .......... .......... 11%  226M 2s\n 13300K .......... .......... .......... .......... .......... 11% 50.9M 2s\n 13350K .......... .......... .......... .......... .......... 11%  174M 2s\n 13400K .......... .......... .......... .......... .......... 11%  127M 2s\n 13450K .......... .......... .......... .......... .......... 11% 94.0M 2s\n 13500K .......... .......... .......... .......... .......... 11%  265M 2s\n 13550K .......... .......... .......... .......... .......... 11%  168M 2s\n 13600K .......... .......... .......... .......... .......... 11%  372M 2s\n 13650K .......... .......... .......... .......... .......... 11%  394M 2s\n 13700K .......... .......... .......... .......... .......... 12%  376M 2s\n 13750K .......... .......... .......... .......... .......... 12%  349M 2s\n 13800K .......... .......... .......... .......... .......... 12%  394M 2s\n 13850K .......... .......... .......... .......... .......... 12%  315M 2s\n 13900K .......... .......... .......... .......... .......... 12% 31.4M 2s\n 13950K .......... .......... .......... .......... .......... 12%  210M 2s\n 14000K .......... .......... .......... .......... .......... 12%  194M 2s\n 14050K .......... .......... .......... .......... .......... 12%  151M 2s\n 14100K .......... .......... .......... .......... .......... 12%  212M 2s\n 14150K .......... .......... .......... .......... .......... 12% 62.9M 2s\n 14200K .......... .......... .......... .......... .......... 12%  144M 2s\n 14250K .......... .......... .......... .......... .......... 12%  225M 2s\n 14300K .......... .......... .......... .......... .......... 12%  150M 2s\n 14350K .......... .......... .......... .......... .......... 12%  117M 2s\n 14400K .......... .......... .......... .......... .......... 12%  246M 2s\n 14450K .......... .......... .......... .......... .......... 12%  270M 2s\n 14500K .......... .......... .......... .......... .......... 12%  310M 2s\n 14550K .......... .......... .......... .......... .......... 12%  337M 2s\n 14600K .......... .......... .......... .......... .......... 12%  393M 2s\n 14650K .......... .......... .......... .......... .......... 12%  387M 2s\n 14700K .......... .......... .......... .......... .......... 12%  389M 2s\n 14750K .......... .......... .......... .......... .......... 12%  184M 2s\n 14800K .......... .......... .......... .......... .......... 12% 42.6M 2s\n 14850K .......... .......... .......... .......... .......... 13%  131M 2s\n 14900K .......... .......... .......... .......... .......... 13%  334M 2s\n 14950K .......... .......... .......... .......... .......... 13%  360M 2s\n 15000K .......... .......... .......... .......... .......... 13%  349M 2s\n 15050K .......... .......... .......... .......... .......... 13%  276M 2s\n 15100K .......... .......... .......... .......... .......... 13%  279M 2s\n 15150K .......... .......... .......... .......... .......... 13%  124M 2s\n 15200K .......... .......... .......... .......... .......... 13%  262M 2s\n 15250K .......... .......... .......... .......... .......... 13%  267M 2s\n 15300K .......... .......... .......... .......... .......... 13\n\n*** WARNING: max output size exceeded, skipping output. ***\n\n00K .......... .......... .......... .......... .......... 87%  380M 0s\n100450K .......... .......... .......... .......... .......... 87% 21.9M 0s\n100500K .......... .......... .......... .......... .......... 87%  243M 0s\n100550K .......... .......... .......... .......... .......... 87%  234M 0s\n100600K .......... .......... .......... .......... .......... 87% 23.6M 0s\n100650K .......... .......... .......... .......... .......... 87%  348M 0s\n100700K .......... .......... .......... .......... .......... 87%  320M 0s\n100750K .......... .......... .......... .......... .......... 87% 45.1M 0s\n100800K .......... .......... .......... .......... .......... 88% 61.5M 0s\n100850K .......... .......... .......... .......... .......... 88% 12.4M 0s\n100900K .......... .......... .......... .......... .......... 88%  346M 0s\n100950K .......... .......... .......... .......... .......... 88% 26.3M 0s\n101000K .......... .......... .......... .......... .......... 88% 9.68M 0s\n101050K .......... .......... .......... .......... .......... 88% 43.7M 0s\n101100K .......... .......... .......... .......... .......... 88% 10.3M 0s\n101150K .......... .......... .......... .......... .......... 88%  180M 0s\n101200K .......... .......... .......... .......... .......... 88%  278M 0s\n101250K .......... .......... .......... .......... .......... 88%  286M 0s\n101300K .......... .......... .......... .......... .......... 88% 15.2M 0s\n101350K .......... .......... .......... .......... .......... 88% 51.2M 0s\n101400K .......... .......... .......... .......... .......... 88% 63.5M 0s\n101450K .......... .......... .......... .......... .......... 88%  151M 0s\n101500K .......... .......... .......... .......... .......... 88%  262M 0s\n101550K .......... .......... .......... .......... .......... 88% 44.4M 0s\n101600K .......... .......... .......... .......... .......... 88% 74.3M 0s\n101650K .......... .......... .......... .......... .......... 88% 20.0M 0s\n101700K .......... .......... .......... .......... .......... 88% 29.4M 0s\n101750K .......... .......... .......... .......... .......... 88%  246M 0s\n101800K .......... .......... .......... .......... .......... 88% 7.40M 0s\n101850K .......... .......... .......... .......... .......... 88%  265M 0s\n101900K .......... .......... .......... .......... .......... 88% 32.7M 0s\n101950K .......... .......... .......... .......... .......... 89%  216M 0s\n102000K .......... .......... .......... .......... .......... 89%  251M 0s\n102050K .......... .......... .......... .......... .......... 89%  275M 0s\n102100K .......... .......... .......... .......... .......... 89% 15.0M 0s\n102150K .......... .......... .......... .......... .......... 89%  118M 0s\n102200K .......... .......... .......... .......... .......... 89%  263M 0s\n102250K .......... .......... .......... .......... .......... 89%  117M 0s\n102300K .......... .......... .......... .......... .......... 89%  224M 0s\n102350K .......... .......... .......... .......... .......... 89% 17.9M 0s\n102400K .......... .......... .......... .......... .......... 89% 14.8M 0s\n102450K .......... .......... .......... .......... .......... 89% 17.0M 0s\n102500K .......... .......... .......... .......... .......... 89% 30.0M 0s\n102550K .......... .......... .......... .......... .......... 89%  199M 0s\n102600K .......... .......... .......... .......... .......... 89% 13.7M 0s\n102650K .......... .......... .......... .......... .......... 89%  216M 0s\n102700K .......... .......... .......... .......... .......... 89% 22.6M 0s\n102750K .......... .......... .......... .......... .......... 89%  222M 0s\n102800K .......... .......... .......... .......... .......... 89%  381M 0s\n102850K .......... .......... .......... .......... .......... 89%  377M 0s\n102900K .......... .......... .......... .......... .......... 89%  385M 0s\n102950K .......... .......... .......... .......... .......... 89%  345M 0s\n103000K .......... .......... .......... .......... .......... 89% 43.8M 0s\n103050K .......... .......... .......... .......... .......... 89%  178M 0s\n103100K .......... .......... .......... .......... .......... 90% 14.6M 0s\n103150K .......... .......... .......... .......... .......... 90% 27.6M 0s\n103200K .......... .......... .......... .......... .......... 90%  245M 0s\n103250K .......... .......... .......... .......... .......... 90%  385M 0s\n103300K .......... .......... .......... .......... .......... 90%  385M 0s\n103350K .......... .......... .......... .......... .......... 90%  328M 0s\n103400K .......... .......... .......... .......... .......... 90% 8.40M 0s\n103450K .......... .......... .......... .......... .......... 90%  300M 0s\n103500K .......... .......... .......... .......... .......... 90% 35.8M 0s\n103550K .......... .......... .......... .......... .......... 90%  141M 0s\n103600K .......... .......... .......... .......... .......... 90% 10.5M 0s\n103650K .......... .......... .......... .......... .......... 90% 31.7M 0s\n103700K .......... .......... .......... .......... .......... 90% 12.3M 0s\n103750K .......... .......... .......... .......... .......... 90% 1.67M 0s\n103800K .......... .......... .......... .......... .......... 90%  188M 0s\n103850K .......... .......... .......... .......... .......... 90%  196M 0s\n103900K .......... .......... .......... .......... .......... 90%  250M 0s\n103950K .......... .......... .......... .......... .......... 90%  173M 0s\n104000K .......... .......... .......... .......... .......... 90%  235M 0s\n104050K .......... .......... .......... .......... .......... 90%  275M 0s\n104100K .......... .......... .......... .......... .......... 90%  183M 0s\n104150K .......... .......... .......... .......... .......... 90%  243M 0s\n104200K .......... .......... .......... .......... .......... 90% 74.8M 0s\n104250K .......... .......... .......... .......... .......... 91%  343M 0s\n104300K .......... .......... .......... .......... .......... 91%  381M 0s\n104350K .......... .......... .......... .......... .......... 91%  281M 0s\n104400K .......... .......... .......... .......... .......... 91%  223M 0s\n104450K .......... .......... .......... .......... .......... 91% 76.1M 0s\n104500K .......... .......... .......... .......... .......... 91%  281M 0s\n104550K .......... .......... .......... .......... .......... 91%  251M 0s\n104600K .......... .......... .......... .......... .......... 91%  220M 0s\n104650K .......... .......... .......... .......... .......... 91%  332M 0s\n104700K .......... .......... .......... .......... .......... 91%  398M 0s\n104750K .......... .......... .......... .......... .......... 91%  240M 0s\n104800K .......... .......... .......... .......... .......... 91%  186M 0s\n104850K .......... .......... .......... .......... .......... 91%  246M 0s\n104900K .......... .......... .......... .......... .......... 91%  258M 0s\n104950K .......... .......... .......... .......... .......... 91%  209M 0s\n105000K .......... .......... .......... .......... .......... 91%  183M 0s\n105050K .......... .......... .......... .......... .......... 91%  221M 0s\n105100K .......... .......... .......... .......... .......... 91% 18.4M 0s\n105150K .......... .......... .......... .......... .......... 91%  189M 0s\n105200K .......... .......... .......... .......... .......... 91% 82.2M 0s\n105250K .......... .......... .......... .......... .......... 91% 18.2M 0s\n105300K .......... .......... .......... .......... .......... 91%  143M 0s\n105350K .......... .......... .......... .......... .......... 91% 10.2M 0s\n105400K .......... .......... .......... .......... .......... 92%  235M 0s\n105450K .......... .......... .......... .......... .......... 92%  177M 0s\n105500K .......... .......... .......... .......... .......... 92% 11.7M 0s\n105550K .......... .......... .......... .......... .......... 92%  210M 0s\n105600K .......... .......... .......... .......... .......... 92% 35.2M 0s\n105650K .......... .......... .......... .......... .......... 92%  276M 0s\n105700K .......... .......... .......... .......... .......... 92% 21.3M 0s\n105750K .......... .......... .......... .......... .......... 92%  233M 0s\n105800K .......... .......... .......... .......... .......... 92%  267M 0s\n105850K .......... .......... .......... .......... .......... 92% 25.9M 0s\n105900K .......... .......... .......... .......... .......... 92% 20.9M 0s\n105950K .......... .......... .......... .......... .......... 92% 15.7M 0s\n106000K .......... .......... .......... .......... .......... 92%  262M 0s\n106050K .......... .......... .......... .......... .......... 92%  171M 0s\n106100K .......... .......... .......... .......... .......... 92%  249M 0s\n106150K .......... .......... .......... .......... .......... 92% 21.2M 0s\n106200K .......... .......... .......... .......... .......... 92%  280M 0s\n106250K .......... .......... .......... .......... .......... 92%  378M 0s\n106300K .......... .......... .......... .......... .......... 92%  395M 0s\n106350K .......... .......... .......... .......... .......... 92%  322M 0s\n106400K .......... .......... .......... .......... .......... 92%  385M 0s\n106450K .......... .......... .......... .......... .......... 92% 22.9M 0s\n106500K .......... .......... .......... .......... .......... 92% 87.4M 0s\n106550K .......... .......... .......... .......... .......... 93%  146M 0s\n106600K .......... .......... .......... .......... .......... 93%  264M 0s\n106650K .......... .......... .......... .......... .......... 93% 21.6M 0s\n106700K .......... .......... .......... .......... .......... 93%  363M 0s\n106750K .......... .......... .......... .......... .......... 93% 80.0M 0s\n106800K .......... .......... .......... .......... .......... 93%  303M 0s\n106850K .......... .......... .......... .......... .......... 93% 20.0M 0s\n106900K .......... .......... .......... .......... .......... 93%  214M 0s\n106950K .......... .......... .......... .......... .......... 93%  252M 0s\n107000K .......... .......... .......... .......... .......... 93%  227M 0s\n107050K .......... .......... .......... .......... .......... 93%  276M 0s\n107100K .......... .......... .......... .......... .......... 93% 23.5M 0s\n107150K .......... .......... .......... .......... .......... 93% 37.3M 0s\n107200K .......... .......... .......... .......... .......... 93%  266M 0s\n107250K .......... .......... .......... .......... .......... 93% 30.7M 0s\n107300K .......... .......... .......... .......... .......... 93%  265M 0s\n107350K .......... .......... .......... .......... .......... 93% 12.9M 0s\n107400K .......... .......... .......... .......... .......... 93% 42.9M 0s\n107450K .......... .......... .......... .......... .......... 93% 14.7M 0s\n107500K .......... .......... .......... .......... .......... 93% 21.0M 0s\n107550K .......... .......... .......... .......... .......... 93% 48.3M 0s\n107600K .......... .......... .......... .......... .......... 93%  191M 0s\n107650K .......... .......... .......... .......... .......... 94%  247M 0s\n107700K .......... .......... .......... .......... .......... 94% 21.0M 0s\n107750K .......... .......... .......... .......... .......... 94% 27.0M 0s\n107800K .......... .......... .......... .......... .......... 94%  170M 0s\n107850K .......... .......... .......... .......... .......... 94%  273M 0s\n107900K .......... .......... .......... .......... .......... 94%  264M 0s\n107950K .......... .......... .......... .......... .......... 94% 8.52M 0s\n108000K .......... .......... .......... .......... .......... 94%  255M 0s\n108050K .......... .......... .......... .......... .......... 94%  264M 0s\n108100K .......... .......... .......... .......... .......... 94% 9.74M 0s\n108150K .......... .......... .......... .......... .......... 94%  236M 0s\n108200K .......... .......... .......... .......... .......... 94% 18.2M 0s\n108250K .......... .......... .......... .......... .......... 94%  292M 0s\n108300K .......... .......... .......... .......... .......... 94%  371M 0s\n108350K .......... .......... .......... .......... .......... 94%  137M 0s\n108400K .......... .......... .......... .......... .......... 94% 15.8M 0s\n108450K .......... .......... .......... .......... .......... 94%  241M 0s\n108500K .......... .......... .......... .......... .......... 94%  252M 0s\n108550K .......... .......... .......... .......... .......... 94% 5.52M 0s\n108600K .......... .......... .......... .......... .......... 94% 43.7M 0s\n108650K .......... .......... .......... .......... .......... 94%  348M 0s\n108700K .......... .......... .......... .......... .......... 94% 59.4M 0s\n108750K .......... .......... .......... .......... .......... 94% 10.0M 0s\n108800K .......... .......... .......... .......... .......... 95%  188M 0s\n108850K .......... .......... .......... .......... .......... 95% 23.4M 0s\n108900K .......... .......... .......... .......... .......... 95%  237M 0s\n108950K .......... .......... .......... .......... .......... 95%  243M 0s\n109000K .......... .......... .......... .......... .......... 95%  276M 0s\n109050K .......... .......... .......... .......... .......... 95%  273M 0s\n109100K .......... .......... .......... .......... .......... 95% 97.5M 0s\n109150K .......... .......... .......... .......... .......... 95%  424K 0s\n109200K .......... .......... .......... .......... .......... 95%  232M 0s\n109250K .......... .......... .......... .......... .......... 95%  249M 0s\n109300K .......... .......... .......... .......... .......... 95% 37.4M 0s\n109350K .......... .......... .......... .......... .......... 95%  217M 0s\n109400K .......... .......... .......... .......... .......... 95%  198M 0s\n109450K .......... .......... .......... .......... .......... 95%  245M 0s\n109500K .......... .......... .......... .......... .......... 95%  204M 0s\n109550K .......... .......... .......... .......... .......... 95%  199M 0s\n109600K .......... .......... .......... .......... .......... 95% 86.1M 0s\n109650K .......... .......... .......... .......... .......... 95%  314M 0s\n109700K .......... .......... .......... .......... .......... 95%  367M 0s\n109750K .......... .......... .......... .......... .......... 95%  254M 0s\n109800K .......... .......... .......... .......... .......... 95%  222M 0s\n109850K .......... .......... .......... .......... .......... 95%  245M 0s\n109900K .......... .......... .......... .......... .......... 95%  250M 0s\n109950K .......... .......... .......... .......... .......... 96%  172M 0s\n110000K .......... .......... .......... .......... .......... 96%  241M 0s\n110050K .......... .......... .......... .......... .......... 96%  243M 0s\n110100K .......... .......... .......... .......... .......... 96%  268M 0s\n110150K .......... .......... .......... .......... .......... 96%  337M 0s\n110200K .......... .......... .......... .......... .......... 96%  351M 0s\n110250K .......... .......... .......... .......... .......... 96%  155M 0s\n110300K .......... .......... .......... .......... .......... 96%  225M 0s\n110350K .......... .......... .......... .......... .......... 96% 15.5M 0s\n110400K .......... .......... .......... .......... .......... 96% 23.3M 0s\n110450K .......... .......... .......... .......... .......... 96% 30.3M 0s\n110500K .......... .......... .......... .......... .......... 96%  242M 0s\n110550K .......... .......... .......... .......... .......... 96% 12.0M 0s\n110600K .......... .......... .......... .......... .......... 96% 15.1M 0s\n110650K .......... .......... .......... .......... .......... 96%  337M 0s\n110700K .......... .......... .......... .......... .......... 96%  162M 0s\n110750K .......... .......... .......... .......... .......... 96%  199M 0s\n110800K .......... .......... .......... .......... .......... 96% 72.5M 0s\n110850K .......... .......... .......... .......... .......... 96%  196M 0s\n110900K .......... .......... .......... .......... .......... 96%  300M 0s\n110950K .......... .......... .......... .......... .......... 96% 9.29M 0s\n111000K .......... .......... .......... .......... .......... 96%  238M 0s\n111050K .......... .......... .......... .......... .......... 96%  249M 0s\n111100K .......... .......... .......... .......... .......... 97%  247M 0s\n111150K .......... .......... .......... .......... .......... 97%  245M 0s\n111200K .......... .......... .......... .......... .......... 97% 22.0M 0s\n111250K .......... .......... .......... .......... .......... 97%  236M 0s\n111300K .......... .......... .......... .......... .......... 97%  255M 0s\n111350K .......... .......... .......... .......... .......... 97%  231M 0s\n111400K .......... .......... .......... .......... .......... 97%  241M 0s\n111450K .......... .......... .......... .......... .......... 97%  179M 0s\n111500K .......... .......... .......... .......... .......... 97% 79.3M 0s\n111550K .......... .......... .......... .......... .......... 97%  201M 0s\n111600K .......... .......... .......... .......... .......... 97% 31.5M 0s\n111650K .......... .......... .......... .......... .......... 97%  262M 0s\n111700K .......... .......... .......... .......... .......... 97% 19.6M 0s\n111750K .......... .......... .......... .......... .......... 97%  204M 0s\n111800K .......... .......... .......... .......... .......... 97%  245M 0s\n111850K .......... .......... .......... .......... .......... 97%  254M 0s\n111900K .......... .......... .......... .......... .......... 97%  170M 0s\n111950K .......... .......... .......... .......... .......... 97% 76.9M 0s\n112000K .......... .......... .......... .......... .......... 97%  278M 0s\n112050K .......... .......... .......... .......... .......... 97%  281M 0s\n112100K .......... .......... .......... .......... .......... 97% 37.6M 0s\n112150K .......... .......... .......... .......... .......... 97%  232M 0s\n112200K .......... .......... .......... .......... .......... 97%  259M 0s\n112250K .......... .......... .......... .......... .......... 98% 5.81M 0s\n112300K .......... .......... .......... .......... .......... 98% 87.1M 0s\n112350K .......... .......... .......... .......... .......... 98% 46.9M 0s\n112400K .......... .......... .......... .......... .......... 98% 66.7M 0s\n112450K .......... .......... .......... .......... .......... 98% 14.4M 0s\n112500K .......... .......... .......... .......... .......... 98%  235M 0s\n112550K .......... .......... .......... .......... .......... 98% 63.5M 0s\n112600K .......... .......... .......... .......... .......... 98%  352M 0s\n112650K .......... .......... .......... .......... .......... 98%  276M 0s\n112700K .......... .......... .......... .......... .......... 98% 20.0M 0s\n112750K .......... .......... .......... .......... .......... 98% 9.41M 0s\n112800K .......... .......... .......... .......... .......... 98% 9.84M 0s\n112850K .......... .......... .......... .......... .......... 98%  273M 0s\n112900K .......... .......... .......... .......... .......... 98%  264M 0s\n112950K .......... .......... .......... .......... .......... 98% 19.0M 0s\n113000K .......... .......... .......... .......... .......... 98%  249M 0s\n113050K .......... .......... .......... .......... .......... 98% 61.0M 0s\n113100K .......... .......... .......... .......... .......... 98%  343M 0s\n113150K .......... .......... .......... .......... .......... 98%  302M 0s\n113200K .......... .......... .......... .......... .......... 98% 46.5M 0s\n113250K .......... .......... .......... .......... .......... 98% 49.1M 0s\n113300K .......... .......... .......... .......... .......... 98% 26.3M 0s\n113350K .......... .......... .......... .......... .......... 98%  237M 0s\n113400K .......... .......... .......... .......... .......... 99%  201M 0s\n113450K .......... .......... .......... .......... .......... 99%  281M 0s\n113500K .......... .......... .......... .......... .......... 99%  281M 0s\n113550K .......... .......... .......... .......... .......... 99% 38.4M 0s\n113600K .......... .......... .......... .......... .......... 99%  306M 0s\n113650K .......... .......... .......... .......... .......... 99%  269M 0s\n113700K .......... .......... .......... .......... .......... 99%  259M 0s\n113750K .......... .......... .......... .......... .......... 99%  242M 0s\n113800K .......... .......... .......... .......... .......... 99% 95.8M 0s\n113850K .......... .......... .......... .......... .......... 99%  268M 0s\n113900K .......... .......... .......... .......... .......... 99%  296M 0s\n113950K .......... .......... .......... .......... .......... 99%  293M 0s\n114000K .......... .......... .......... .......... .......... 99%  392M 0s\n114050K .......... .......... .......... .......... .......... 99% 22.5M 0s\n114100K .......... .......... .......... .......... .......... 99% 18.9M 0s\n114150K .......... .......... .......... .......... .......... 99%  311M 0s\n114200K .......... .......... .......... .......... .......... 99%  313M 0s\n114250K .......... .......... .......... .......... .......... 99%  231M 0s\n114300K .......... .......... .......... .......... .......... 99%  219M 0s\n114350K .......... .......... .......... .......... .......... 99% 36.2M 0s\n114400K .......... .......... .......... .......... .......... 99% 21.7M 0s\n114450K .......... .......... .......... .......... .......... 99%  214M 0s\n114500K .......... .......... .......... .......... .......... 99% 74.2M 0s\n114550K .......... .......... ..                              100%  110K=2.7s\n\n2025-06-11 14:28:08 (41.9 MB/s) - ‘google-chrome-stable_current_amd64.deb’ saved [117322064/117322064]\n\nReading package lists...\nBuilding dependency tree...\nReading state information...\nThe following additional packages will be installed:\n  fonts-liberation libgbm1 libwayland-server0\nThe following NEW packages will be installed:\n  fonts-liberation google-chrome-stable libgbm1 libwayland-server0\n0 upgraded, 4 newly installed, 0 to remove and 54 not upgraded.\nNeed to get 882 kB/118 MB of archives.\nAfter this operation, 386 MB of additional disk space will be used.\nGet:1 http://archive.ubuntu.com/ubuntu focal/main amd64 fonts-liberation all 1:1.07.4-11 [822 kB]\nGet:2 /databricks/driver/google-chrome-stable_current_amd64.deb google-chrome-stable amd64 137.0.7151.103-1 [117 MB]\nGet:3 http://archive.ubuntu.com/ubuntu focal-updates/main amd64 libwayland-server0 amd64 1.18.0-1ubuntu0.1 [31.3 kB]\nGet:4 http://archive.ubuntu.com/ubuntu focal-updates/main amd64 libgbm1 amd64 21.2.6-0ubuntu0.1~20.04.2 [29.2 kB]\ndebconf: delaying package configuration, since apt-utils is not installed\nFetched 882 kB in 2s (585 kB/s)\nSelecting previously unselected package fonts-liberation.\n(Reading database ... \n(Reading database ... 5%\n(Reading database ... 10%\n(Reading database ... 15%\n(Reading database ... 20%\n(Reading database ... 25%\n(Reading database ... 30%\n(Reading database ... 35%\n(Reading database ... 40%\n(Reading database ... 45%\n(Reading database ... 50%\n(Reading database ... 55%\n(Reading database ... 60%\n(Reading database ... 65%\n(Reading database ... 70%\n(Reading database ... 75%\n(Reading database ... 80%\n(Reading database ... 85%\n(Reading database ... 90%\n(Reading database ... 95%\n(Reading database ... 100%\n(Reading database ... 98413 files and directories currently installed.)\nPreparing to unpack .../fonts-liberation_1%3a1.07.4-11_all.deb ...\nUnpacking fonts-liberation (1:1.07.4-11) ...\nSelecting previously unselected package libwayland-server0:amd64.\nPreparing to unpack .../libwayland-server0_1.18.0-1ubuntu0.1_amd64.deb ...\nUnpacking libwayland-server0:amd64 (1.18.0-1ubuntu0.1) ...\nSelecting previously unselected package libgbm1:amd64.\nPreparing to unpack .../libgbm1_21.2.6-0ubuntu0.1~20.04.2_amd64.deb ...\nUnpacking libgbm1:amd64 (21.2.6-0ubuntu0.1~20.04.2) ...\nSelecting previously unselected package google-chrome-stable.\nPreparing to unpack .../google-chrome-stable_current_amd64.deb ...\nUnpacking google-chrome-stable (137.0.7151.103-1) ...\nSetting up libwayland-server0:amd64 (1.18.0-1ubuntu0.1) ...\nSetting up libgbm1:amd64 (21.2.6-0ubuntu0.1~20.04.2) ...\nSetting up fonts-liberation (1:1.07.4-11) ...\nSetting up google-chrome-stable (137.0.7151.103-1) ...\nupdate-alternatives: using /usr/bin/google-chrome-stable to provide /usr/bin/x-www-browser (x-www-browser) in auto mode\nupdate-alternatives: using /usr/bin/google-chrome-stable to provide /usr/bin/gnome-www-browser (gnome-www-browser) in auto mode\nupdate-alternatives: using /usr/bin/google-chrome-stable to provide /usr/bin/google-chrome (google-chrome) in auto mode\nProcessing triggers for libc-bin (2.31-0ubuntu9.17) ...\nProcessing triggers for man-db (2.9.1-1) ...\nProcessing triggers for fontconfig (2.13.1-2ubuntu3) ...\nProcessing triggers for mime-support (3.64ubuntu1) ...\nReading package lists...\nBuilding dependency tree...\nReading state information...\n0 upgraded, 0 newly installed, 0 to remove and 54 not upgraded.\n"
     ]
    }
   ],
   "source": [
    "%sh sudo apt-get update \n",
    "sudo apt-get install -y \n",
    "wget unzip \n",
    "wget https://dl.google.com/linux/direct/google-chrome-stable_current_amd64.deb \n",
    "sudo apt-get install -y ./google-chrome-stable_current_amd64.deb \n",
    "sudo apt-get install -y -f "
   ]
  },
  {
   "cell_type": "code",
   "execution_count": 0,
   "metadata": {
    "application/vnd.databricks.v1+cell": {
     "cellMetadata": {
      "byteLimit": 2048000,
      "rowLimit": 10000
     },
     "inputWidgets": {},
     "nuid": "713d20fb-ab84-4693-974b-38281589fa5b",
     "showTitle": false,
     "tableResultSettingsMap": {},
     "title": ""
    }
   },
   "outputs": [
    {
     "output_type": "stream",
     "name": "stdout",
     "output_type": "stream",
     "text": [
      "Google Chrome 137.0.7151.103 \n"
     ]
    }
   ],
   "source": [
    "%sh\n",
    "google-chrome --version"
   ]
  },
  {
   "cell_type": "code",
   "execution_count": 0,
   "metadata": {
    "application/vnd.databricks.v1+cell": {
     "cellMetadata": {
      "byteLimit": 2048000,
      "rowLimit": 10000
     },
     "inputWidgets": {},
     "nuid": "afac6444-cabf-41ab-b04e-04c23533bfdc",
     "showTitle": false,
     "tableResultSettingsMap": {},
     "title": ""
    }
   },
   "outputs": [
    {
     "output_type": "stream",
     "name": "stdout",
     "output_type": "stream",
     "text": [
      "Python interpreter will be restarted.\nRequirement already satisfied: requests==2.32.3 in /local_disk0/.ephemeral_nfs/envs/pythonEnv-5b9a1609-9986-46c3-addb-7eec4ce394f8/lib/python3.9/site-packages (2.32.3)\nRequirement already satisfied: beautifulsoup4==4.12.3 in /local_disk0/.ephemeral_nfs/envs/pythonEnv-5b9a1609-9986-46c3-addb-7eec4ce394f8/lib/python3.9/site-packages (4.12.3)\nRequirement already satisfied: urllib3<3,>=1.21.1 in /local_disk0/.ephemeral_nfs/envs/pythonEnv-5b9a1609-9986-46c3-addb-7eec4ce394f8/lib/python3.9/site-packages (from requests==2.32.3) (1.26.20)\nRequirement already satisfied: certifi>=2017.4.17 in /local_disk0/.ephemeral_nfs/envs/pythonEnv-5b9a1609-9986-46c3-addb-7eec4ce394f8/lib/python3.9/site-packages (from requests==2.32.3) (2025.4.26)\nRequirement already satisfied: idna<4,>=2.5 in /databricks/python3/lib/python3.9/site-packages (from requests==2.32.3) (3.3)\nRequirement already satisfied: charset-normalizer<4,>=2 in /databricks/python3/lib/python3.9/site-packages (from requests==2.32.3) (2.0.4)\nRequirement already satisfied: soupsieve>1.2 in /databricks/python3/lib/python3.9/site-packages (from beautifulsoup4==4.12.3) (2.3.1)\nPython interpreter will be restarted.\nPython interpreter will be restarted.\nRequirement already satisfied: webdriver-manager==4.0.2 in /local_disk0/.ephemeral_nfs/envs/pythonEnv-5b9a1609-9986-46c3-addb-7eec4ce394f8/lib/python3.9/site-packages (4.0.2)\nRequirement already satisfied: typing_extensions==4.12.2 in /local_disk0/.ephemeral_nfs/envs/pythonEnv-5b9a1609-9986-46c3-addb-7eec4ce394f8/lib/python3.9/site-packages (4.12.2)\nRequirement already satisfied: packaging in /databricks/python3/lib/python3.9/site-packages (from webdriver-manager==4.0.2) (21.3)\nRequirement already satisfied: requests in /local_disk0/.ephemeral_nfs/envs/pythonEnv-5b9a1609-9986-46c3-addb-7eec4ce394f8/lib/python3.9/site-packages (from webdriver-manager==4.0.2) (2.32.3)\nRequirement already satisfied: python-dotenv in /local_disk0/.ephemeral_nfs/envs/pythonEnv-5b9a1609-9986-46c3-addb-7eec4ce394f8/lib/python3.9/site-packages (from webdriver-manager==4.0.2) (1.1.0)\nRequirement already satisfied: pyparsing!=3.0.5,>=2.0.2 in /databricks/python3/lib/python3.9/site-packages (from packaging->webdriver-manager==4.0.2) (3.0.4)\nRequirement already satisfied: urllib3<3,>=1.21.1 in /local_disk0/.ephemeral_nfs/envs/pythonEnv-5b9a1609-9986-46c3-addb-7eec4ce394f8/lib/python3.9/site-packages (from requests->webdriver-manager==4.0.2) (1.26.20)\nRequirement already satisfied: certifi>=2017.4.17 in /local_disk0/.ephemeral_nfs/envs/pythonEnv-5b9a1609-9986-46c3-addb-7eec4ce394f8/lib/python3.9/site-packages (from requests->webdriver-manager==4.0.2) (2025.4.26)\nRequirement already satisfied: idna<4,>=2.5 in /databricks/python3/lib/python3.9/site-packages (from requests->webdriver-manager==4.0.2) (3.3)\nRequirement already satisfied: charset-normalizer<4,>=2 in /databricks/python3/lib/python3.9/site-packages (from requests->webdriver-manager==4.0.2) (2.0.4)\nPython interpreter will be restarted.\n"
     ]
    }
   ],
   "source": [
    "%pip install requests==2.32.3 beautifulsoup4==4.12.3\n",
    "%pip install webdriver-manager==4.0.2 typing_extensions==4.12.2"
   ]
  },
  {
   "cell_type": "code",
   "execution_count": 0,
   "metadata": {
    "application/vnd.databricks.v1+cell": {
     "cellMetadata": {
      "byteLimit": 2048000,
      "rowLimit": 10000
     },
     "inputWidgets": {},
     "nuid": "75063874-99b1-45a0-adc5-3d440da58f47",
     "showTitle": false,
     "tableResultSettingsMap": {},
     "title": ""
    }
   },
   "outputs": [
    {
     "output_type": "stream",
     "name": "stdout",
     "output_type": "stream",
     "text": [
      "Found 4 tables for prices_volumes\n"
     ]
    },
    {
     "output_type": "display_data",
     "data": {
      "text/html": [
       "<style scoped>\n",
       "  .table-result-container {\n",
       "    max-height: 300px;\n",
       "    overflow: auto;\n",
       "  }\n",
       "  table, th, td {\n",
       "    border: 1px solid black;\n",
       "    border-collapse: collapse;\n",
       "  }\n",
       "  th, td {\n",
       "    padding: 5px;\n",
       "  }\n",
       "  th {\n",
       "    text-align: left;\n",
       "  }\n",
       "</style><div class='table-result-container'><table class='table-result'><thead style='background-color: white'><tr><th>metric</th><th>date</th><th>value</th></tr></thead><tbody><tr><td>Prices (EUR/MWh)</td><td>Sat,_06/07</td><td>81.38</td></tr><tr><td>Prices (EUR/MWh)</td><td>Sun,_06/08</td><td>63.54</td></tr><tr><td>Prices (EUR/MWh)</td><td>Mon,_06/09</td><td>77.97</td></tr><tr><td>Prices (EUR/MWh)</td><td>Tue,_06/10</td><td>83.58</td></tr><tr><td>Prices (EUR/MWh)</td><td>Wed,_06/11</td><td>83.99</td></tr><tr><td>Prices (EUR/MWh)</td><td>Thu,_06/12</td><td>85.41</td></tr><tr><td>Volume (MWh)</td><td>Sat,_06/07</td><td>65968.3</td></tr><tr><td>Volume (MWh)</td><td>Sun,_06/08</td><td>72070.8</td></tr><tr><td>Volume (MWh)</td><td>Mon,_06/09</td><td>69105.4</td></tr><tr><td>Volume (MWh)</td><td>Tue,_06/10</td><td>69329.2</td></tr><tr><td>Volume (MWh)</td><td>Wed,_06/11</td><td>68380.2</td></tr><tr><td>Volume (MWh)</td><td>Thu,_06/12</td><td>79806.0</td></tr></tbody></table></div>"
      ]
     },
     "metadata": {
      "application/vnd.databricks.v1+output": {
       "addedWidgets": {},
       "aggData": [],
       "aggError": "",
       "aggOverflow": false,
       "aggSchema": [],
       "aggSeriesLimitReached": false,
       "aggType": "",
       "arguments": {},
       "columnCustomDisplayInfos": {},
       "data": [
        [
         "Prices (EUR/MWh)",
         "Sat,_06/07",
         81.38
        ],
        [
         "Prices (EUR/MWh)",
         "Sun,_06/08",
         63.54
        ],
        [
         "Prices (EUR/MWh)",
         "Mon,_06/09",
         77.97
        ],
        [
         "Prices (EUR/MWh)",
         "Tue,_06/10",
         83.58
        ],
        [
         "Prices (EUR/MWh)",
         "Wed,_06/11",
         83.99
        ],
        [
         "Prices (EUR/MWh)",
         "Thu,_06/12",
         85.41
        ],
        [
         "Volume (MWh)",
         "Sat,_06/07",
         65968.3
        ],
        [
         "Volume (MWh)",
         "Sun,_06/08",
         72070.8
        ],
        [
         "Volume (MWh)",
         "Mon,_06/09",
         69105.4
        ],
        [
         "Volume (MWh)",
         "Tue,_06/10",
         69329.2
        ],
        [
         "Volume (MWh)",
         "Wed,_06/11",
         68380.2
        ],
        [
         "Volume (MWh)",
         "Thu,_06/12",
         79806.0
        ]
       ],
       "datasetInfos": [],
       "dbfsResultPath": null,
       "isJsonSchema": true,
       "metadata": {},
       "overflow": false,
       "plotOptions": {
        "customPlotOptions": {},
        "displayType": "table",
        "pivotAggregation": null,
        "pivotColumns": null,
        "xColumns": null,
        "yColumns": null
       },
       "removedWidgets": [],
       "schema": [
        {
         "metadata": "{}",
         "name": "metric",
         "type": "\"string\""
        },
        {
         "metadata": "{}",
         "name": "date",
         "type": "\"string\""
        },
        {
         "metadata": "{}",
         "name": "value",
         "type": "\"float\""
        }
       ],
       "type": "table"
      }
     },
     "output_type": "display_data"
    },
    {
     "output_type": "stream",
     "name": "stdout",
     "output_type": "stream",
     "text": [
      "Found 4 tables for block_products\n"
     ]
    },
    {
     "output_type": "display_data",
     "data": {
      "text/html": [
       "<style scoped>\n",
       "  .table-result-container {\n",
       "    max-height: 300px;\n",
       "    overflow: auto;\n",
       "  }\n",
       "  table, th, td {\n",
       "    border: 1px solid black;\n",
       "    border-collapse: collapse;\n",
       "  }\n",
       "  th, td {\n",
       "    padding: 5px;\n",
       "  }\n",
       "  th {\n",
       "    text-align: left;\n",
       "  }\n",
       "</style><div class='table-result-container'><table class='table-result'><thead style='background-color: white'><tr><th>product</th><th>date</th><th>price</th></tr></thead><tbody><tr><td>Base (01-24)</td><td>Sat,_06/07</td><td>81.38</td></tr><tr><td>Base (01-24)</td><td>Sun,_06/08</td><td>63.54</td></tr><tr><td>Base (01-24)</td><td>Mon,_06/09</td><td>77.97</td></tr><tr><td>Base (01-24)</td><td>Tue,_06/10</td><td>83.58</td></tr><tr><td>Base (01-24)</td><td>Wed,_06/11</td><td>83.99</td></tr><tr><td>Base (01-24)</td><td>Thu,_06/12</td><td>85.41</td></tr><tr><td>Peak (9-20)</td><td>Sat,_06/07</td><td>48.62</td></tr><tr><td>Peak (9-20)</td><td>Sun,_06/08</td><td>34.44</td></tr><tr><td>Peak (9-20)</td><td>Mon,_06/09</td><td>43.5</td></tr><tr><td>Peak (9-20)</td><td>Tue,_06/10</td><td>69.62</td></tr><tr><td>Peak (9-20)</td><td>Wed,_06/11</td><td>59.18</td></tr><tr><td>Peak (9-20)</td><td>Thu,_06/12</td><td>58.13</td></tr><tr><td>Off-Peak  (1-8 & 21-24)</td><td>Sat,_06/07</td><td>114.13</td></tr><tr><td>Off-Peak  (1-8 & 21-24)</td><td>Sun,_06/08</td><td>92.65</td></tr><tr><td>Off-Peak  (1-8 & 21-24)</td><td>Mon,_06/09</td><td>112.44</td></tr><tr><td>Off-Peak  (1-8 & 21-24)</td><td>Tue,_06/10</td><td>97.54</td></tr><tr><td>Off-Peak  (1-8 & 21-24)</td><td>Wed,_06/11</td><td>108.81</td></tr><tr><td>Off-Peak  (1-8 & 21-24)</td><td>Thu,_06/12</td><td>112.7</td></tr></tbody></table></div>"
      ]
     },
     "metadata": {
      "application/vnd.databricks.v1+output": {
       "addedWidgets": {},
       "aggData": [],
       "aggError": "",
       "aggOverflow": false,
       "aggSchema": [],
       "aggSeriesLimitReached": false,
       "aggType": "",
       "arguments": {},
       "columnCustomDisplayInfos": {},
       "data": [
        [
         "Base (01-24)",
         "Sat,_06/07",
         81.38
        ],
        [
         "Base (01-24)",
         "Sun,_06/08",
         63.54
        ],
        [
         "Base (01-24)",
         "Mon,_06/09",
         77.97
        ],
        [
         "Base (01-24)",
         "Tue,_06/10",
         83.58
        ],
        [
         "Base (01-24)",
         "Wed,_06/11",
         83.99
        ],
        [
         "Base (01-24)",
         "Thu,_06/12",
         85.41
        ],
        [
         "Peak (9-20)",
         "Sat,_06/07",
         48.62
        ],
        [
         "Peak (9-20)",
         "Sun,_06/08",
         34.44
        ],
        [
         "Peak (9-20)",
         "Mon,_06/09",
         43.5
        ],
        [
         "Peak (9-20)",
         "Tue,_06/10",
         69.62
        ],
        [
         "Peak (9-20)",
         "Wed,_06/11",
         59.18
        ],
        [
         "Peak (9-20)",
         "Thu,_06/12",
         58.13
        ],
        [
         "Off-Peak  (1-8 & 21-24)",
         "Sat,_06/07",
         114.13
        ],
        [
         "Off-Peak  (1-8 & 21-24)",
         "Sun,_06/08",
         92.65
        ],
        [
         "Off-Peak  (1-8 & 21-24)",
         "Mon,_06/09",
         112.44
        ],
        [
         "Off-Peak  (1-8 & 21-24)",
         "Tue,_06/10",
         97.54
        ],
        [
         "Off-Peak  (1-8 & 21-24)",
         "Wed,_06/11",
         108.81
        ],
        [
         "Off-Peak  (1-8 & 21-24)",
         "Thu,_06/12",
         112.7
        ]
       ],
       "datasetInfos": [],
       "dbfsResultPath": null,
       "isJsonSchema": true,
       "metadata": {},
       "overflow": false,
       "plotOptions": {
        "customPlotOptions": {},
        "displayType": "table",
        "pivotAggregation": null,
        "pivotColumns": null,
        "xColumns": null,
        "yColumns": null
       },
       "removedWidgets": [],
       "schema": [
        {
         "metadata": "{}",
         "name": "product",
         "type": "\"string\""
        },
        {
         "metadata": "{}",
         "name": "date",
         "type": "\"string\""
        },
        {
         "metadata": "{}",
         "name": "price",
         "type": "\"float\""
        }
       ],
       "type": "table"
      }
     },
     "output_type": "display_data"
    },
    {
     "output_type": "stream",
     "name": "stdout",
     "output_type": "stream",
     "text": [
      "Found 4 tables for hourly_products\n"
     ]
    },
    {
     "output_type": "display_data",
     "data": {
      "text/html": [
       "<style scoped>\n",
       "  .table-result-container {\n",
       "    max-height: 300px;\n",
       "    overflow: auto;\n",
       "  }\n",
       "  table, th, td {\n",
       "    border: 1px solid black;\n",
       "    border-collapse: collapse;\n",
       "  }\n",
       "  th, td {\n",
       "    padding: 5px;\n",
       "  }\n",
       "  th {\n",
       "    text-align: left;\n",
       "  }\n",
       "</style><div class='table-result-container'><table class='table-result'><thead style='background-color: white'><tr><th>hour</th><th>metric</th><th>date</th><th>value</th></tr></thead><tbody><tr><td>0 - 1</td><td>EUR/MWh</td><td>Fri,_06/06</td><td>103.57</td></tr><tr><td>0 - 1</td><td>EUR/MWh</td><td>Sat,_06/07</td><td>103.83</td></tr><tr><td>0 - 1</td><td>EUR/MWh</td><td>Sun,_06/08</td><td>96.01</td></tr><tr><td>0 - 1</td><td>EUR/MWh</td><td>Mon,_06/09</td><td>99.12</td></tr><tr><td>0 - 1</td><td>EUR/MWh</td><td>Tue,_06/10</td><td>89.91</td></tr><tr><td>0 - 1</td><td>EUR/MWh</td><td>Wed,_06/11</td><td>81.11</td></tr><tr><td>0 - 1</td><td>EUR/MWh</td><td>Thu,_06/12</td><td>107.36</td></tr><tr><td>MWh</td><td>2571.2</td><td>Fri,_06/06</td><td>2284.9</td></tr><tr><td>MWh</td><td>2571.2</td><td>Sat,_06/07</td><td>2217.9</td></tr><tr><td>MWh</td><td>2571.2</td><td>Sun,_06/08</td><td>2201.8</td></tr><tr><td>MWh</td><td>2571.2</td><td>Mon,_06/09</td><td>2730.2</td></tr><tr><td>MWh</td><td>2571.2</td><td>Tue,_06/10</td><td>2249.4</td></tr><tr><td>MWh</td><td>2571.2</td><td>Wed,_06/11</td><td>2658.9</td></tr><tr><td>1 - 2</td><td>EUR/MWh</td><td>Fri,_06/06</td><td>120.2</td></tr><tr><td>1 - 2</td><td>EUR/MWh</td><td>Sat,_06/07</td><td>99.5</td></tr><tr><td>1 - 2</td><td>EUR/MWh</td><td>Sun,_06/08</td><td>88.63</td></tr><tr><td>1 - 2</td><td>EUR/MWh</td><td>Mon,_06/09</td><td>94.51</td></tr><tr><td>1 - 2</td><td>EUR/MWh</td><td>Tue,_06/10</td><td>81.81</td></tr><tr><td>1 - 2</td><td>EUR/MWh</td><td>Wed,_06/11</td><td>74.99</td></tr><tr><td>1 - 2</td><td>EUR/MWh</td><td>Thu,_06/12</td><td>90.0</td></tr><tr><td>MWh</td><td>2810</td><td>Fri,_06/06</td><td>2192.5</td></tr><tr><td>MWh</td><td>2810</td><td>Sat,_06/07</td><td>2769.7</td></tr><tr><td>MWh</td><td>2810</td><td>Sun,_06/08</td><td>2313.1</td></tr><tr><td>MWh</td><td>2810</td><td>Mon,_06/09</td><td>2938.1</td></tr><tr><td>MWh</td><td>2810</td><td>Tue,_06/10</td><td>2224.0</td></tr><tr><td>MWh</td><td>2810</td><td>Wed,_06/11</td><td>3179.0</td></tr><tr><td>2 - 3</td><td>EUR/MWh</td><td>Fri,_06/06</td><td>108.37</td></tr><tr><td>2 - 3</td><td>EUR/MWh</td><td>Sat,_06/07</td><td>96.12</td></tr><tr><td>2 - 3</td><td>EUR/MWh</td><td>Sun,_06/08</td><td>86.39</td></tr><tr><td>2 - 3</td><td>EUR/MWh</td><td>Mon,_06/09</td><td>87.49</td></tr><tr><td>2 - 3</td><td>EUR/MWh</td><td>Tue,_06/10</td><td>71.07</td></tr><tr><td>2 - 3</td><td>EUR/MWh</td><td>Wed,_06/11</td><td>68.99</td></tr><tr><td>2 - 3</td><td>EUR/MWh</td><td>Thu,_06/12</td><td>84.77</td></tr><tr><td>MWh</td><td>2604.8</td><td>Fri,_06/06</td><td>2282.5</td></tr><tr><td>MWh</td><td>2604.8</td><td>Sat,_06/07</td><td>2907.4</td></tr><tr><td>MWh</td><td>2604.8</td><td>Sun,_06/08</td><td>2737.7</td></tr><tr><td>MWh</td><td>2604.8</td><td>Mon,_06/09</td><td>2676.3</td></tr><tr><td>MWh</td><td>2604.8</td><td>Tue,_06/10</td><td>2130.1</td></tr><tr><td>MWh</td><td>2604.8</td><td>Wed,_06/11</td><td>3264.6</td></tr><tr><td>3 - 4</td><td>EUR/MWh</td><td>Fri,_06/06</td><td>102.2</td></tr><tr><td>3 - 4</td><td>EUR/MWh</td><td>Sat,_06/07</td><td>96.24</td></tr><tr><td>3 - 4</td><td>EUR/MWh</td><td>Sun,_06/08</td><td>84.11</td></tr><tr><td>3 - 4</td><td>EUR/MWh</td><td>Mon,_06/09</td><td>85.21</td></tr><tr><td>3 - 4</td><td>EUR/MWh</td><td>Tue,_06/10</td><td>61.82</td></tr><tr><td>3 - 4</td><td>EUR/MWh</td><td>Wed,_06/11</td><td>72.64</td></tr><tr><td>3 - 4</td><td>EUR/MWh</td><td>Thu,_06/12</td><td>85.12</td></tr><tr><td>MWh</td><td>2509.7</td><td>Fri,_06/06</td><td>2201.8</td></tr><tr><td>MWh</td><td>2509.7</td><td>Sat,_06/07</td><td>3118.0</td></tr><tr><td>MWh</td><td>2509.7</td><td>Sun,_06/08</td><td>3014.7</td></tr><tr><td>MWh</td><td>2509.7</td><td>Mon,_06/09</td><td>2448.4</td></tr><tr><td>MWh</td><td>2509.7</td><td>Tue,_06/10</td><td>2178.4</td></tr><tr><td>MWh</td><td>2509.7</td><td>Wed,_06/11</td><td>3131.1</td></tr><tr><td>4 - 5</td><td>EUR/MWh</td><td>Fri,_06/06</td><td>108.5</td></tr><tr><td>4 - 5</td><td>EUR/MWh</td><td>Sat,_06/07</td><td>91.51</td></tr><tr><td>4 - 5</td><td>EUR/MWh</td><td>Sun,_06/08</td><td>78.96</td></tr><tr><td>4 - 5</td><td>EUR/MWh</td><td>Mon,_06/09</td><td>87.33</td></tr><tr><td>4 - 5</td><td>EUR/MWh</td><td>Tue,_06/10</td><td>56.22</td></tr><tr><td>4 - 5</td><td>EUR/MWh</td><td>Wed,_06/11</td><td>73.35</td></tr><tr><td>4 - 5</td><td>EUR/MWh</td><td>Thu,_06/12</td><td>89.35</td></tr><tr><td>MWh</td><td>2418.1</td><td>Fri,_06/06</td><td>2284.8</td></tr><tr><td>MWh</td><td>2418.1</td><td>Sat,_06/07</td><td>3052.2</td></tr><tr><td>MWh</td><td>2418.1</td><td>Sun,_06/08</td><td>2821.2</td></tr><tr><td>MWh</td><td>2418.1</td><td>Mon,_06/09</td><td>2509.4</td></tr><tr><td>MWh</td><td>2418.1</td><td>Tue,_06/10</td><td>2214.8</td></tr><tr><td>MWh</td><td>2418.1</td><td>Wed,_06/11</td><td>2621.6</td></tr><tr><td>5 - 6</td><td>EUR/MWh</td><td>Fri,_06/06</td><td>98.25</td></tr><tr><td>5 - 6</td><td>EUR/MWh</td><td>Sat,_06/07</td><td>90.21</td></tr><tr><td>5 - 6</td><td>EUR/MWh</td><td>Sun,_06/08</td><td>65.93</td></tr><tr><td>5 - 6</td><td>EUR/MWh</td><td>Mon,_06/09</td><td>91.81</td></tr><tr><td>5 - 6</td><td>EUR/MWh</td><td>Tue,_06/10</td><td>70.35</td></tr><tr><td>5 - 6</td><td>EUR/MWh</td><td>Wed,_06/11</td><td>87.65</td></tr><tr><td>5 - 6</td><td>EUR/MWh</td><td>Thu,_06/12</td><td>96.89</td></tr><tr><td>MWh</td><td>2526</td><td>Fri,_06/06</td><td>2118.5</td></tr><tr><td>MWh</td><td>2526</td><td>Sat,_06/07</td><td>2925.3</td></tr><tr><td>MWh</td><td>2526</td><td>Sun,_06/08</td><td>2582.4</td></tr><tr><td>MWh</td><td>2526</td><td>Mon,_06/09</td><td>2499.1</td></tr><tr><td>MWh</td><td>2526</td><td>Tue,_06/10</td><td>2333.3</td></tr><tr><td>MWh</td><td>2526</td><td>Wed,_06/11</td><td>2424.8</td></tr><tr><td>6 - 7</td><td>EUR/MWh</td><td>Fri,_06/06</td><td>107.69</td></tr><tr><td>6 - 7</td><td>EUR/MWh</td><td>Sat,_06/07</td><td>81.23</td></tr><tr><td>6 - 7</td><td>EUR/MWh</td><td>Sun,_06/08</td><td>45.44</td></tr><tr><td>6 - 7</td><td>EUR/MWh</td><td>Mon,_06/09</td><td>93.32</td></tr><tr><td>6 - 7</td><td>EUR/MWh</td><td>Tue,_06/10</td><td>81.73</td></tr><tr><td>6 - 7</td><td>EUR/MWh</td><td>Wed,_06/11</td><td>109.64</td></tr><tr><td>6 - 7</td><td>EUR/MWh</td><td>Thu,_06/12</td><td>111.79</td></tr><tr><td>MWh</td><td>2336.4</td><td>Fri,_06/06</td><td>1778.2</td></tr><tr><td>MWh</td><td>2336.4</td><td>Sat,_06/07</td><td>2747.4</td></tr><tr><td>MWh</td><td>2336.4</td><td>Sun,_06/08</td><td>2180.7</td></tr><tr><td>MWh</td><td>2336.4</td><td>Mon,_06/09</td><td>2487.1</td></tr><tr><td>MWh</td><td>2336.4</td><td>Tue,_06/10</td><td>2904.9</td></tr><tr><td>MWh</td><td>2336.4</td><td>Wed,_06/11</td><td>3231.9</td></tr><tr><td>7 - 8</td><td>EUR/MWh</td><td>Fri,_06/06</td><td>98.9</td></tr><tr><td>7 - 8</td><td>EUR/MWh</td><td>Sat,_06/07</td><td>80.58</td></tr><tr><td>7 - 8</td><td>EUR/MWh</td><td>Sun,_06/08</td><td>4.01</td></tr><tr><td>7 - 8</td><td>EUR/MWh</td><td>Mon,_06/09</td><td>89.91</td></tr><tr><td>7 - 8</td><td>EUR/MWh</td><td>Tue,_06/10</td><td>85.1</td></tr><tr><td>7 - 8</td><td>EUR/MWh</td><td>Wed,_06/11</td><td>105.59</td></tr><tr><td>7 - 8</td><td>EUR/MWh</td><td>Thu,_06/12</td><td>79.62</td></tr><tr><td>MWh</td><td>2441.9</td><td>Fri,_06/06</td><td>2393.6</td></tr><tr><td>MWh</td><td>2441.9</td><td>Sat,_06/07</td><td>2851.5</td></tr><tr><td>MWh</td><td>2441.9</td><td>Sun,_06/08</td><td>2400.3</td></tr><tr><td>MWh</td><td>2441.9</td><td>Mon,_06/09</td><td>3236.5</td></tr><tr><td>MWh</td><td>2441.9</td><td>Tue,_06/10</td><td>3343.4</td></tr><tr><td>MWh</td><td>2441.9</td><td>Wed,_06/11</td><td>3642.5</td></tr><tr><td>8 - 9</td><td>EUR/MWh</td><td>Fri,_06/06</td><td>67.34</td></tr><tr><td>8 - 9</td><td>EUR/MWh</td><td>Sat,_06/07</td><td>73.7</td></tr><tr><td>8 - 9</td><td>EUR/MWh</td><td>Sun,_06/08</td><td>0.0</td></tr><tr><td>8 - 9</td><td>EUR/MWh</td><td>Mon,_06/09</td><td>63.08</td></tr><tr><td>8 - 9</td><td>EUR/MWh</td><td>Tue,_06/10</td><td>86.14</td></tr><tr><td>8 - 9</td><td>EUR/MWh</td><td>Wed,_06/11</td><td>82.32</td></tr><tr><td>8 - 9</td><td>EUR/MWh</td><td>Thu,_06/12</td><td>77.27</td></tr><tr><td>MWh</td><td>2480.6</td><td>Fri,_06/06</td><td>3146.4</td></tr><tr><td>MWh</td><td>2480.6</td><td>Sat,_06/07</td><td>2724.0</td></tr><tr><td>MWh</td><td>2480.6</td><td>Sun,_06/08</td><td>2892.0</td></tr><tr><td>MWh</td><td>2480.6</td><td>Mon,_06/09</td><td>3105.8</td></tr><tr><td>MWh</td><td>2480.6</td><td>Tue,_06/10</td><td>3209.6</td></tr><tr><td>MWh</td><td>2480.6</td><td>Wed,_06/11</td><td>3667.7</td></tr><tr><td>9 - 10</td><td>EUR/MWh</td><td>Fri,_06/06</td><td>8.44</td></tr><tr><td>9 - 10</td><td>EUR/MWh</td><td>Sat,_06/07</td><td>59.48</td></tr><tr><td>9 - 10</td><td>EUR/MWh</td><td>Sun,_06/08</td><td>-0.5</td></tr><tr><td>9 - 10</td><td>EUR/MWh</td><td>Mon,_06/09</td><td>16.3</td></tr><tr><td>9 - 10</td><td>EUR/MWh</td><td>Tue,_06/10</td><td>65.81</td></tr><tr><td>9 - 10</td><td>EUR/MWh</td><td>Wed,_06/11</td><td>59.79</td></tr><tr><td>9 - 10</td><td>EUR/MWh</td><td>Thu,_06/12</td><td>36.67</td></tr><tr><td>MWh</td><td>2478.5</td><td>Fri,_06/06</td><td>3441.6</td></tr><tr><td>MWh</td><td>2478.5</td><td>Sat,_06/07</td><td>3532.7</td></tr><tr><td>MWh</td><td>2478.5</td><td>Sun,_06/08</td><td>2844.8</td></tr><tr><td>MWh</td><td>2478.5</td><td>Mon,_06/09</td><td>2962.9</td></tr><tr><td>MWh</td><td>2478.5</td><td>Tue,_06/10</td><td>3485.0</td></tr><tr><td>MWh</td><td>2478.5</td><td>Wed,_06/11</td><td>4037.0</td></tr><tr><td>10 - 11</td><td>EUR/MWh</td><td>Fri,_06/06</td><td>0.04</td></tr><tr><td>10 - 11</td><td>EUR/MWh</td><td>Sat,_06/07</td><td>13.71</td></tr><tr><td>10 - 11</td><td>EUR/MWh</td><td>Sun,_06/08</td><td>-2.0</td></tr><tr><td>10 - 11</td><td>EUR/MWh</td><td>Mon,_06/09</td><td>9.85</td></tr><tr><td>10 - 11</td><td>EUR/MWh</td><td>Tue,_06/10</td><td>23.09</td></tr><tr><td>10 - 11</td><td>EUR/MWh</td><td>Wed,_06/11</td><td>20.0</td></tr><tr><td>10 - 11</td><td>EUR/MWh</td><td>Thu,_06/12</td><td>0.01</td></tr><tr><td>MWh</td><td>2994.9</td><td>Fri,_06/06</td><td>2971.7</td></tr><tr><td>MWh</td><td>2994.9</td><td>Sat,_06/07</td><td>3555.5</td></tr><tr><td>MWh</td><td>2994.9</td><td>Sun,_06/08</td><td>2735.7</td></tr><tr><td>MWh</td><td>2994.9</td><td>Mon,_06/09</td><td>2761.3</td></tr><tr><td>MWh</td><td>2994.9</td><td>Tue,_06/10</td><td>3290.6</td></tr><tr><td>MWh</td><td>2994.9</td><td>Wed,_06/11</td><td>3782.1</td></tr><tr><td>11 - 12</td><td>EUR/MWh</td><td>Fri,_06/06</td><td>1.98</td></tr><tr><td>11 - 12</td><td>EUR/MWh</td><td>Sat,_06/07</td><td>9.44</td></tr><tr><td>11 - 12</td><td>EUR/MWh</td><td>Sun,_06/08</td><td>-0.01</td></tr><tr><td>11 - 12</td><td>EUR/MWh</td><td>Mon,_06/09</td><td>14.56</td></tr><tr><td>11 - 12</td><td>EUR/MWh</td><td>Tue,_06/10</td><td>8.75</td></tr><tr><td>11 - 12</td><td>EUR/MWh</td><td>Wed,_06/11</td><td>4.38</td></tr><tr><td>11 - 12</td><td>EUR/MWh</td><td>Thu,_06/12</td><td>7.0</td></tr><tr><td>MWh</td><td>3389.2</td><td>Fri,_06/06</td><td>2767.2</td></tr><tr><td>MWh</td><td>3389.2</td><td>Sat,_06/07</td><td>3942.3</td></tr><tr><td>MWh</td><td>3389.2</td><td>Sun,_06/08</td><td>3314.3</td></tr><tr><td>MWh</td><td>3389.2</td><td>Mon,_06/09</td><td>3945.8</td></tr><tr><td>MWh</td><td>3389.2</td><td>Tue,_06/10</td><td>3588.9</td></tr><tr><td>MWh</td><td>3389.2</td><td>Wed,_06/11</td><td>4066.6</td></tr><tr><td>12 - 13</td><td>EUR/MWh</td><td>Fri,_06/06</td><td>12.73</td></tr><tr><td>12 - 13</td><td>EUR/MWh</td><td>Sat,_06/07</td><td>1.19</td></tr><tr><td>12 - 13</td><td>EUR/MWh</td><td>Sun,_06/08</td><td>0.0</td></tr><tr><td>12 - 13</td><td>EUR/MWh</td><td>Mon,_06/09</td><td>12.57</td></tr><tr><td>12 - 13</td><td>EUR/MWh</td><td>Tue,_06/10</td><td>11.5</td></tr><tr><td>12 - 13</td><td>EUR/MWh</td><td>Wed,_06/11</td><td>8.36</td></tr><tr><td>12 - 13</td><td>EUR/MWh</td><td>Thu,_06/12</td><td>13.95</td></tr><tr><td>MWh</td><td>3183.8</td><td>Fri,_06/06</td><td>3302.7</td></tr><tr><td>MWh</td><td>3183.8</td><td>Sat,_06/07</td><td>3976.1</td></tr><tr><td>MWh</td><td>3183.8</td><td>Sun,_06/08</td><td>3501.6</td></tr><tr><td>MWh</td><td>3183.8</td><td>Mon,_06/09</td><td>3996.0</td></tr><tr><td>MWh</td><td>3183.8</td><td>Tue,_06/10</td><td>3558.0</td></tr><tr><td>MWh</td><td>3183.8</td><td>Wed,_06/11</td><td>3791.6</td></tr><tr><td>13 - 14</td><td>EUR/MWh</td><td>Fri,_06/06</td><td>28.47</td></tr><tr><td>13 - 14</td><td>EUR/MWh</td><td>Sat,_06/07</td><td>-0.01</td></tr><tr><td>13 - 14</td><td>EUR/MWh</td><td>Sun,_06/08</td><td>0.0</td></tr><tr><td>13 - 14</td><td>EUR/MWh</td><td>Mon,_06/09</td><td>10.7</td></tr><tr><td>13 - 14</td><td>EUR/MWh</td><td>Tue,_06/10</td><td>14.05</td></tr><tr><td>13 - 14</td><td>EUR/MWh</td><td>Wed,_06/11</td><td>10.23</td></tr><tr><td>13 - 14</td><td>EUR/MWh</td><td>Thu,_06/12</td><td>15.0</td></tr><tr><td>MWh</td><td>2934.8</td><td>Fri,_06/06</td><td>3880.3</td></tr><tr><td>MWh</td><td>2934.8</td><td>Sat,_06/07</td><td>3958.1</td></tr><tr><td>MWh</td><td>2934.8</td><td>Sun,_06/08</td><td>3731.8</td></tr><tr><td>MWh</td><td>2934.8</td><td>Mon,_06/09</td><td>4049.9</td></tr><tr><td>MWh</td><td>2934.8</td><td>Tue,_06/10</td><td>3625.4</td></tr><tr><td>MWh</td><td>2934.8</td><td>Wed,_06/11</td><td>4101.2</td></tr><tr><td>14 - 15</td><td>EUR/MWh</td><td>Fri,_06/06</td><td>24.7</td></tr><tr><td>14 - 15</td><td>EUR/MWh</td><td>Sat,_06/07</td><td>-0.02</td></tr><tr><td>14 - 15</td><td>EUR/MWh</td><td>Sun,_06/08</td><td>0.0</td></tr><tr><td>14 - 15</td><td>EUR/MWh</td><td>Mon,_06/09</td><td>6.91</td></tr><tr><td>14 - 15</td><td>EUR/MWh</td><td>Tue,_06/10</td><td>30.39</td></tr><tr><td>14 - 15</td><td>EUR/MWh</td><td>Wed,_06/11</td><td>15.07</td></tr><tr><td>14 - 15</td><td>EUR/MWh</td><td>Thu,_06/12</td><td>31.86</td></tr><tr><td>MWh</td><td>2973.8</td><td>Fri,_06/06</td><td>3889.5</td></tr><tr><td>MWh</td><td>2973.8</td><td>Sat,_06/07</td><td>3986.9</td></tr><tr><td>MWh</td><td>2973.8</td><td>Sun,_06/08</td><td>3969.6</td></tr><tr><td>MWh</td><td>2973.8</td><td>Mon,_06/09</td><td>3657.4</td></tr><tr><td>MWh</td><td>2973.8</td><td>Tue,_06/10</td><td>3383.2</td></tr><tr><td>MWh</td><td>2973.8</td><td>Wed,_06/11</td><td>3992.2</td></tr><tr><td>15 - 16</td><td>EUR/MWh</td><td>Fri,_06/06</td><td>42.08</td></tr><tr><td>15 - 16</td><td>EUR/MWh</td><td>Sat,_06/07</td><td>-0.02</td></tr><tr><td>15 - 16</td><td>EUR/MWh</td><td>Sun,_06/08</td><td>0.59</td></tr><tr><td>15 - 16</td><td>EUR/MWh</td><td>Mon,_06/09</td><td>7.05</td></tr><tr><td>15 - 16</td><td>EUR/MWh</td><td>Tue,_06/10</td><td>62.32</td></tr><tr><td>15 - 16</td><td>EUR/MWh</td><td>Wed,_06/11</td><td>33.52</td></tr><tr><td>15 - 16</td><td>EUR/MWh</td><td>Thu,_06/12</td><td>40.34</td></tr><tr><td>MWh</td><td>2918.7</td><td>Fri,_06/06</td><td>3841.1</td></tr><tr><td>MWh</td><td>2918.7</td><td>Sat,_06/07</td><td>3948.8</td></tr><tr><td>MWh</td><td>2918.7</td><td>Sun,_06/08</td><td>3970.7</td></tr><tr><td>MWh</td><td>2918.7</td><td>Mon,_06/09</td><td>2734.8</td></tr><tr><td>MWh</td><td>2918.7</td><td>Tue,_06/10</td><td>2815.1</td></tr><tr><td>MWh</td><td>2918.7</td><td>Wed,_06/11</td><td>3602.4</td></tr><tr><td>16 - 17</td><td>EUR/MWh</td><td>Fri,_06/06</td><td>82.1</td></tr><tr><td>16 - 17</td><td>EUR/MWh</td><td>Sat,_06/07</td><td>5.09</td></tr><tr><td>16 - 17</td><td>EUR/MWh</td><td>Sun,_06/08</td><td>14.45</td></tr><tr><td>16 - 17</td><td>EUR/MWh</td><td>Mon,_06/09</td><td>10.0</td></tr><tr><td>16 - 17</td><td>EUR/MWh</td><td>Tue,_06/10</td><td>89.13</td></tr><tr><td>16 - 17</td><td>EUR/MWh</td><td>Wed,_06/11</td><td>79.2</td></tr><tr><td>16 - 17</td><td>EUR/MWh</td><td>Thu,_06/12</td><td>63.75</td></tr><tr><td>MWh</td><td>2780.9</td><td>Fri,_06/06</td><td>3637.1</td></tr><tr><td>MWh</td><td>2780.9</td><td>Sat,_06/07</td><td>3624.1</td></tr><tr><td>MWh</td><td>2780.9</td><td>Sun,_06/08</td><td>3652.0</td></tr><tr><td>MWh</td><td>2780.9</td><td>Mon,_06/09</td><td>2331.2</td></tr><tr><td>MWh</td><td>2780.9</td><td>Tue,_06/10</td><td>2730.0</td></tr><tr><td>MWh</td><td>2780.9</td><td>Wed,_06/11</td><td>2892.3</td></tr><tr><td>17 - 18</td><td>EUR/MWh</td><td>Fri,_06/06</td><td>138.02</td></tr><tr><td>17 - 18</td><td>EUR/MWh</td><td>Sat,_06/07</td><td>89.21</td></tr><tr><td>17 - 18</td><td>EUR/MWh</td><td>Sun,_06/08</td><td>91.58</td></tr><tr><td>17 - 18</td><td>EUR/MWh</td><td>Mon,_06/09</td><td>87.84</td></tr><tr><td>17 - 18</td><td>EUR/MWh</td><td>Tue,_06/10</td><td>105.72</td></tr><tr><td>17 - 18</td><td>EUR/MWh</td><td>Wed,_06/11</td><td>104.96</td></tr><tr><td>17 - 18</td><td>EUR/MWh</td><td>Thu,_06/12</td><td>91.33</td></tr><tr><td>MWh</td><td>2644.7</td><td>Fri,_06/06</td><td>2668.2</td></tr><tr><td>MWh</td><td>2644.7</td><td>Sat,_06/07</td><td>2584.9</td></tr><tr><td>MWh</td><td>2644.7</td><td>Sun,_06/08</td><td>3015.3</td></tr><tr><td>MWh</td><td>2644.7</td><td>Mon,_06/09</td><td>2514.9</td></tr><tr><td>MWh</td><td>2644.7</td><td>Tue,_06/10</td><td>2599.6</td></tr><tr><td>MWh</td><td>2644.7</td><td>Wed,_06/11</td><td>2721.2</td></tr><tr><td>18 - 19</td><td>EUR/MWh</td><td>Fri,_06/06</td><td>211.38</td></tr><tr><td>18 - 19</td><td>EUR/MWh</td><td>Sat,_06/07</td><td>135.63</td></tr><tr><td>18 - 19</td><td>EUR/MWh</td><td>Sun,_06/08</td><td>157.8</td></tr><tr><td>18 - 19</td><td>EUR/MWh</td><td>Mon,_06/09</td><td>122.93</td></tr><tr><td>18 - 19</td><td>EUR/MWh</td><td>Tue,_06/10</td><td>136.56</td></tr><tr><td>18 - 19</td><td>EUR/MWh</td><td>Wed,_06/11</td><td>141.78</td></tr><tr><td>18 - 19</td><td>EUR/MWh</td><td>Thu,_06/12</td><td>130.91</td></tr><tr><td>MWh</td><td>2785.3</td><td>Fri,_06/06</td><td>1994.8</td></tr><tr><td>MWh</td><td>2785.3</td><td>Sat,_06/07</td><td>1931.3</td></tr><tr><td>MWh</td><td>2785.3</td><td>Sun,_06/08</td><td>2389.1</td></tr><tr><td>MWh</td><td>2785.3</td><td>Mon,_06/09</td><td>2651.3</td></tr><tr><td>MWh</td><td>2785.3</td><td>Tue,_06/10</td><td>2332.9</td></tr><tr><td>MWh</td><td>2785.3</td><td>Wed,_06/11</td><td>3108.0</td></tr><tr><td>19 - 20</td><td>EUR/MWh</td><td>Fri,_06/06</td><td>146.92</td></tr><tr><td>19 - 20</td><td>EUR/MWh</td><td>Sat,_06/07</td><td>196.03</td></tr><tr><td>19 - 20</td><td>EUR/MWh</td><td>Sun,_06/08</td><td>151.36</td></tr><tr><td>19 - 20</td><td>EUR/MWh</td><td>Mon,_06/09</td><td>160.22</td></tr><tr><td>19 - 20</td><td>EUR/MWh</td><td>Tue,_06/10</td><td>201.98</td></tr><tr><td>19 - 20</td><td>EUR/MWh</td><td>Wed,_06/11</td><td>150.59</td></tr><tr><td>19 - 20</td><td>EUR/MWh</td><td>Thu,_06/12</td><td>189.44</td></tr><tr><td>MWh</td><td>2485.6</td><td>Fri,_06/06</td><td>2745.8</td></tr><tr><td>MWh</td><td>2485.6</td><td>Sat,_06/07</td><td>2103.6</td></tr><tr><td>MWh</td><td>2485.6</td><td>Sun,_06/08</td><td>2660.1</td></tr><tr><td>MWh</td><td>2485.6</td><td>Mon,_06/09</td><td>2775.0</td></tr><tr><td>MWh</td><td>2485.6</td><td>Tue,_06/10</td><td>2668.5</td></tr><tr><td>MWh</td><td>2485.6</td><td>Wed,_06/11</td><td>3727.5</td></tr><tr><td>20 - 21</td><td>EUR/MWh</td><td>Fri,_06/06</td><td>190.19</td></tr><tr><td>20 - 21</td><td>EUR/MWh</td><td>Sat,_06/07</td><td>225.36</td></tr><tr><td>20 - 21</td><td>EUR/MWh</td><td>Sun,_06/08</td><td>177.62</td></tr><tr><td>20 - 21</td><td>EUR/MWh</td><td>Mon,_06/09</td><td>226.02</td></tr><tr><td>20 - 21</td><td>EUR/MWh</td><td>Tue,_06/10</td><td>233.45</td></tr><tr><td>20 - 21</td><td>EUR/MWh</td><td>Wed,_06/11</td><td>219.16</td></tr><tr><td>20 - 21</td><td>EUR/MWh</td><td>Thu,_06/12</td><td>220.26</td></tr><tr><td>MWh</td><td>2535</td><td>Fri,_06/06</td><td>2907.7</td></tr><tr><td>MWh</td><td>2535</td><td>Sat,_06/07</td><td>2086.4</td></tr><tr><td>MWh</td><td>2535</td><td>Sun,_06/08</td><td>2788.0</td></tr><tr><td>MWh</td><td>2535</td><td>Mon,_06/09</td><td>2763.3</td></tr><tr><td>MWh</td><td>2535</td><td>Tue,_06/10</td><td>2725.4</td></tr><tr><td>MWh</td><td>2535</td><td>Wed,_06/11</td><td>3606.4</td></tr><tr><td>21 - 22</td><td>EUR/MWh</td><td>Fri,_06/06</td><td>136.97</td></tr><tr><td>21 - 22</td><td>EUR/MWh</td><td>Sat,_06/07</td><td>163.26</td></tr><tr><td>21 - 22</td><td>EUR/MWh</td><td>Sun,_06/08</td><td>159.02</td></tr><tr><td>21 - 22</td><td>EUR/MWh</td><td>Mon,_06/09</td><td>163.47</td></tr><tr><td>21 - 22</td><td>EUR/MWh</td><td>Tue,_06/10</td><td>139.09</td></tr><tr><td>21 - 22</td><td>EUR/MWh</td><td>Wed,_06/11</td><td>185.7</td></tr><tr><td>21 - 22</td><td>EUR/MWh</td><td>Thu,_06/12</td><td>152.25</td></tr><tr><td>MWh</td><td>2559.2</td><td>Fri,_06/06</td><td>2862.9</td></tr><tr><td>MWh</td><td>2559.2</td><td>Sat,_06/07</td><td>2219.1</td></tr><tr><td>MWh</td><td>2559.2</td><td>Sun,_06/08</td><td>2858.4</td></tr><tr><td>MWh</td><td>2559.2</td><td>Mon,_06/09</td><td>2671.0</td></tr><tr><td>MWh</td><td>2559.2</td><td>Tue,_06/10</td><td>2979.1</td></tr><tr><td>MWh</td><td>2559.2</td><td>Wed,_06/11</td><td>2872.9</td></tr><tr><td>22 - 23</td><td>EUR/MWh</td><td>Fri,_06/06</td><td>125.37</td></tr><tr><td>22 - 23</td><td>EUR/MWh</td><td>Sat,_06/07</td><td>123.32</td></tr><tr><td>22 - 23</td><td>EUR/MWh</td><td>Sun,_06/08</td><td>124.71</td></tr><tr><td>22 - 23</td><td>EUR/MWh</td><td>Mon,_06/09</td><td>124.85</td></tr><tr><td>22 - 23</td><td>EUR/MWh</td><td>Tue,_06/10</td><td>102.18</td></tr><tr><td>22 - 23</td><td>EUR/MWh</td><td>Wed,_06/11</td><td>123.18</td></tr><tr><td>22 - 23</td><td>EUR/MWh</td><td>Thu,_06/12</td><td>127.74</td></tr><tr><td>MWh</td><td>2542</td><td>Fri,_06/06</td><td>2139.3</td></tr><tr><td>MWh</td><td>2542</td><td>Sat,_06/07</td><td>2322.1</td></tr><tr><td>MWh</td><td>2542</td><td>Sun,_06/08</td><td>2312.8</td></tr><tr><td>MWh</td><td>2542</td><td>Mon,_06/09</td><td>2470.3</td></tr><tr><td>MWh</td><td>2542</td><td>Tue,_06/10</td><td>2612.1</td></tr><tr><td>MWh</td><td>2542</td><td>Wed,_06/11</td><td>2679.5</td></tr><tr><td>23 - 24</td><td>EUR/MWh</td><td>Fri,_06/06</td><td>109.17</td></tr><tr><td>23 - 24</td><td>EUR/MWh</td><td>Sat,_06/07</td><td>118.45</td></tr><tr><td>23 - 24</td><td>EUR/MWh</td><td>Sun,_06/08</td><td>100.94</td></tr><tr><td>23 - 24</td><td>EUR/MWh</td><td>Mon,_06/09</td><td>106.28</td></tr><tr><td>23 - 24</td><td>EUR/MWh</td><td>Tue,_06/10</td><td>97.75</td></tr><tr><td>23 - 24</td><td>EUR/MWh</td><td>Wed,_06/11</td><td>103.67</td></tr><tr><td>23 - 24</td><td>EUR/MWh</td><td>Thu,_06/12</td><td>107.26</td></tr><tr><td>MWh</td><td>2520.4</td><td>Fri,_06/06</td><td>2235.2</td></tr><tr><td>MWh</td><td>2520.4</td><td>Sat,_06/07</td><td>2985.5</td></tr><tr><td>MWh</td><td>2520.4</td><td>Sun,_06/08</td><td>2217.3</td></tr><tr><td>MWh</td><td>2520.4</td><td>Mon,_06/09</td><td>2413.2</td></tr><tr><td>MWh</td><td>2520.4</td><td>Tue,_06/10</td><td>3198.5</td></tr><tr><td>MWh</td><td>2520.4</td><td>Wed,_06/11</td><td>3003.0</td></tr></tbody></table></div>"
      ]
     },
     "metadata": {
      "application/vnd.databricks.v1+output": {
       "addedWidgets": {},
       "aggData": [],
       "aggError": "",
       "aggOverflow": false,
       "aggSchema": [],
       "aggSeriesLimitReached": false,
       "aggType": "",
       "arguments": {},
       "columnCustomDisplayInfos": {},
       "data": [
        [
         "0 - 1",
         "EUR/MWh",
         "Fri,_06/06",
         103.57
        ],
        [
         "0 - 1",
         "EUR/MWh",
         "Sat,_06/07",
         103.83
        ],
        [
         "0 - 1",
         "EUR/MWh",
         "Sun,_06/08",
         96.01
        ],
        [
         "0 - 1",
         "EUR/MWh",
         "Mon,_06/09",
         99.12
        ],
        [
         "0 - 1",
         "EUR/MWh",
         "Tue,_06/10",
         89.91
        ],
        [
         "0 - 1",
         "EUR/MWh",
         "Wed,_06/11",
         81.11
        ],
        [
         "0 - 1",
         "EUR/MWh",
         "Thu,_06/12",
         107.36
        ],
        [
         "MWh",
         "2571.2",
         "Fri,_06/06",
         2284.9
        ],
        [
         "MWh",
         "2571.2",
         "Sat,_06/07",
         2217.9
        ],
        [
         "MWh",
         "2571.2",
         "Sun,_06/08",
         2201.8
        ],
        [
         "MWh",
         "2571.2",
         "Mon,_06/09",
         2730.2
        ],
        [
         "MWh",
         "2571.2",
         "Tue,_06/10",
         2249.4
        ],
        [
         "MWh",
         "2571.2",
         "Wed,_06/11",
         2658.9
        ],
        [
         "1 - 2",
         "EUR/MWh",
         "Fri,_06/06",
         120.2
        ],
        [
         "1 - 2",
         "EUR/MWh",
         "Sat,_06/07",
         99.5
        ],
        [
         "1 - 2",
         "EUR/MWh",
         "Sun,_06/08",
         88.63
        ],
        [
         "1 - 2",
         "EUR/MWh",
         "Mon,_06/09",
         94.51
        ],
        [
         "1 - 2",
         "EUR/MWh",
         "Tue,_06/10",
         81.81
        ],
        [
         "1 - 2",
         "EUR/MWh",
         "Wed,_06/11",
         74.99
        ],
        [
         "1 - 2",
         "EUR/MWh",
         "Thu,_06/12",
         90.0
        ],
        [
         "MWh",
         "2810",
         "Fri,_06/06",
         2192.5
        ],
        [
         "MWh",
         "2810",
         "Sat,_06/07",
         2769.7
        ],
        [
         "MWh",
         "2810",
         "Sun,_06/08",
         2313.1
        ],
        [
         "MWh",
         "2810",
         "Mon,_06/09",
         2938.1
        ],
        [
         "MWh",
         "2810",
         "Tue,_06/10",
         2224.0
        ],
        [
         "MWh",
         "2810",
         "Wed,_06/11",
         3179.0
        ],
        [
         "2 - 3",
         "EUR/MWh",
         "Fri,_06/06",
         108.37
        ],
        [
         "2 - 3",
         "EUR/MWh",
         "Sat,_06/07",
         96.12
        ],
        [
         "2 - 3",
         "EUR/MWh",
         "Sun,_06/08",
         86.39
        ],
        [
         "2 - 3",
         "EUR/MWh",
         "Mon,_06/09",
         87.49
        ],
        [
         "2 - 3",
         "EUR/MWh",
         "Tue,_06/10",
         71.07
        ],
        [
         "2 - 3",
         "EUR/MWh",
         "Wed,_06/11",
         68.99
        ],
        [
         "2 - 3",
         "EUR/MWh",
         "Thu,_06/12",
         84.77
        ],
        [
         "MWh",
         "2604.8",
         "Fri,_06/06",
         2282.5
        ],
        [
         "MWh",
         "2604.8",
         "Sat,_06/07",
         2907.4
        ],
        [
         "MWh",
         "2604.8",
         "Sun,_06/08",
         2737.7
        ],
        [
         "MWh",
         "2604.8",
         "Mon,_06/09",
         2676.3
        ],
        [
         "MWh",
         "2604.8",
         "Tue,_06/10",
         2130.1
        ],
        [
         "MWh",
         "2604.8",
         "Wed,_06/11",
         3264.6
        ],
        [
         "3 - 4",
         "EUR/MWh",
         "Fri,_06/06",
         102.2
        ],
        [
         "3 - 4",
         "EUR/MWh",
         "Sat,_06/07",
         96.24
        ],
        [
         "3 - 4",
         "EUR/MWh",
         "Sun,_06/08",
         84.11
        ],
        [
         "3 - 4",
         "EUR/MWh",
         "Mon,_06/09",
         85.21
        ],
        [
         "3 - 4",
         "EUR/MWh",
         "Tue,_06/10",
         61.82
        ],
        [
         "3 - 4",
         "EUR/MWh",
         "Wed,_06/11",
         72.64
        ],
        [
         "3 - 4",
         "EUR/MWh",
         "Thu,_06/12",
         85.12
        ],
        [
         "MWh",
         "2509.7",
         "Fri,_06/06",
         2201.8
        ],
        [
         "MWh",
         "2509.7",
         "Sat,_06/07",
         3118.0
        ],
        [
         "MWh",
         "2509.7",
         "Sun,_06/08",
         3014.7
        ],
        [
         "MWh",
         "2509.7",
         "Mon,_06/09",
         2448.4
        ],
        [
         "MWh",
         "2509.7",
         "Tue,_06/10",
         2178.4
        ],
        [
         "MWh",
         "2509.7",
         "Wed,_06/11",
         3131.1
        ],
        [
         "4 - 5",
         "EUR/MWh",
         "Fri,_06/06",
         108.5
        ],
        [
         "4 - 5",
         "EUR/MWh",
         "Sat,_06/07",
         91.51
        ],
        [
         "4 - 5",
         "EUR/MWh",
         "Sun,_06/08",
         78.96
        ],
        [
         "4 - 5",
         "EUR/MWh",
         "Mon,_06/09",
         87.33
        ],
        [
         "4 - 5",
         "EUR/MWh",
         "Tue,_06/10",
         56.22
        ],
        [
         "4 - 5",
         "EUR/MWh",
         "Wed,_06/11",
         73.35
        ],
        [
         "4 - 5",
         "EUR/MWh",
         "Thu,_06/12",
         89.35
        ],
        [
         "MWh",
         "2418.1",
         "Fri,_06/06",
         2284.8
        ],
        [
         "MWh",
         "2418.1",
         "Sat,_06/07",
         3052.2
        ],
        [
         "MWh",
         "2418.1",
         "Sun,_06/08",
         2821.2
        ],
        [
         "MWh",
         "2418.1",
         "Mon,_06/09",
         2509.4
        ],
        [
         "MWh",
         "2418.1",
         "Tue,_06/10",
         2214.8
        ],
        [
         "MWh",
         "2418.1",
         "Wed,_06/11",
         2621.6
        ],
        [
         "5 - 6",
         "EUR/MWh",
         "Fri,_06/06",
         98.25
        ],
        [
         "5 - 6",
         "EUR/MWh",
         "Sat,_06/07",
         90.21
        ],
        [
         "5 - 6",
         "EUR/MWh",
         "Sun,_06/08",
         65.93
        ],
        [
         "5 - 6",
         "EUR/MWh",
         "Mon,_06/09",
         91.81
        ],
        [
         "5 - 6",
         "EUR/MWh",
         "Tue,_06/10",
         70.35
        ],
        [
         "5 - 6",
         "EUR/MWh",
         "Wed,_06/11",
         87.65
        ],
        [
         "5 - 6",
         "EUR/MWh",
         "Thu,_06/12",
         96.89
        ],
        [
         "MWh",
         "2526",
         "Fri,_06/06",
         2118.5
        ],
        [
         "MWh",
         "2526",
         "Sat,_06/07",
         2925.3
        ],
        [
         "MWh",
         "2526",
         "Sun,_06/08",
         2582.4
        ],
        [
         "MWh",
         "2526",
         "Mon,_06/09",
         2499.1
        ],
        [
         "MWh",
         "2526",
         "Tue,_06/10",
         2333.3
        ],
        [
         "MWh",
         "2526",
         "Wed,_06/11",
         2424.8
        ],
        [
         "6 - 7",
         "EUR/MWh",
         "Fri,_06/06",
         107.69
        ],
        [
         "6 - 7",
         "EUR/MWh",
         "Sat,_06/07",
         81.23
        ],
        [
         "6 - 7",
         "EUR/MWh",
         "Sun,_06/08",
         45.44
        ],
        [
         "6 - 7",
         "EUR/MWh",
         "Mon,_06/09",
         93.32
        ],
        [
         "6 - 7",
         "EUR/MWh",
         "Tue,_06/10",
         81.73
        ],
        [
         "6 - 7",
         "EUR/MWh",
         "Wed,_06/11",
         109.64
        ],
        [
         "6 - 7",
         "EUR/MWh",
         "Thu,_06/12",
         111.79
        ],
        [
         "MWh",
         "2336.4",
         "Fri,_06/06",
         1778.2
        ],
        [
         "MWh",
         "2336.4",
         "Sat,_06/07",
         2747.4
        ],
        [
         "MWh",
         "2336.4",
         "Sun,_06/08",
         2180.7
        ],
        [
         "MWh",
         "2336.4",
         "Mon,_06/09",
         2487.1
        ],
        [
         "MWh",
         "2336.4",
         "Tue,_06/10",
         2904.9
        ],
        [
         "MWh",
         "2336.4",
         "Wed,_06/11",
         3231.9
        ],
        [
         "7 - 8",
         "EUR/MWh",
         "Fri,_06/06",
         98.9
        ],
        [
         "7 - 8",
         "EUR/MWh",
         "Sat,_06/07",
         80.58
        ],
        [
         "7 - 8",
         "EUR/MWh",
         "Sun,_06/08",
         4.01
        ],
        [
         "7 - 8",
         "EUR/MWh",
         "Mon,_06/09",
         89.91
        ],
        [
         "7 - 8",
         "EUR/MWh",
         "Tue,_06/10",
         85.1
        ],
        [
         "7 - 8",
         "EUR/MWh",
         "Wed,_06/11",
         105.59
        ],
        [
         "7 - 8",
         "EUR/MWh",
         "Thu,_06/12",
         79.62
        ],
        [
         "MWh",
         "2441.9",
         "Fri,_06/06",
         2393.6
        ],
        [
         "MWh",
         "2441.9",
         "Sat,_06/07",
         2851.5
        ],
        [
         "MWh",
         "2441.9",
         "Sun,_06/08",
         2400.3
        ],
        [
         "MWh",
         "2441.9",
         "Mon,_06/09",
         3236.5
        ],
        [
         "MWh",
         "2441.9",
         "Tue,_06/10",
         3343.4
        ],
        [
         "MWh",
         "2441.9",
         "Wed,_06/11",
         3642.5
        ],
        [
         "8 - 9",
         "EUR/MWh",
         "Fri,_06/06",
         67.34
        ],
        [
         "8 - 9",
         "EUR/MWh",
         "Sat,_06/07",
         73.7
        ],
        [
         "8 - 9",
         "EUR/MWh",
         "Sun,_06/08",
         0.0
        ],
        [
         "8 - 9",
         "EUR/MWh",
         "Mon,_06/09",
         63.08
        ],
        [
         "8 - 9",
         "EUR/MWh",
         "Tue,_06/10",
         86.14
        ],
        [
         "8 - 9",
         "EUR/MWh",
         "Wed,_06/11",
         82.32
        ],
        [
         "8 - 9",
         "EUR/MWh",
         "Thu,_06/12",
         77.27
        ],
        [
         "MWh",
         "2480.6",
         "Fri,_06/06",
         3146.4
        ],
        [
         "MWh",
         "2480.6",
         "Sat,_06/07",
         2724.0
        ],
        [
         "MWh",
         "2480.6",
         "Sun,_06/08",
         2892.0
        ],
        [
         "MWh",
         "2480.6",
         "Mon,_06/09",
         3105.8
        ],
        [
         "MWh",
         "2480.6",
         "Tue,_06/10",
         3209.6
        ],
        [
         "MWh",
         "2480.6",
         "Wed,_06/11",
         3667.7
        ],
        [
         "9 - 10",
         "EUR/MWh",
         "Fri,_06/06",
         8.44
        ],
        [
         "9 - 10",
         "EUR/MWh",
         "Sat,_06/07",
         59.48
        ],
        [
         "9 - 10",
         "EUR/MWh",
         "Sun,_06/08",
         -0.5
        ],
        [
         "9 - 10",
         "EUR/MWh",
         "Mon,_06/09",
         16.3
        ],
        [
         "9 - 10",
         "EUR/MWh",
         "Tue,_06/10",
         65.81
        ],
        [
         "9 - 10",
         "EUR/MWh",
         "Wed,_06/11",
         59.79
        ],
        [
         "9 - 10",
         "EUR/MWh",
         "Thu,_06/12",
         36.67
        ],
        [
         "MWh",
         "2478.5",
         "Fri,_06/06",
         3441.6
        ],
        [
         "MWh",
         "2478.5",
         "Sat,_06/07",
         3532.7
        ],
        [
         "MWh",
         "2478.5",
         "Sun,_06/08",
         2844.8
        ],
        [
         "MWh",
         "2478.5",
         "Mon,_06/09",
         2962.9
        ],
        [
         "MWh",
         "2478.5",
         "Tue,_06/10",
         3485.0
        ],
        [
         "MWh",
         "2478.5",
         "Wed,_06/11",
         4037.0
        ],
        [
         "10 - 11",
         "EUR/MWh",
         "Fri,_06/06",
         0.04
        ],
        [
         "10 - 11",
         "EUR/MWh",
         "Sat,_06/07",
         13.71
        ],
        [
         "10 - 11",
         "EUR/MWh",
         "Sun,_06/08",
         -2.0
        ],
        [
         "10 - 11",
         "EUR/MWh",
         "Mon,_06/09",
         9.85
        ],
        [
         "10 - 11",
         "EUR/MWh",
         "Tue,_06/10",
         23.09
        ],
        [
         "10 - 11",
         "EUR/MWh",
         "Wed,_06/11",
         20.0
        ],
        [
         "10 - 11",
         "EUR/MWh",
         "Thu,_06/12",
         0.01
        ],
        [
         "MWh",
         "2994.9",
         "Fri,_06/06",
         2971.7
        ],
        [
         "MWh",
         "2994.9",
         "Sat,_06/07",
         3555.5
        ],
        [
         "MWh",
         "2994.9",
         "Sun,_06/08",
         2735.7
        ],
        [
         "MWh",
         "2994.9",
         "Mon,_06/09",
         2761.3
        ],
        [
         "MWh",
         "2994.9",
         "Tue,_06/10",
         3290.6
        ],
        [
         "MWh",
         "2994.9",
         "Wed,_06/11",
         3782.1
        ],
        [
         "11 - 12",
         "EUR/MWh",
         "Fri,_06/06",
         1.98
        ],
        [
         "11 - 12",
         "EUR/MWh",
         "Sat,_06/07",
         9.44
        ],
        [
         "11 - 12",
         "EUR/MWh",
         "Sun,_06/08",
         -0.01
        ],
        [
         "11 - 12",
         "EUR/MWh",
         "Mon,_06/09",
         14.56
        ],
        [
         "11 - 12",
         "EUR/MWh",
         "Tue,_06/10",
         8.75
        ],
        [
         "11 - 12",
         "EUR/MWh",
         "Wed,_06/11",
         4.38
        ],
        [
         "11 - 12",
         "EUR/MWh",
         "Thu,_06/12",
         7.0
        ],
        [
         "MWh",
         "3389.2",
         "Fri,_06/06",
         2767.2
        ],
        [
         "MWh",
         "3389.2",
         "Sat,_06/07",
         3942.3
        ],
        [
         "MWh",
         "3389.2",
         "Sun,_06/08",
         3314.3
        ],
        [
         "MWh",
         "3389.2",
         "Mon,_06/09",
         3945.8
        ],
        [
         "MWh",
         "3389.2",
         "Tue,_06/10",
         3588.9
        ],
        [
         "MWh",
         "3389.2",
         "Wed,_06/11",
         4066.6
        ],
        [
         "12 - 13",
         "EUR/MWh",
         "Fri,_06/06",
         12.73
        ],
        [
         "12 - 13",
         "EUR/MWh",
         "Sat,_06/07",
         1.19
        ],
        [
         "12 - 13",
         "EUR/MWh",
         "Sun,_06/08",
         0.0
        ],
        [
         "12 - 13",
         "EUR/MWh",
         "Mon,_06/09",
         12.57
        ],
        [
         "12 - 13",
         "EUR/MWh",
         "Tue,_06/10",
         11.5
        ],
        [
         "12 - 13",
         "EUR/MWh",
         "Wed,_06/11",
         8.36
        ],
        [
         "12 - 13",
         "EUR/MWh",
         "Thu,_06/12",
         13.95
        ],
        [
         "MWh",
         "3183.8",
         "Fri,_06/06",
         3302.7
        ],
        [
         "MWh",
         "3183.8",
         "Sat,_06/07",
         3976.1
        ],
        [
         "MWh",
         "3183.8",
         "Sun,_06/08",
         3501.6
        ],
        [
         "MWh",
         "3183.8",
         "Mon,_06/09",
         3996.0
        ],
        [
         "MWh",
         "3183.8",
         "Tue,_06/10",
         3558.0
        ],
        [
         "MWh",
         "3183.8",
         "Wed,_06/11",
         3791.6
        ],
        [
         "13 - 14",
         "EUR/MWh",
         "Fri,_06/06",
         28.47
        ],
        [
         "13 - 14",
         "EUR/MWh",
         "Sat,_06/07",
         -0.01
        ],
        [
         "13 - 14",
         "EUR/MWh",
         "Sun,_06/08",
         0.0
        ],
        [
         "13 - 14",
         "EUR/MWh",
         "Mon,_06/09",
         10.7
        ],
        [
         "13 - 14",
         "EUR/MWh",
         "Tue,_06/10",
         14.05
        ],
        [
         "13 - 14",
         "EUR/MWh",
         "Wed,_06/11",
         10.23
        ],
        [
         "13 - 14",
         "EUR/MWh",
         "Thu,_06/12",
         15.0
        ],
        [
         "MWh",
         "2934.8",
         "Fri,_06/06",
         3880.3
        ],
        [
         "MWh",
         "2934.8",
         "Sat,_06/07",
         3958.1
        ],
        [
         "MWh",
         "2934.8",
         "Sun,_06/08",
         3731.8
        ],
        [
         "MWh",
         "2934.8",
         "Mon,_06/09",
         4049.9
        ],
        [
         "MWh",
         "2934.8",
         "Tue,_06/10",
         3625.4
        ],
        [
         "MWh",
         "2934.8",
         "Wed,_06/11",
         4101.2
        ],
        [
         "14 - 15",
         "EUR/MWh",
         "Fri,_06/06",
         24.7
        ],
        [
         "14 - 15",
         "EUR/MWh",
         "Sat,_06/07",
         -0.02
        ],
        [
         "14 - 15",
         "EUR/MWh",
         "Sun,_06/08",
         0.0
        ],
        [
         "14 - 15",
         "EUR/MWh",
         "Mon,_06/09",
         6.91
        ],
        [
         "14 - 15",
         "EUR/MWh",
         "Tue,_06/10",
         30.39
        ],
        [
         "14 - 15",
         "EUR/MWh",
         "Wed,_06/11",
         15.07
        ],
        [
         "14 - 15",
         "EUR/MWh",
         "Thu,_06/12",
         31.86
        ],
        [
         "MWh",
         "2973.8",
         "Fri,_06/06",
         3889.5
        ],
        [
         "MWh",
         "2973.8",
         "Sat,_06/07",
         3986.9
        ],
        [
         "MWh",
         "2973.8",
         "Sun,_06/08",
         3969.6
        ],
        [
         "MWh",
         "2973.8",
         "Mon,_06/09",
         3657.4
        ],
        [
         "MWh",
         "2973.8",
         "Tue,_06/10",
         3383.2
        ],
        [
         "MWh",
         "2973.8",
         "Wed,_06/11",
         3992.2
        ],
        [
         "15 - 16",
         "EUR/MWh",
         "Fri,_06/06",
         42.08
        ],
        [
         "15 - 16",
         "EUR/MWh",
         "Sat,_06/07",
         -0.02
        ],
        [
         "15 - 16",
         "EUR/MWh",
         "Sun,_06/08",
         0.59
        ],
        [
         "15 - 16",
         "EUR/MWh",
         "Mon,_06/09",
         7.05
        ],
        [
         "15 - 16",
         "EUR/MWh",
         "Tue,_06/10",
         62.32
        ],
        [
         "15 - 16",
         "EUR/MWh",
         "Wed,_06/11",
         33.52
        ],
        [
         "15 - 16",
         "EUR/MWh",
         "Thu,_06/12",
         40.34
        ],
        [
         "MWh",
         "2918.7",
         "Fri,_06/06",
         3841.1
        ],
        [
         "MWh",
         "2918.7",
         "Sat,_06/07",
         3948.8
        ],
        [
         "MWh",
         "2918.7",
         "Sun,_06/08",
         3970.7
        ],
        [
         "MWh",
         "2918.7",
         "Mon,_06/09",
         2734.8
        ],
        [
         "MWh",
         "2918.7",
         "Tue,_06/10",
         2815.1
        ],
        [
         "MWh",
         "2918.7",
         "Wed,_06/11",
         3602.4
        ],
        [
         "16 - 17",
         "EUR/MWh",
         "Fri,_06/06",
         82.1
        ],
        [
         "16 - 17",
         "EUR/MWh",
         "Sat,_06/07",
         5.09
        ],
        [
         "16 - 17",
         "EUR/MWh",
         "Sun,_06/08",
         14.45
        ],
        [
         "16 - 17",
         "EUR/MWh",
         "Mon,_06/09",
         10.0
        ],
        [
         "16 - 17",
         "EUR/MWh",
         "Tue,_06/10",
         89.13
        ],
        [
         "16 - 17",
         "EUR/MWh",
         "Wed,_06/11",
         79.2
        ],
        [
         "16 - 17",
         "EUR/MWh",
         "Thu,_06/12",
         63.75
        ],
        [
         "MWh",
         "2780.9",
         "Fri,_06/06",
         3637.1
        ],
        [
         "MWh",
         "2780.9",
         "Sat,_06/07",
         3624.1
        ],
        [
         "MWh",
         "2780.9",
         "Sun,_06/08",
         3652.0
        ],
        [
         "MWh",
         "2780.9",
         "Mon,_06/09",
         2331.2
        ],
        [
         "MWh",
         "2780.9",
         "Tue,_06/10",
         2730.0
        ],
        [
         "MWh",
         "2780.9",
         "Wed,_06/11",
         2892.3
        ],
        [
         "17 - 18",
         "EUR/MWh",
         "Fri,_06/06",
         138.02
        ],
        [
         "17 - 18",
         "EUR/MWh",
         "Sat,_06/07",
         89.21
        ],
        [
         "17 - 18",
         "EUR/MWh",
         "Sun,_06/08",
         91.58
        ],
        [
         "17 - 18",
         "EUR/MWh",
         "Mon,_06/09",
         87.84
        ],
        [
         "17 - 18",
         "EUR/MWh",
         "Tue,_06/10",
         105.72
        ],
        [
         "17 - 18",
         "EUR/MWh",
         "Wed,_06/11",
         104.96
        ],
        [
         "17 - 18",
         "EUR/MWh",
         "Thu,_06/12",
         91.33
        ],
        [
         "MWh",
         "2644.7",
         "Fri,_06/06",
         2668.2
        ],
        [
         "MWh",
         "2644.7",
         "Sat,_06/07",
         2584.9
        ],
        [
         "MWh",
         "2644.7",
         "Sun,_06/08",
         3015.3
        ],
        [
         "MWh",
         "2644.7",
         "Mon,_06/09",
         2514.9
        ],
        [
         "MWh",
         "2644.7",
         "Tue,_06/10",
         2599.6
        ],
        [
         "MWh",
         "2644.7",
         "Wed,_06/11",
         2721.2
        ],
        [
         "18 - 19",
         "EUR/MWh",
         "Fri,_06/06",
         211.38
        ],
        [
         "18 - 19",
         "EUR/MWh",
         "Sat,_06/07",
         135.63
        ],
        [
         "18 - 19",
         "EUR/MWh",
         "Sun,_06/08",
         157.8
        ],
        [
         "18 - 19",
         "EUR/MWh",
         "Mon,_06/09",
         122.93
        ],
        [
         "18 - 19",
         "EUR/MWh",
         "Tue,_06/10",
         136.56
        ],
        [
         "18 - 19",
         "EUR/MWh",
         "Wed,_06/11",
         141.78
        ],
        [
         "18 - 19",
         "EUR/MWh",
         "Thu,_06/12",
         130.91
        ],
        [
         "MWh",
         "2785.3",
         "Fri,_06/06",
         1994.8
        ],
        [
         "MWh",
         "2785.3",
         "Sat,_06/07",
         1931.3
        ],
        [
         "MWh",
         "2785.3",
         "Sun,_06/08",
         2389.1
        ],
        [
         "MWh",
         "2785.3",
         "Mon,_06/09",
         2651.3
        ],
        [
         "MWh",
         "2785.3",
         "Tue,_06/10",
         2332.9
        ],
        [
         "MWh",
         "2785.3",
         "Wed,_06/11",
         3108.0
        ],
        [
         "19 - 20",
         "EUR/MWh",
         "Fri,_06/06",
         146.92
        ],
        [
         "19 - 20",
         "EUR/MWh",
         "Sat,_06/07",
         196.03
        ],
        [
         "19 - 20",
         "EUR/MWh",
         "Sun,_06/08",
         151.36
        ],
        [
         "19 - 20",
         "EUR/MWh",
         "Mon,_06/09",
         160.22
        ],
        [
         "19 - 20",
         "EUR/MWh",
         "Tue,_06/10",
         201.98
        ],
        [
         "19 - 20",
         "EUR/MWh",
         "Wed,_06/11",
         150.59
        ],
        [
         "19 - 20",
         "EUR/MWh",
         "Thu,_06/12",
         189.44
        ],
        [
         "MWh",
         "2485.6",
         "Fri,_06/06",
         2745.8
        ],
        [
         "MWh",
         "2485.6",
         "Sat,_06/07",
         2103.6
        ],
        [
         "MWh",
         "2485.6",
         "Sun,_06/08",
         2660.1
        ],
        [
         "MWh",
         "2485.6",
         "Mon,_06/09",
         2775.0
        ],
        [
         "MWh",
         "2485.6",
         "Tue,_06/10",
         2668.5
        ],
        [
         "MWh",
         "2485.6",
         "Wed,_06/11",
         3727.5
        ],
        [
         "20 - 21",
         "EUR/MWh",
         "Fri,_06/06",
         190.19
        ],
        [
         "20 - 21",
         "EUR/MWh",
         "Sat,_06/07",
         225.36
        ],
        [
         "20 - 21",
         "EUR/MWh",
         "Sun,_06/08",
         177.62
        ],
        [
         "20 - 21",
         "EUR/MWh",
         "Mon,_06/09",
         226.02
        ],
        [
         "20 - 21",
         "EUR/MWh",
         "Tue,_06/10",
         233.45
        ],
        [
         "20 - 21",
         "EUR/MWh",
         "Wed,_06/11",
         219.16
        ],
        [
         "20 - 21",
         "EUR/MWh",
         "Thu,_06/12",
         220.26
        ],
        [
         "MWh",
         "2535",
         "Fri,_06/06",
         2907.7
        ],
        [
         "MWh",
         "2535",
         "Sat,_06/07",
         2086.4
        ],
        [
         "MWh",
         "2535",
         "Sun,_06/08",
         2788.0
        ],
        [
         "MWh",
         "2535",
         "Mon,_06/09",
         2763.3
        ],
        [
         "MWh",
         "2535",
         "Tue,_06/10",
         2725.4
        ],
        [
         "MWh",
         "2535",
         "Wed,_06/11",
         3606.4
        ],
        [
         "21 - 22",
         "EUR/MWh",
         "Fri,_06/06",
         136.97
        ],
        [
         "21 - 22",
         "EUR/MWh",
         "Sat,_06/07",
         163.26
        ],
        [
         "21 - 22",
         "EUR/MWh",
         "Sun,_06/08",
         159.02
        ],
        [
         "21 - 22",
         "EUR/MWh",
         "Mon,_06/09",
         163.47
        ],
        [
         "21 - 22",
         "EUR/MWh",
         "Tue,_06/10",
         139.09
        ],
        [
         "21 - 22",
         "EUR/MWh",
         "Wed,_06/11",
         185.7
        ],
        [
         "21 - 22",
         "EUR/MWh",
         "Thu,_06/12",
         152.25
        ],
        [
         "MWh",
         "2559.2",
         "Fri,_06/06",
         2862.9
        ],
        [
         "MWh",
         "2559.2",
         "Sat,_06/07",
         2219.1
        ],
        [
         "MWh",
         "2559.2",
         "Sun,_06/08",
         2858.4
        ],
        [
         "MWh",
         "2559.2",
         "Mon,_06/09",
         2671.0
        ],
        [
         "MWh",
         "2559.2",
         "Tue,_06/10",
         2979.1
        ],
        [
         "MWh",
         "2559.2",
         "Wed,_06/11",
         2872.9
        ],
        [
         "22 - 23",
         "EUR/MWh",
         "Fri,_06/06",
         125.37
        ],
        [
         "22 - 23",
         "EUR/MWh",
         "Sat,_06/07",
         123.32
        ],
        [
         "22 - 23",
         "EUR/MWh",
         "Sun,_06/08",
         124.71
        ],
        [
         "22 - 23",
         "EUR/MWh",
         "Mon,_06/09",
         124.85
        ],
        [
         "22 - 23",
         "EUR/MWh",
         "Tue,_06/10",
         102.18
        ],
        [
         "22 - 23",
         "EUR/MWh",
         "Wed,_06/11",
         123.18
        ],
        [
         "22 - 23",
         "EUR/MWh",
         "Thu,_06/12",
         127.74
        ],
        [
         "MWh",
         "2542",
         "Fri,_06/06",
         2139.3
        ],
        [
         "MWh",
         "2542",
         "Sat,_06/07",
         2322.1
        ],
        [
         "MWh",
         "2542",
         "Sun,_06/08",
         2312.8
        ],
        [
         "MWh",
         "2542",
         "Mon,_06/09",
         2470.3
        ],
        [
         "MWh",
         "2542",
         "Tue,_06/10",
         2612.1
        ],
        [
         "MWh",
         "2542",
         "Wed,_06/11",
         2679.5
        ],
        [
         "23 - 24",
         "EUR/MWh",
         "Fri,_06/06",
         109.17
        ],
        [
         "23 - 24",
         "EUR/MWh",
         "Sat,_06/07",
         118.45
        ],
        [
         "23 - 24",
         "EUR/MWh",
         "Sun,_06/08",
         100.94
        ],
        [
         "23 - 24",
         "EUR/MWh",
         "Mon,_06/09",
         106.28
        ],
        [
         "23 - 24",
         "EUR/MWh",
         "Tue,_06/10",
         97.75
        ],
        [
         "23 - 24",
         "EUR/MWh",
         "Wed,_06/11",
         103.67
        ],
        [
         "23 - 24",
         "EUR/MWh",
         "Thu,_06/12",
         107.26
        ],
        [
         "MWh",
         "2520.4",
         "Fri,_06/06",
         2235.2
        ],
        [
         "MWh",
         "2520.4",
         "Sat,_06/07",
         2985.5
        ],
        [
         "MWh",
         "2520.4",
         "Sun,_06/08",
         2217.3
        ],
        [
         "MWh",
         "2520.4",
         "Mon,_06/09",
         2413.2
        ],
        [
         "MWh",
         "2520.4",
         "Tue,_06/10",
         3198.5
        ],
        [
         "MWh",
         "2520.4",
         "Wed,_06/11",
         3003.0
        ]
       ],
       "datasetInfos": [],
       "dbfsResultPath": null,
       "isJsonSchema": true,
       "metadata": {},
       "overflow": false,
       "plotOptions": {
        "customPlotOptions": {},
        "displayType": "table",
        "pivotAggregation": null,
        "pivotColumns": null,
        "xColumns": null,
        "yColumns": null
       },
       "removedWidgets": [],
       "schema": [
        {
         "metadata": "{}",
         "name": "hour",
         "type": "\"string\""
        },
        {
         "metadata": "{}",
         "name": "metric",
         "type": "\"string\""
        },
        {
         "metadata": "{}",
         "name": "date",
         "type": "\"string\""
        },
        {
         "metadata": "{}",
         "name": "value",
         "type": "\"float\""
        }
       ],
       "type": "table"
      }
     },
     "output_type": "display_data"
    }
   ],
   "source": [
    "from pyspark.sql import SparkSession\n",
    "from pyspark.sql.types import StructType, StructField, StringType, FloatType\n",
    "from pyspark.sql.functions import col\n",
    "from bs4 import BeautifulSoup\n",
    "from selenium import webdriver\n",
    "from selenium.webdriver.chrome.service import Service\n",
    "from webdriver_manager.chrome import ChromeDriverManager\n",
    "from selenium.webdriver.chrome.options import Options\n",
    " \n",
    "# Initialize Spark session\n",
    "spark = SparkSession.builder.appName(\"WebScrapeTablesSelenium\").getOrCreate()\n",
    " \n",
    "# Function to clean numeric values\n",
    "def clean_numeric(value):\n",
    "    try:\n",
    "        # Remove spaces and convert to float\n",
    "        cleaned = value.replace(\" \", \"\").replace(\",\", \".\")\n",
    "        return float(cleaned) if cleaned else 0.0\n",
    "    except ValueError:\n",
    "        return 0.0\n",
    " \n",
    "# Function to scrape and parse table data using Selenium\n",
    "def scrape_and_parse_table(url, table_index, table_name):\n",
    "    # Set up Selenium with headless Chrome\n",
    "    chrome_options = Options()\n",
    "    chrome_options.add_argument(\"--headless\")\n",
    "    chrome_options.add_argument(\"--no-sandbox\")\n",
    "    chrome_options.add_argument(\"--disable-dev-shm-usage\")\n",
    "    # Explicitly set Chrome binary path\n",
    "    chrome_options.binary_location = \"/usr/bin/google-chrome\"\n",
    "   \n",
    "    # Initialize Chrome driver\n",
    "    driver = webdriver.Chrome(service=Service(ChromeDriverManager().install()), options=chrome_options)\n",
    "   \n",
    "    try:\n",
    "        # Load webpage\n",
    "        driver.get(url)\n",
    "        # Wait for JavaScript to render\n",
    "        driver.implicitly_wait(10)\n",
    "       \n",
    "        # Get page source and parse with BeautifulSoup\n",
    "        soup = BeautifulSoup(driver.page_source, \"html.parser\")\n",
    "        tables = soup.find_all(\"table\")\n",
    "       \n",
    "        # Debug: Print number of tables found\n",
    "        print(f\"Found {len(tables)} tables for {table_name}\")\n",
    "       \n",
    "        if table_index >= len(tables):\n",
    "            print(f\"Table index {table_index} not found. Found {len(tables)} tables.\")\n",
    "            return None\n",
    "       \n",
    "        table = tables[table_index]\n",
    "        rows = table.find_all(\"tr\")\n",
    "        headers = [th.get_text().strip().replace(\" \", \"_\") for th in rows[0].find_all(\"th\")][2:]  # Skip first two columns\n",
    "       \n",
    "        data = []\n",
    "        if table_name == \"prices_volumes\":\n",
    "            for row in rows[1:]:\n",
    "                cells = [td.get_text().strip() for td in row.find_all(\"td\")]\n",
    "                metric = cells[0]\n",
    "                values = cells[2:]  # Skip first two columns\n",
    "                for date, value in zip(headers, values):\n",
    "                    data.append((metric, date, clean_numeric(value)))\n",
    "           \n",
    "            schema = StructType([\n",
    "                StructField(\"metric\", StringType(), False),\n",
    "                StructField(\"date\", StringType(), False),\n",
    "                StructField(\"value\", FloatType(), False)\n",
    "            ])\n",
    "            df = spark.createDataFrame(data, schema)\n",
    "            return df\n",
    "       \n",
    "        elif table_name == \"block_products\":\n",
    "            for row in rows[1:]:\n",
    "                cells = [td.get_text().strip() for td in row.find_all(\"td\")]\n",
    "                product = cells[0]\n",
    "                values = cells[2:]  # Skip first two columns\n",
    "                for date, value in zip(headers, values):\n",
    "                    data.append((product, date, clean_numeric(value)))\n",
    "           \n",
    "            schema = StructType([\n",
    "                StructField(\"product\", StringType(), False),\n",
    "                StructField(\"date\", StringType(), False),\n",
    "                StructField(\"price\", FloatType(), False)\n",
    "            ])\n",
    "            df = spark.createDataFrame(data, schema)\n",
    "            return df\n",
    "       \n",
    "        elif table_name == \"hourly_products\":\n",
    "            current_hour = \"\"\n",
    "            for row in rows[1:]:\n",
    "                cells = [td.get_text().strip() for td in row.find_all(\"td\")]\n",
    "                if cells[0]:  # New hour\n",
    "                    current_hour = cells[0]\n",
    "                metric = cells[1]\n",
    "                values = cells[2:]  # Skip first two columns\n",
    "                for date, value in zip(headers, values):\n",
    "                    data.append((current_hour, metric, date, clean_numeric(value)))\n",
    "           \n",
    "            schema = StructType([\n",
    "                StructField(\"hour\", StringType(), False),\n",
    "                StructField(\"metric\", StringType(), False),\n",
    "                StructField(\"date\", StringType(), False),\n",
    "                StructField(\"value\", FloatType(), False)\n",
    "            ])\n",
    "            df = spark.createDataFrame(data, schema)\n",
    "            return df\n",
    "   \n",
    "    finally:\n",
    "        driver.quit()\n",
    " \n",
    "# URL to scrape\n",
    "url = \"https://ibex.bg/markets/dam/day-ahead-prices-and-volumes-v2-0-2/\"\n",
    " \n",
    "# Process and save each table\n",
    "prices_volumes_df = scrape_and_parse_table(url, 0, \"prices_volumes\")\n",
    "if prices_volumes_df:\n",
    "    prices_volumes_df.write.mode(\"overwrite\").format(\"delta\").saveAsTable(\"prices_volumes_table\")\n",
    "    display(prices_volumes_df)\n",
    " \n",
    "block_products_df = scrape_and_parse_table(url, 1, \"block_products\")\n",
    "if block_products_df:\n",
    "    block_products_df.write.mode(\"overwrite\").format(\"delta\").saveAsTable(\"block_products_table\")\n",
    "    display(block_products_df)\n",
    " \n",
    "hourly_products_df = scrape_and_parse_table(url, 2, \"hourly_products\")\n",
    "if hourly_products_df:\n",
    "    hourly_products_df.write.mode(\"overwrite\").format(\"delta\").saveAsTable(\"hourly_products_table\")\n",
    "    display(hourly_products_df)\n",
    " \n",
    " "
   ]
  }
 ],
 "metadata": {
  "application/vnd.databricks.v1+notebook": {
   "computePreferences": null,
   "dashboards": [],
   "environmentMetadata": {
    "base_environment": "",
    "environment_version": "1"
   },
   "inputWidgetPreferences": null,
   "language": "python",
   "notebookMetadata": {
    "mostRecentlyExecutedCommandWithImplicitDF": {
     "commandId": 784150631028269,
     "dataframes": [
      "_sqldf"
     ]
    },
    "pythonIndentUnit": 4
   },
   "notebookName": "ibex_scraper",
   "widgets": {}
  }
 },
 "nbformat": 4,
 "nbformat_minor": 0
}